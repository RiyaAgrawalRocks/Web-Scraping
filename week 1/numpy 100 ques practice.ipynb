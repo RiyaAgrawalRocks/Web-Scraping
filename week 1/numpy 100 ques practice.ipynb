{
 "cells": [
  {
   "cell_type": "markdown",
   "id": "6293cc50",
   "metadata": {},
   "source": [
    "# 100 numpy exercises\n",
    "\n",
    "This is a collection of exercises that have been collected in the numpy mailing list, on stack overflow\n",
    "and in the numpy documentation. The goal of this collection is to offer a quick reference for both old\n",
    "and new users but also to provide a set of exercises for those who teach.\n",
    "\n",
    "\n",
    "If you find an error or think you've a better way to solve some of them, feel\n",
    "free to open an issue at <https://github.com/rougier/numpy-100>."
   ]
  },
  {
   "cell_type": "markdown",
   "id": "a167c052",
   "metadata": {},
   "source": [
    "File automatically generated. See the documentation to update questions/answers/hints programmatically."
   ]
  },
  {
   "cell_type": "markdown",
   "id": "57fc0ee5",
   "metadata": {},
   "source": [
    "Run the `initialize.py` module, then for each question you can query the\n",
    "answer or an hint with `hint(n)` or `answer(n)` for `n` question number."
   ]
  },
  {
   "cell_type": "code",
   "execution_count": 2,
   "id": "3d46fba2",
   "metadata": {},
   "outputs": [],
   "source": [
    "%run initialise.py"
   ]
  },
  {
   "cell_type": "markdown",
   "id": "3c1222ff",
   "metadata": {},
   "source": [
    "#### 1. Import the numpy package under the name `np` (★☆☆)"
   ]
  },
  {
   "cell_type": "code",
   "execution_count": 2,
   "id": "f52e6a0b",
   "metadata": {},
   "outputs": [],
   "source": [
    "import numpy as np"
   ]
  },
  {
   "cell_type": "markdown",
   "id": "9d9f4753",
   "metadata": {},
   "source": [
    "#### 2. Print the numpy version and the configuration (★☆☆)"
   ]
  },
  {
   "cell_type": "code",
   "execution_count": 11,
   "id": "b7fa5fa1",
   "metadata": {},
   "outputs": [
    {
     "name": "stdout",
     "output_type": "stream",
     "text": [
      "1.26.4\n",
      "Build Dependencies:\n",
      "  blas:\n",
      "    detection method: pkgconfig\n",
      "    found: true\n",
      "    include directory: C:/ProgramData/anaconda3/Library/include\n",
      "    lib directory: C:/ProgramData/anaconda3/Library/lib\n",
      "    name: mkl-sdl\n",
      "    openblas configuration: unknown\n",
      "    pc file directory: C:\\b\\abs_c1ywpu18ar\\croot\\numpy_and_numpy_base_1708638681471\\_h_env\\Library\\lib\\pkgconfig\n",
      "    version: '2023.1'\n",
      "  lapack:\n",
      "    detection method: internal\n",
      "    found: true\n",
      "    include directory: unknown\n",
      "    lib directory: unknown\n",
      "    name: dep1583119523984\n",
      "    openblas configuration: unknown\n",
      "    pc file directory: unknown\n",
      "    version: 1.26.4\n",
      "Compilers:\n",
      "  c:\n",
      "    commands: cl.exe\n",
      "    linker: link\n",
      "    name: msvc\n",
      "    version: 19.29.30154\n",
      "  c++:\n",
      "    commands: cl.exe\n",
      "    linker: link\n",
      "    name: msvc\n",
      "    version: 19.29.30154\n",
      "  cython:\n",
      "    commands: cython\n",
      "    linker: cython\n",
      "    name: cython\n",
      "    version: 3.0.8\n",
      "Machine Information:\n",
      "  build:\n",
      "    cpu: x86_64\n",
      "    endian: little\n",
      "    family: x86_64\n",
      "    system: windows\n",
      "  host:\n",
      "    cpu: x86_64\n",
      "    endian: little\n",
      "    family: x86_64\n",
      "    system: windows\n",
      "Python Information:\n",
      "  path: C:\\b\\abs_c1ywpu18ar\\croot\\numpy_and_numpy_base_1708638681471\\_h_env\\python.exe\n",
      "  version: '3.12'\n",
      "SIMD Extensions:\n",
      "  baseline:\n",
      "  - SSE\n",
      "  - SSE2\n",
      "  - SSE3\n",
      "  found:\n",
      "  - SSSE3\n",
      "  - SSE41\n",
      "  - POPCNT\n",
      "  - SSE42\n",
      "  - AVX\n",
      "  - F16C\n",
      "  - FMA3\n",
      "  - AVX2\n",
      "  not found:\n",
      "  - AVX512F\n",
      "  - AVX512CD\n",
      "  - AVX512_SKX\n",
      "  - AVX512_CLX\n",
      "  - AVX512_CNL\n",
      "  - AVX512_ICL\n",
      "\n"
     ]
    }
   ],
   "source": [
    "print(np.__version__)\n",
    "np.show_config()"
   ]
  },
  {
   "cell_type": "markdown",
   "id": "3e4c23c6",
   "metadata": {},
   "source": [
    "#### 3. Create a null vector of size 10 (★☆☆)"
   ]
  },
  {
   "cell_type": "code",
   "execution_count": 15,
   "id": "083c5c46",
   "metadata": {},
   "outputs": [
    {
     "name": "stdout",
     "output_type": "stream",
     "text": [
      "[0. 0. 0. 0. 0. 0. 0. 0. 0. 0.]\n"
     ]
    }
   ],
   "source": [
    "arr=np.zeros(10)\n",
    "print(arr)"
   ]
  },
  {
   "cell_type": "markdown",
   "id": "c38bbe82",
   "metadata": {},
   "source": [
    "#### 4. How to find the memory size of any array (★☆☆)"
   ]
  },
  {
   "cell_type": "code",
   "execution_count": 17,
   "id": "02b04021",
   "metadata": {},
   "outputs": [
    {
     "name": "stdout",
     "output_type": "stream",
     "text": [
      "800 bytes\n"
     ]
    }
   ],
   "source": [
    "arr=np.zeros((10,10))\n",
    "print(\"%d bytes\" % (arr.size * arr.itemsize))"
   ]
  },
  {
   "cell_type": "markdown",
   "id": "67f893d4",
   "metadata": {},
   "source": [
    "#### 5. How to get the documentation of the numpy add function from the command line? (★☆☆)"
   ]
  },
  {
   "cell_type": "code",
   "execution_count": 19,
   "id": "40e6b70d",
   "metadata": {},
   "outputs": [
    {
     "name": "stdout",
     "output_type": "stream",
     "text": [
      "add(x1, x2, /, out=None, *, where=True, casting='same_kind', order='K', dtype=None, subok=True[, signature, extobj])\n",
      "\n",
      "Add arguments element-wise.\n",
      "\n",
      "Parameters\n",
      "----------\n",
      "x1, x2 : array_like\n",
      "    The arrays to be added.\n",
      "    If ``x1.shape != x2.shape``, they must be broadcastable to a common\n",
      "    shape (which becomes the shape of the output).\n",
      "out : ndarray, None, or tuple of ndarray and None, optional\n",
      "    A location into which the result is stored. If provided, it must have\n",
      "    a shape that the inputs broadcast to. If not provided or None,\n",
      "    a freshly-allocated array is returned. A tuple (possible only as a\n",
      "    keyword argument) must have length equal to the number of outputs.\n",
      "where : array_like, optional\n",
      "    This condition is broadcast over the input. At locations where the\n",
      "    condition is True, the `out` array will be set to the ufunc result.\n",
      "    Elsewhere, the `out` array will retain its original value.\n",
      "    Note that if an uninitialized `out` array is created via the default\n",
      "    ``out=None``, locations within it where the condition is False will\n",
      "    remain uninitialized.\n",
      "**kwargs\n",
      "    For other keyword-only arguments, see the\n",
      "    :ref:`ufunc docs <ufuncs.kwargs>`.\n",
      "\n",
      "Returns\n",
      "-------\n",
      "add : ndarray or scalar\n",
      "    The sum of `x1` and `x2`, element-wise.\n",
      "    This is a scalar if both `x1` and `x2` are scalars.\n",
      "\n",
      "Notes\n",
      "-----\n",
      "Equivalent to `x1` + `x2` in terms of array broadcasting.\n",
      "\n",
      "Examples\n",
      "--------\n",
      ">>> np.add(1.0, 4.0)\n",
      "5.0\n",
      ">>> x1 = np.arange(9.0).reshape((3, 3))\n",
      ">>> x2 = np.arange(3.0)\n",
      ">>> np.add(x1, x2)\n",
      "array([[  0.,   2.,   4.],\n",
      "       [  3.,   5.,   7.],\n",
      "       [  6.,   8.,  10.]])\n",
      "\n",
      "The ``+`` operator can be used as a shorthand for ``np.add`` on ndarrays.\n",
      "\n",
      ">>> x1 = np.arange(9.0).reshape((3, 3))\n",
      ">>> x2 = np.arange(3.0)\n",
      ">>> x1 + x2\n",
      "array([[ 0.,  2.,  4.],\n",
      "       [ 3.,  5.,  7.],\n",
      "       [ 6.,  8., 10.]])\n"
     ]
    }
   ],
   "source": [
    "np.info(np.add)"
   ]
  },
  {
   "cell_type": "markdown",
   "id": "e0c739c6",
   "metadata": {},
   "source": [
    "#### 6. Create a null vector of size 10 but the fifth value which is 1 (★☆☆)"
   ]
  },
  {
   "cell_type": "code",
   "execution_count": 20,
   "id": "bcceacf7",
   "metadata": {},
   "outputs": [
    {
     "name": "stdout",
     "output_type": "stream",
     "text": [
      "[0. 0. 0. 0. 1. 0. 0. 0. 0. 0.]\n"
     ]
    }
   ],
   "source": [
    "arr=np.zeros(10)\n",
    "arr[4]=1\n",
    "print(arr)"
   ]
  },
  {
   "cell_type": "markdown",
   "id": "fbebedab",
   "metadata": {},
   "source": [
    "#### 7. Create a vector with values ranging from 10 to 49 (★☆☆)"
   ]
  },
  {
   "cell_type": "code",
   "execution_count": 22,
   "id": "4453b5de-fda2-44e6-a871-2f33edb4a111",
   "metadata": {},
   "outputs": [
    {
     "name": "stdout",
     "output_type": "stream",
     "text": [
      "[10 11 12 13 14 15 16 17 18 19 20 21 22 23 24 25 26 27 28 29 30 31 32 33\n",
      " 34 35 36 37 38 39 40 41 42 43 44 45 46 47 48 49]\n"
     ]
    }
   ],
   "source": [
    "arr=np.arange(10,50)\n",
    "print(arr)"
   ]
  },
  {
   "cell_type": "code",
   "execution_count": null,
   "id": "3d117d54",
   "metadata": {},
   "outputs": [],
   "source": []
  },
  {
   "cell_type": "markdown",
   "id": "ad0bff02",
   "metadata": {},
   "source": [
    "#### 8. Reverse a vector (first element becomes last) (★☆☆)"
   ]
  },
  {
   "cell_type": "code",
   "execution_count": 24,
   "id": "22d23470",
   "metadata": {},
   "outputs": [
    {
     "name": "stdout",
     "output_type": "stream",
     "text": [
      "[9 8 7 6 5 4 3 2 1 0]\n"
     ]
    }
   ],
   "source": [
    "arr=np.arange(10)\n",
    "arr=arr[::-1]\n",
    "print(arr)"
   ]
  },
  {
   "cell_type": "markdown",
   "id": "9f59d7e1",
   "metadata": {},
   "source": [
    "#### 9. Create a 3x3 matrix with values ranging from 0 to 8 (★☆☆)"
   ]
  },
  {
   "cell_type": "code",
   "execution_count": 26,
   "id": "7449e82d",
   "metadata": {},
   "outputs": [
    {
     "name": "stdout",
     "output_type": "stream",
     "text": [
      "[[0 1 2]\n",
      " [3 4 5]\n",
      " [6 7 8]]\n"
     ]
    }
   ],
   "source": [
    "arr=np.arange(9).reshape(3,3)\n",
    "print(arr)"
   ]
  },
  {
   "cell_type": "markdown",
   "id": "f374c4cf",
   "metadata": {},
   "source": [
    "#### 10. Find indices of non-zero elements from [1,2,0,0,4,0] (★☆☆)"
   ]
  },
  {
   "cell_type": "code",
   "execution_count": 31,
   "id": "1a84bed8",
   "metadata": {},
   "outputs": [
    {
     "name": "stdout",
     "output_type": "stream",
     "text": [
      "0\n",
      "1\n",
      "4\n"
     ]
    }
   ],
   "source": [
    "arr=np.array([1,2,0,0,4,0])\n",
    "for k,i in enumerate(arr):\n",
    "    if i>0:\n",
    "        print(k)"
   ]
  },
  {
   "cell_type": "markdown",
   "id": "9c4707f5",
   "metadata": {},
   "source": [
    "#### 11. Create a 3x3 identity matrix (★☆☆)"
   ]
  },
  {
   "cell_type": "code",
   "execution_count": 35,
   "id": "29dc1fd3",
   "metadata": {},
   "outputs": [
    {
     "name": "stdout",
     "output_type": "stream",
     "text": [
      "[[1. 0. 0.]\n",
      " [0. 1. 0.]\n",
      " [0. 0. 1.]]\n"
     ]
    }
   ],
   "source": [
    "arr=np.eye(3)\n",
    "print(arr)"
   ]
  },
  {
   "cell_type": "markdown",
   "id": "3bac294a",
   "metadata": {},
   "source": [
    "#### 12. Create a 3x3x3 array with random values (★☆☆)"
   ]
  },
  {
   "cell_type": "code",
   "execution_count": 37,
   "id": "eadfae67",
   "metadata": {},
   "outputs": [
    {
     "name": "stdout",
     "output_type": "stream",
     "text": [
      "[[[0.06936264 0.31607527 0.23603526]\n",
      "  [0.89898688 0.87059834 0.88603597]\n",
      "  [0.87027432 0.53878979 0.32966971]]\n",
      "\n",
      " [[0.86917941 0.7341051  0.44839329]\n",
      "  [0.93207731 0.72819028 0.7194496 ]\n",
      "  [0.21081332 0.23406293 0.52052152]]\n",
      "\n",
      " [[0.5256742  0.88982743 0.53880856]\n",
      "  [0.84169782 0.75079009 0.31585423]\n",
      "  [0.51904947 0.57352407 0.56939729]]]\n"
     ]
    }
   ],
   "source": [
    "arr=np.random.random((3,3,3))\n",
    "print(arr)"
   ]
  },
  {
   "cell_type": "markdown",
   "id": "466c2989",
   "metadata": {},
   "source": [
    "#### 13. Create a 10x10 array with random values and find the minimum and maximum values (★☆☆)"
   ]
  },
  {
   "cell_type": "code",
   "execution_count": 38,
   "id": "9a74dbfc",
   "metadata": {},
   "outputs": [
    {
     "name": "stdout",
     "output_type": "stream",
     "text": [
      "[[0.14054718 0.27526902 0.34525579 0.22104293 0.03425778 0.67544013\n",
      "  0.57093369 0.45145431 0.98090751 0.84062073]\n",
      " [0.15479096 0.49115196 0.62043905 0.11022776 0.03084    0.8209823\n",
      "  0.61447531 0.56750364 0.9766069  0.39236355]\n",
      " [0.85051845 0.24254278 0.01220569 0.02718767 0.96469835 0.22056819\n",
      "  0.95516425 0.64579488 0.86110881 0.10813672]\n",
      " [0.85342217 0.00804109 0.08424859 0.51704497 0.21955421 0.22443787\n",
      "  0.44368201 0.93504769 0.78146933 0.45742653]\n",
      " [0.35341938 0.88237243 0.31466513 0.30146205 0.92524554 0.56759362\n",
      "  0.41844921 0.81068619 0.92525844 0.41983993]\n",
      " [0.8164079  0.06936434 0.43873268 0.17923332 0.37923731 0.1961089\n",
      "  0.97781727 0.96856945 0.50511061 0.38777646]\n",
      " [0.60515718 0.26206851 0.88925637 0.31011343 0.45873967 0.66066076\n",
      "  0.7439995  0.55045472 0.50264122 0.90202892]\n",
      " [0.43499802 0.22623075 0.74164626 0.90974444 0.93442283 0.79256321\n",
      "  0.70306714 0.61827053 0.84495733 0.18087714]\n",
      " [0.28646208 0.01733263 0.30900111 0.25778075 0.47834196 0.8188503\n",
      "  0.66395242 0.90303185 0.29922483 0.00475872]\n",
      " [0.9218103  0.4829748  0.86597074 0.58186161 0.84312687 0.08693373\n",
      "  0.20498368 0.13160029 0.39908248 0.36214442]]\n",
      "0.9809075105491144\n",
      "0.0047587236583608306\n"
     ]
    }
   ],
   "source": [
    "arr=np.random.random((10,10))\n",
    "print(arr)\n",
    "print(arr.max())\n",
    "print(arr.min())"
   ]
  },
  {
   "cell_type": "markdown",
   "id": "53a8edb2",
   "metadata": {},
   "source": [
    "#### 14. Create a random vector of size 30 and find the mean value (★☆☆)"
   ]
  },
  {
   "cell_type": "code",
   "execution_count": 39,
   "id": "6691530b",
   "metadata": {},
   "outputs": [
    {
     "name": "stdout",
     "output_type": "stream",
     "text": [
      "[0.67363675 0.511499   0.90585825 0.15449078 0.5264197  0.20459322\n",
      " 0.32871099 0.03061008 0.36183016 0.1542667  0.22236167 0.65768176\n",
      " 0.4918094  0.57442379 0.01313664 0.18528675 0.33610085 0.00738583\n",
      " 0.64720478 0.98723203 0.69889994 0.47711732 0.66701747 0.06616326\n",
      " 0.97869023 0.98564207 0.73378025 0.38389144 0.1329733  0.8318241 ]\n",
      "0.4643512840687728\n"
     ]
    }
   ],
   "source": [
    "arr=np.random.random(30)\n",
    "print(arr)\n",
    "print(arr.mean())"
   ]
  },
  {
   "cell_type": "markdown",
   "id": "cbaad31c",
   "metadata": {},
   "source": [
    "#### 15. Create a 2d array with 1 on the border and 0 inside (★☆☆)"
   ]
  },
  {
   "cell_type": "code",
   "execution_count": 48,
   "id": "ad8308e3",
   "metadata": {},
   "outputs": [
    {
     "name": "stdout",
     "output_type": "stream",
     "text": [
      "[[1. 1. 1. 1. 1. 1. 1. 1. 1. 1.]\n",
      " [1. 0. 0. 0. 0. 0. 0. 0. 0. 1.]\n",
      " [1. 0. 0. 0. 0. 0. 0. 0. 0. 1.]\n",
      " [1. 0. 0. 0. 0. 0. 0. 0. 0. 1.]\n",
      " [1. 0. 0. 0. 0. 0. 0. 0. 0. 1.]\n",
      " [1. 0. 0. 0. 0. 0. 0. 0. 0. 1.]\n",
      " [1. 0. 0. 0. 0. 0. 0. 0. 0. 1.]\n",
      " [1. 0. 0. 0. 0. 0. 0. 0. 0. 1.]\n",
      " [1. 0. 0. 0. 0. 0. 0. 0. 0. 1.]\n",
      " [1. 1. 1. 1. 1. 1. 1. 1. 1. 1.]]\n"
     ]
    }
   ],
   "source": [
    "arr=np.ones((10,10))\n",
    "arr[1:-1,1:-1]=0\n",
    "print(arr)"
   ]
  },
  {
   "cell_type": "markdown",
   "id": "c5ecc267",
   "metadata": {},
   "source": [
    "#### 16. How to add a border (filled with 0's) around an existing array? (★☆☆)"
   ]
  },
  {
   "cell_type": "code",
   "execution_count": 70,
   "id": "9d5c78c4",
   "metadata": {},
   "outputs": [
    {
     "name": "stdout",
     "output_type": "stream",
     "text": [
      "[[0. 0. 0. 0. 0.]\n",
      " [0. 1. 1. 1. 0.]\n",
      " [0. 1. 1. 1. 0.]\n",
      " [0. 1. 1. 1. 0.]\n",
      " [0. 0. 0. 0. 0.]]\n"
     ]
    }
   ],
   "source": [
    "arr=np.zeros((5,5))\n",
    "arr[1:-1:,1:-1]=1\n",
    "print(arr)"
   ]
  },
  {
   "cell_type": "code",
   "execution_count": 66,
   "id": "025ef058-8586-428a-a61f-37d64ceb0200",
   "metadata": {},
   "outputs": [
    {
     "name": "stdout",
     "output_type": "stream",
     "text": [
      "Z = np.ones((5,5))\n",
      "Z = np.pad(Z, pad_width=1, mode='constant', constant_values=0)\n",
      "print(Z)\n",
      "\n",
      "# Using fancy indexing\n",
      "Z[:, [0, -1]] = 0\n",
      "Z[[0, -1], :] = 0\n",
      "print(Z)\n"
     ]
    }
   ],
   "source": [
    "answer(16)"
   ]
  },
  {
   "cell_type": "markdown",
   "id": "ef909b72",
   "metadata": {},
   "source": [
    "#### 17. What is the result of the following expression? (★☆☆)\n",
    "```python\n",
    "0 * np.nan\n",
    "np.nan == np.nan\n",
    "np.inf > np.nan\n",
    "np.nan - np.nan\n",
    "np.nan in set([np.nan])\n",
    "0.3 == 3 * 0.1\n",
    "```"
   ]
  },
  {
   "cell_type": "code",
   "execution_count": 72,
   "id": "af1c7670-05c7-4385-8493-56cc79abc1de",
   "metadata": {},
   "outputs": [
    {
     "name": "stdout",
     "output_type": "stream",
     "text": [
      "nan\n",
      "False\n",
      "False\n",
      "nan\n",
      "True\n",
      "False\n"
     ]
    }
   ],
   "source": [
    "print(0 * np.nan)\n",
    "print(np.nan == np.nan)\n",
    "print(np.inf > np.nan)\n",
    "print(np.nan - np.nan)\n",
    "print(np.nan in set([np.nan]))\n",
    "print(0.3 == 3 * 0.1)\n"
   ]
  },
  {
   "cell_type": "code",
   "execution_count": 71,
   "id": "3b4985f2",
   "metadata": {},
   "outputs": [
    {
     "name": "stdout",
     "output_type": "stream",
     "text": [
      "print(0 * np.nan)\n",
      "print(np.nan == np.nan)\n",
      "print(np.inf > np.nan)\n",
      "print(np.nan - np.nan)\n",
      "print(np.nan in set([np.nan]))\n",
      "print(0.3 == 3 * 0.1)\n"
     ]
    }
   ],
   "source": [
    "answer(17)"
   ]
  },
  {
   "cell_type": "markdown",
   "id": "502738ac",
   "metadata": {},
   "source": [
    "#### 18. Create a 5x5 matrix with values 1,2,3,4 just below the diagonal (★☆☆)"
   ]
  },
  {
   "cell_type": "code",
   "execution_count": 87,
   "id": "faed6e2b",
   "metadata": {},
   "outputs": [
    {
     "name": "stdout",
     "output_type": "stream",
     "text": [
      "[[1. 0. 0. 0. 0.]\n",
      " [1. 1. 0. 0. 0.]\n",
      " [0. 2. 1. 0. 0.]\n",
      " [0. 0. 3. 1. 0.]\n",
      " [0. 0. 0. 4. 1.]]\n"
     ]
    }
   ],
   "source": [
    "arr=np.eye(5)\n",
    "for i in range(arr.shape[0]-1):\n",
    "    arr[i+1][i]=i+1\n",
    "print(arr)"
   ]
  },
  {
   "cell_type": "code",
   "execution_count": 90,
   "id": "b48a5a34-2068-4545-94b1-30712e72734a",
   "metadata": {},
   "outputs": [
    {
     "name": "stdout",
     "output_type": "stream",
     "text": [
      "[[0 0 0 0 0]\n",
      " [1 0 0 0 0]\n",
      " [0 2 0 0 0]\n",
      " [0 0 3 0 0]\n",
      " [0 0 0 4 0]]\n"
     ]
    }
   ],
   "source": [
    "arr=np.eye(5)\n",
    "arr=np.diag(1+np.arange(4), k=-1)\n",
    "print(arr)"
   ]
  },
  {
   "cell_type": "code",
   "execution_count": 88,
   "id": "94650a49-51e8-4302-914a-765a4743d903",
   "metadata": {},
   "outputs": [
    {
     "name": "stdout",
     "output_type": "stream",
     "text": [
      "Z = np.diag(1+np.arange(4),k=-1)\n",
      "print(Z)\n"
     ]
    }
   ],
   "source": [
    "answer(18)"
   ]
  },
  {
   "cell_type": "markdown",
   "id": "a65da660",
   "metadata": {},
   "source": [
    "#### 19. Create a 8x8 matrix and fill it with a checkerboard pattern (★☆☆)"
   ]
  },
  {
   "cell_type": "code",
   "execution_count": 95,
   "id": "ed150400",
   "metadata": {},
   "outputs": [
    {
     "name": "stdout",
     "output_type": "stream",
     "text": [
      "[[1. 0. 1. 0. 1. 0. 1. 0.]\n",
      " [0. 1. 0. 1. 0. 1. 0. 1.]\n",
      " [1. 0. 1. 0. 1. 0. 1. 0.]\n",
      " [0. 1. 0. 1. 0. 1. 0. 1.]\n",
      " [1. 0. 1. 0. 1. 0. 1. 0.]\n",
      " [0. 1. 0. 1. 0. 1. 0. 1.]\n",
      " [1. 0. 1. 0. 1. 0. 1. 0.]\n",
      " [0. 1. 0. 1. 0. 1. 0. 1.]]\n"
     ]
    }
   ],
   "source": [
    "arr=np.zeros((8,8))\n",
    "arr[0:8:2, 0:8:2]=1\n",
    "arr[1:8:2, 1:8:2]=1\n",
    "print(arr)"
   ]
  },
  {
   "cell_type": "code",
   "execution_count": 96,
   "id": "980dd544-dc57-47eb-bc83-929a517bed10",
   "metadata": {},
   "outputs": [
    {
     "name": "stdout",
     "output_type": "stream",
     "text": [
      "Z = np.zeros((8,8),dtype=int)\n",
      "Z[1::2,::2] = 1\n",
      "Z[::2,1::2] = 1\n",
      "print(Z)\n"
     ]
    }
   ],
   "source": [
    "answer(19)"
   ]
  },
  {
   "cell_type": "markdown",
   "id": "9f7f9c49",
   "metadata": {},
   "source": [
    "#### 20. Consider a (6,7,8) shape array, what is the index (x,y,z) of the 100th element? (★☆☆)"
   ]
  },
  {
   "cell_type": "code",
   "execution_count": 112,
   "id": "3782b5a9",
   "metadata": {},
   "outputs": [
    {
     "name": "stdout",
     "output_type": "stream",
     "text": [
      "(1, 5, 3)\n"
     ]
    }
   ],
   "source": [
    "print(np.unravel_index(99,(6,7,8)))"
   ]
  },
  {
   "cell_type": "code",
   "execution_count": 110,
   "id": "6feb776f-5a58-4e79-a455-54eedb30c0ad",
   "metadata": {},
   "outputs": [
    {
     "name": "stdout",
     "output_type": "stream",
     "text": [
      "print(np.unravel_index(99,(6,7,8)))\n"
     ]
    }
   ],
   "source": [
    "answer(20)"
   ]
  },
  {
   "cell_type": "markdown",
   "id": "66bfda35",
   "metadata": {},
   "source": [
    "#### 21. Create a checkerboard 8x8 matrix using the tile function (★☆☆)"
   ]
  },
  {
   "cell_type": "code",
   "execution_count": 113,
   "id": "4c07477c",
   "metadata": {},
   "outputs": [
    {
     "name": "stdout",
     "output_type": "stream",
     "text": [
      "[[0 1 0 1 0 1 0 1]\n",
      " [1 0 1 0 1 0 1 0]\n",
      " [0 1 0 1 0 1 0 1]\n",
      " [1 0 1 0 1 0 1 0]\n",
      " [0 1 0 1 0 1 0 1]\n",
      " [1 0 1 0 1 0 1 0]\n",
      " [0 1 0 1 0 1 0 1]\n",
      " [1 0 1 0 1 0 1 0]]\n"
     ]
    }
   ],
   "source": [
    "arr=np.tile([[0,1],[1,0]],[4,4])\n",
    "print(arr)"
   ]
  },
  {
   "cell_type": "markdown",
   "id": "d5bcfc08",
   "metadata": {},
   "source": [
    "#### 22. Normalize a 5x5 random matrix (★☆☆)"
   ]
  },
  {
   "cell_type": "code",
   "execution_count": 116,
   "id": "cea6c993",
   "metadata": {},
   "outputs": [
    {
     "name": "stdout",
     "output_type": "stream",
     "text": [
      "[[ 0.45398163 -1.19027548 -0.09991353  0.4950243   0.59973435]\n",
      " [ 0.28538895 -1.06405072  1.48088253  0.03272965 -1.54682449]\n",
      " [ 0.51729763  1.55946036 -0.61522981  0.63812718 -1.54039369]\n",
      " [ 1.51633465 -1.26401576  0.57110973  1.29420733  0.03185031]\n",
      " [-1.34986657  0.74111215 -0.90560675  0.63021471 -1.27127869]]\n"
     ]
    }
   ],
   "source": [
    "arr=np.random.random((5,5))\n",
    "arr=(arr-np.mean(arr))/np.std(arr)\n",
    "print(arr)"
   ]
  },
  {
   "cell_type": "code",
   "execution_count": 115,
   "id": "716df274-1e46-41b5-85b7-5914fdd4325e",
   "metadata": {},
   "outputs": [
    {
     "name": "stdout",
     "output_type": "stream",
     "text": [
      "Z = np.random.random((5,5))\n",
      "Z = (Z - np.mean (Z)) / (np.std (Z))\n",
      "print(Z)\n"
     ]
    }
   ],
   "source": [
    "answer(22)"
   ]
  },
  {
   "cell_type": "code",
   "execution_count": 117,
   "id": "08078b95-18d3-4939-8655-61fd6df49359",
   "metadata": {},
   "outputs": [
    {
     "name": "stdout",
     "output_type": "stream",
     "text": [
      "[[-0.36089724 -1.32410629 -0.58291448 -0.46782641  0.33513058]\n",
      " [-1.28841294  1.63141826 -0.97878739  0.91081794 -1.2453386 ]\n",
      " [ 1.23778736 -1.34975439 -0.10166072  0.40738461 -0.57082853]\n",
      " [ 1.15761882  1.12378931  0.24097675 -0.22590878 -0.88578236]\n",
      " [ 2.15066696 -0.00547437 -0.73236811 -0.49787887  1.42234888]]\n"
     ]
    }
   ],
   "source": [
    "Z = np.random.random((5,5))\n",
    "Z = (Z - np.mean (Z)) / (np.std (Z))\n",
    "print(Z)"
   ]
  },
  {
   "cell_type": "markdown",
   "id": "f9a0911e",
   "metadata": {},
   "source": [
    "#### 23. Create a custom dtype that describes a color as four unsigned bytes (RGBA) (★☆☆)"
   ]
  },
  {
   "cell_type": "code",
   "execution_count": 121,
   "id": "d165044b",
   "metadata": {},
   "outputs": [
    {
     "name": "stdout",
     "output_type": "stream",
     "text": [
      "[('r', 'u1'), ('g', 'u1'), ('b', 'u1'), ('a', 'u1')]\n"
     ]
    }
   ],
   "source": [
    "d=np.dtype([(\"r\", np.ubyte), (\"g\", np.ubyte), (\"b\", np.ubyte), (\"a\", np.ubyte)])\n",
    "print(d)"
   ]
  },
  {
   "cell_type": "code",
   "execution_count": 120,
   "id": "419d6d94-ffda-47e5-aeac-3d6ee534f310",
   "metadata": {},
   "outputs": [
    {
     "name": "stdout",
     "output_type": "stream",
     "text": [
      "color = np.dtype([(\"r\", np.ubyte),\n",
      "                  (\"g\", np.ubyte),\n",
      "                  (\"b\", np.ubyte),\n",
      "                  (\"a\", np.ubyte)])\n"
     ]
    }
   ],
   "source": [
    "answer(23)"
   ]
  },
  {
   "cell_type": "markdown",
   "id": "654805b1",
   "metadata": {},
   "source": [
    "#### 24. Multiply a 5x3 matrix by a 3x2 matrix (real matrix product) (★☆☆)"
   ]
  },
  {
   "cell_type": "code",
   "execution_count": 122,
   "id": "6a42619f",
   "metadata": {},
   "outputs": [
    {
     "name": "stdout",
     "output_type": "stream",
     "text": [
      "[[0.72271872 0.04519096 0.4934378 ]\n",
      " [0.07092434 0.6299237  0.41082914]\n",
      " [0.21012014 0.74911922 0.93594106]\n",
      " [0.57078785 0.9217346  0.7526314 ]\n",
      " [0.24419081 0.97482802 0.02548373]]\n",
      "[[0.04684397 0.83659704]\n",
      " [0.59784175 0.81271248]\n",
      " [0.87353523 0.46481071]]\n",
      "[[0.49190736 0.87070677]\n",
      " [0.7387908  0.76223973]\n",
      " [1.2752751  1.21963986]\n",
      " [1.23523944 1.57645577]\n",
      " [0.61649269 1.00838931]]\n"
     ]
    }
   ],
   "source": [
    "arr1=np.random.random((5,3))\n",
    "arr2=np.random.random((3,2))\n",
    "print(arr1)\n",
    "print(arr2)\n",
    "print(arr1.dot(arr2))"
   ]
  },
  {
   "cell_type": "markdown",
   "id": "994c25df",
   "metadata": {},
   "source": [
    "#### 25. Given a 1D array, negate all elements which are between 3 and 8, in place. (★☆☆)"
   ]
  },
  {
   "cell_type": "code",
   "execution_count": 131,
   "id": "e4b39c03",
   "metadata": {},
   "outputs": [
    {
     "name": "stdout",
     "output_type": "stream",
     "text": [
      "[9.74659917 9.0429452  6.03245693 3.01678928 4.37771838]\n",
      "[ 9.74659917  9.0429452  -6.03245693 -3.01678928 -4.37771838]\n"
     ]
    }
   ],
   "source": [
    "arr=np.random.random(5)*(10)\n",
    "print(arr)\n",
    "for k,i in enumerate(arr):\n",
    "    if i>=3 and i<=8:\n",
    "        arr[k]=arr[k]*(-1)\n",
    "print(arr)"
   ]
  },
  {
   "cell_type": "markdown",
   "id": "b7d15d1a",
   "metadata": {},
   "source": [
    "#### 26. What is the output of the following script? (★☆☆)\n",
    "```python\n",
    "# Author: Jake VanderPlas\n",
    "\n",
    "print(sum(range(5),-1))\n",
    "from numpy import *\n",
    "print(sum(range(5),-1))\n",
    "```"
   ]
  },
  {
   "cell_type": "code",
   "execution_count": 132,
   "id": "4c95bc3f",
   "metadata": {},
   "outputs": [
    {
     "name": "stdout",
     "output_type": "stream",
     "text": [
      "9\n",
      "10\n"
     ]
    }
   ],
   "source": [
    "print(sum(range(5),-1))\n",
    "from numpy import *\n",
    "print(sum(range(5),-1))"
   ]
  },
  {
   "cell_type": "code",
   "execution_count": 133,
   "id": "25c7a574-e6bd-4dfd-9055-489057ca9b25",
   "metadata": {},
   "outputs": [
    {
     "name": "stdout",
     "output_type": "stream",
     "text": [
      "# Author: Jake VanderPlas\n",
      "\n",
      "print(sum(range(5),-1))\n",
      "from numpy import *\n",
      "print(sum(range(5),-1))\n"
     ]
    }
   ],
   "source": [
    "answer(26)"
   ]
  },
  {
   "cell_type": "markdown",
   "id": "a34f0d08",
   "metadata": {},
   "source": [
    "#### 27. Consider an integer vector Z, which of these expressions are legal? (★☆☆)\n",
    "```python\n",
    "Z**Z\n",
    "2 << Z >> 2\n",
    "Z <- Z\n",
    "1j*Z\n",
    "Z/1/1\n",
    "Z<Z>Z\n",
    "```"
   ]
  },
  {
   "cell_type": "code",
   "execution_count": 134,
   "id": "564658fc",
   "metadata": {},
   "outputs": [
    {
     "name": "stdout",
     "output_type": "stream",
     "text": [
      "Z**Z\n",
      "2 << Z >> 2\n",
      "Z <- Z\n",
      "1j*Z\n",
      "Z/1/1\n",
      "Z<Z>Z\n"
     ]
    }
   ],
   "source": [
    "answer(27)"
   ]
  },
  {
   "cell_type": "code",
   "execution_count": 136,
   "id": "b2e559c5-7089-4ec1-b259-f998ae6d3f79",
   "metadata": {},
   "outputs": [
    {
     "ename": "SyntaxError",
     "evalue": "invalid syntax (1513249350.py, line 7)",
     "output_type": "error",
     "traceback": [
      "\u001b[1;36m  Cell \u001b[1;32mIn[136], line 7\u001b[1;36m\u001b[0m\n\u001b[1;33m    Z<Z>\u001b[0m\n\u001b[1;37m        ^\u001b[0m\n\u001b[1;31mSyntaxError\u001b[0m\u001b[1;31m:\u001b[0m invalid syntax\n"
     ]
    }
   ],
   "source": [
    "Z=np.arange(4)\n",
    "Z**Z\n",
    "2 << Z >> 2\n",
    "Z <- Z\n",
    "1j*Z\n",
    "Z/1/1\n",
    "Z<Z>"
   ]
  },
  {
   "cell_type": "markdown",
   "id": "c34e94bf",
   "metadata": {},
   "source": [
    "#### 28. What are the result of the following expressions? (★☆☆)\n",
    "```python\n",
    "np.array(0) / np.array(0)\n",
    "np.array(0) // np.array(0)\n",
    "np.array([np.nan]).astype(int).astype(float)\n",
    "```"
   ]
  },
  {
   "cell_type": "code",
   "execution_count": 137,
   "id": "56663562",
   "metadata": {},
   "outputs": [
    {
     "name": "stderr",
     "output_type": "stream",
     "text": [
      "C:\\Users\\riyaa\\AppData\\Local\\Temp\\ipykernel_5180\\548293649.py:1: RuntimeWarning: invalid value encountered in divide\n",
      "  np.array(0) / np.array(0)\n",
      "C:\\Users\\riyaa\\AppData\\Local\\Temp\\ipykernel_5180\\548293649.py:2: RuntimeWarning: divide by zero encountered in floor_divide\n",
      "  np.array(0) // np.array(0)\n",
      "C:\\Users\\riyaa\\AppData\\Local\\Temp\\ipykernel_5180\\548293649.py:3: RuntimeWarning: invalid value encountered in cast\n",
      "  np.array([np.nan]).astype(int).astype(float)\n"
     ]
    },
    {
     "data": {
      "text/plain": [
       "array([-2.14748365e+09])"
      ]
     },
     "execution_count": 137,
     "metadata": {},
     "output_type": "execute_result"
    }
   ],
   "source": [
    "np.array(0) / np.array(0)\n",
    "np.array(0) // np.array(0)\n",
    "np.array([np.nan]).astype(int).astype(float)"
   ]
  },
  {
   "cell_type": "code",
   "execution_count": 138,
   "id": "5dd7d340-8771-4faf-8f5d-e05abde9ccd8",
   "metadata": {},
   "outputs": [
    {
     "name": "stdout",
     "output_type": "stream",
     "text": [
      "print(np.array(0) / np.array(0))\n",
      "print(np.array(0) // np.array(0))\n",
      "print(np.array([np.nan]).astype(int).astype(float))\n"
     ]
    }
   ],
   "source": [
    "answer(28)"
   ]
  },
  {
   "cell_type": "markdown",
   "id": "546f5e7b",
   "metadata": {},
   "source": [
    "#### 29. How to round away from zero a float array ? (★☆☆)"
   ]
  },
  {
   "cell_type": "code",
   "execution_count": 140,
   "id": "f725a6d2",
   "metadata": {},
   "outputs": [
    {
     "name": "stdout",
     "output_type": "stream",
     "text": [
      "# Author: Charles R Harris\n",
      "\n",
      "Z = np.random.uniform(-10,+10,10)\n",
      "print(np.copysign(np.ceil(np.abs(Z)), Z))\n",
      "\n",
      "# More readable but less efficient\n",
      "print(np.where(Z>0, np.ceil(Z), np.floor(Z)))\n"
     ]
    }
   ],
   "source": [
    "answer(29)"
   ]
  },
  {
   "cell_type": "code",
   "execution_count": 3,
   "id": "019cfe21-7e2a-4396-b79a-ae0fd24aae70",
   "metadata": {},
   "outputs": [
    {
     "name": "stdout",
     "output_type": "stream",
     "text": [
      "[ 1.45407795  9.80606106  5.24451708 -4.54449616 -5.41482404  1.31181981\n",
      "  9.43846871  0.02023157  9.42493271  0.32754997]\n",
      "[ 2. 10.  6. -5. -6.  2. 10.  1. 10.  1.]\n"
     ]
    }
   ],
   "source": [
    "arr=np.random.uniform(-10,10,10)\n",
    "print(arr)\n",
    "arr=np.copysign(np.ceil(np.abs(arr)),arr)\n",
    "print(arr)"
   ]
  },
  {
   "cell_type": "markdown",
   "id": "eadca856",
   "metadata": {},
   "source": [
    "#### 30. How to find common values between two arrays? (★☆☆)"
   ]
  },
  {
   "cell_type": "code",
   "execution_count": 24,
   "id": "e0270b5b",
   "metadata": {},
   "outputs": [
    {
     "name": "stdout",
     "output_type": "stream",
     "text": [
      "[2 3 4 5]\n"
     ]
    }
   ],
   "source": [
    "arr1=np.arange(6)\n",
    "arr2=np.arange(start=2,stop=8,step=1)\n",
    "print(np.intersect1d(arr1,arr2))"
   ]
  },
  {
   "cell_type": "code",
   "execution_count": 22,
   "id": "2251c414-c11e-404c-98a3-cdfeb3562619",
   "metadata": {},
   "outputs": [
    {
     "name": "stdout",
     "output_type": "stream",
     "text": [
      "Z1 = np.random.randint(0,10,10)\n",
      "Z2 = np.random.randint(0,10,10)\n",
      "print(np.intersect1d(Z1,Z2))\n"
     ]
    }
   ],
   "source": [
    "answer(30)"
   ]
  },
  {
   "cell_type": "markdown",
   "id": "ca16ca22",
   "metadata": {},
   "source": [
    "#### 31. How to ignore all numpy warnings (not recommended)? (★☆☆)"
   ]
  },
  {
   "cell_type": "code",
   "execution_count": 25,
   "id": "7d7208ef",
   "metadata": {},
   "outputs": [
    {
     "name": "stdout",
     "output_type": "stream",
     "text": [
      "# Suicide mode on\n",
      "defaults = np.seterr(all=\"ignore\")\n",
      "Z = np.ones(1) / 0\n",
      "\n",
      "# Back to sanity\n",
      "_ = np.seterr(**defaults)\n",
      "\n",
      "# Equivalently with a context manager\n",
      "with np.errstate(all=\"ignore\"):\n",
      "    np.arange(3) / 0\n"
     ]
    }
   ],
   "source": [
    "answer(31)"
   ]
  },
  {
   "cell_type": "code",
   "execution_count": 26,
   "id": "1c9e4493-1da9-455b-acfc-f66dbac422d5",
   "metadata": {},
   "outputs": [],
   "source": [
    "defaults=np.seterr(all=\"ignore\")\n",
    "arr = np.ones(1)/0\n",
    "\n",
    "_=np.seterr(**defaults)\n",
    "\n",
    "with np.errstate(all=\"ignore\"):\n",
    "    np.arange(3)/0"
   ]
  },
  {
   "cell_type": "markdown",
   "id": "c7871d0d",
   "metadata": {},
   "source": [
    "#### 32. Is the following expressions true? (★☆☆)\n",
    "```python\n",
    "np.sqrt(-1) == np.emath.sqrt(-1)\n",
    "```"
   ]
  },
  {
   "cell_type": "code",
   "execution_count": 27,
   "id": "acc3701a",
   "metadata": {},
   "outputs": [
    {
     "name": "stdout",
     "output_type": "stream",
     "text": [
      "False\n"
     ]
    },
    {
     "name": "stderr",
     "output_type": "stream",
     "text": [
      "C:\\Users\\riyaa\\AppData\\Local\\Temp\\ipykernel_7640\\2770867030.py:1: RuntimeWarning: invalid value encountered in sqrt\n",
      "  print(np.sqrt(-1) == np.emath.sqrt(-1))\n"
     ]
    }
   ],
   "source": [
    "print(np.sqrt(-1) == np.emath.sqrt(-1))"
   ]
  },
  {
   "cell_type": "code",
   "execution_count": 28,
   "id": "087483dc-0350-4c22-9346-cbd41a4d39ce",
   "metadata": {},
   "outputs": [
    {
     "name": "stdout",
     "output_type": "stream",
     "text": [
      "np.sqrt(-1) == np.emath.sqrt(-1)\n"
     ]
    }
   ],
   "source": [
    "answer(32)"
   ]
  },
  {
   "cell_type": "markdown",
   "id": "e0433e30",
   "metadata": {},
   "source": [
    "#### 33. How to get the dates of yesterday, today and tomorrow? (★☆☆)"
   ]
  },
  {
   "cell_type": "code",
   "execution_count": 29,
   "id": "9c4d2152",
   "metadata": {},
   "outputs": [
    {
     "name": "stdout",
     "output_type": "stream",
     "text": [
      "yesterday = np.datetime64('today') - np.timedelta64(1)\n",
      "today     = np.datetime64('today')\n",
      "tomorrow  = np.datetime64('today') + np.timedelta64(1)\n"
     ]
    }
   ],
   "source": [
    "answer(33)"
   ]
  },
  {
   "cell_type": "code",
   "execution_count": 32,
   "id": "3bc7e4bf-c625-4bba-990d-4c5854af047a",
   "metadata": {},
   "outputs": [
    {
     "name": "stdout",
     "output_type": "stream",
     "text": [
      "2024-12-18 2024-12-19 2024-12-20\n"
     ]
    }
   ],
   "source": [
    "yesterday=np.datetime64('today')-np.timedelta64(1)\n",
    "today=np.datetime64('today')\n",
    "tomorrow=np.datetime64('today')+np.timedelta64(1)\n",
    "print(yesterday,today,tomorrow)"
   ]
  },
  {
   "cell_type": "markdown",
   "id": "9f52a2ef",
   "metadata": {},
   "source": [
    "#### 34. How to get all the dates corresponding to the month of July 2016? (★★☆)"
   ]
  },
  {
   "cell_type": "code",
   "execution_count": 3,
   "id": "d6c34dec",
   "metadata": {},
   "outputs": [
    {
     "name": "stdout",
     "output_type": "stream",
     "text": [
      "Z = np.arange('2016-07', '2016-08', dtype='datetime64[D]')\n",
      "print(Z)\n"
     ]
    }
   ],
   "source": [
    "answer(34)"
   ]
  },
  {
   "cell_type": "code",
   "execution_count": 5,
   "id": "e6ccfc0b-a60f-4762-8a3a-239e57a9b32b",
   "metadata": {},
   "outputs": [
    {
     "name": "stdout",
     "output_type": "stream",
     "text": [
      "['2016-07-01' '2016-07-02' '2016-07-03' '2016-07-04' '2016-07-05'\n",
      " '2016-07-06' '2016-07-07' '2016-07-08' '2016-07-09' '2016-07-10'\n",
      " '2016-07-11' '2016-07-12' '2016-07-13' '2016-07-14' '2016-07-15'\n",
      " '2016-07-16' '2016-07-17' '2016-07-18' '2016-07-19' '2016-07-20'\n",
      " '2016-07-21' '2016-07-22' '2016-07-23' '2016-07-24' '2016-07-25'\n",
      " '2016-07-26' '2016-07-27' '2016-07-28' '2016-07-29' '2016-07-30'\n",
      " '2016-07-31']\n"
     ]
    }
   ],
   "source": [
    "arr=np.arange('2016-07','2016-08', dtype='datetime64[D]')\n",
    "print(arr)"
   ]
  },
  {
   "cell_type": "markdown",
   "id": "4a64e059",
   "metadata": {},
   "source": [
    "#### 35. How to compute ((A+B)*(-A/2)) in place (without copy)? (★★☆)"
   ]
  },
  {
   "cell_type": "code",
   "execution_count": 6,
   "id": "49267f60",
   "metadata": {},
   "outputs": [
    {
     "name": "stdout",
     "output_type": "stream",
     "text": [
      "A = np.ones(3)*1\n",
      "B = np.ones(3)*2\n",
      "np.add(A,B,out=B)\n",
      "np.divide(A,2,out=A)\n",
      "np.negative(A,out=A)\n",
      "np.multiply(A,B,out=A)\n"
     ]
    }
   ],
   "source": [
    "answer(35)"
   ]
  },
  {
   "cell_type": "code",
   "execution_count": 12,
   "id": "450c80c9-4591-492d-ab7f-8825496f9c5f",
   "metadata": {},
   "outputs": [
    {
     "name": "stdout",
     "output_type": "stream",
     "text": [
      "[-3. -3. -3.]\n"
     ]
    }
   ],
   "source": [
    "a=np.ones(3)*1\n",
    "b=np.ones(3)*2\n",
    "np.add(a,b,out=a)\n",
    "np.divide(a,2,out=a)\n",
    "np.negative(a,out=a)\n",
    "np.multiply(a,b,out=a)\n",
    "print(a)"
   ]
  },
  {
   "cell_type": "markdown",
   "id": "8a98c2a8",
   "metadata": {},
   "source": [
    "#### 36. Extract the integer part of a random array of positive numbers using 4 different methods (★★☆)"
   ]
  },
  {
   "cell_type": "code",
   "execution_count": 3,
   "id": "368130b3",
   "metadata": {},
   "outputs": [
    {
     "name": "stdout",
     "output_type": "stream",
     "text": [
      "Z = np.random.uniform(0,10,10)\n",
      "\n",
      "print(Z - Z%1)\n",
      "print(Z // 1)\n",
      "print(np.floor(Z))\n",
      "print(Z.astype(int))\n",
      "print(np.trunc(Z))\n"
     ]
    }
   ],
   "source": [
    "answer(36)"
   ]
  },
  {
   "cell_type": "code",
   "execution_count": 4,
   "id": "ed1a006d-f509-47fd-b2c8-e1fb74df89d0",
   "metadata": {},
   "outputs": [
    {
     "name": "stdout",
     "output_type": "stream",
     "text": [
      "[6. 4. 5. 4. 3. 4. 4. 6. 4. 6.]\n",
      "[6. 4. 5. 4. 3. 4. 4. 6. 4. 6.]\n",
      "[6. 4. 5. 4. 3. 4. 4. 6. 4. 6.]\n",
      "[6 4 5 4 3 4 4 6 4 6]\n",
      "[6. 4. 5. 4. 3. 4. 4. 6. 4. 6.]\n"
     ]
    }
   ],
   "source": [
    "arr=np.random.uniform(0,10,10)\n",
    "print(arr-arr%1)\n",
    "print(arr//1)\n",
    "print(np.floor(arr))\n",
    "print(arr.astype(int))\n",
    "print(np.trunc(arr))"
   ]
  },
  {
   "cell_type": "markdown",
   "id": "5a2e3d85",
   "metadata": {},
   "source": [
    "#### 37. Create a 5x5 matrix with row values ranging from 0 to 4 (★★☆)"
   ]
  },
  {
   "cell_type": "code",
   "execution_count": 7,
   "id": "1d974e8f",
   "metadata": {},
   "outputs": [
    {
     "name": "stdout",
     "output_type": "stream",
     "text": [
      "[[0. 1. 2. 3. 4.]\n",
      " [0. 1. 2. 3. 4.]\n",
      " [0. 1. 2. 3. 4.]\n",
      " [0. 1. 2. 3. 4.]\n",
      " [0. 1. 2. 3. 4.]]\n"
     ]
    }
   ],
   "source": [
    "arr=np.arange(5)\n",
    "arr=arr+np.zeros((5,5))\n",
    "print(arr)"
   ]
  },
  {
   "cell_type": "code",
   "execution_count": 8,
   "id": "0495bfbd-3d16-40ae-81b5-352f9cda4a3d",
   "metadata": {},
   "outputs": [
    {
     "name": "stdout",
     "output_type": "stream",
     "text": [
      "Z = np.zeros((5,5))\n",
      "Z += np.arange(5)\n",
      "print(Z)\n",
      "\n",
      "# without broadcasting\n",
      "Z = np.tile(np.arange(0, 5), (5,1))\n",
      "print(Z)\n"
     ]
    }
   ],
   "source": [
    "answer(37)"
   ]
  },
  {
   "cell_type": "markdown",
   "id": "9720e2d5",
   "metadata": {},
   "source": [
    "#### 38. Consider a generator function that generates 10 integers and use it to build an array (★☆☆)"
   ]
  },
  {
   "cell_type": "code",
   "execution_count": 9,
   "id": "e5dd8fc9",
   "metadata": {},
   "outputs": [
    {
     "name": "stdout",
     "output_type": "stream",
     "text": [
      "def generate():\n",
      "    for x in range(10):\n",
      "        yield x\n",
      "Z = np.fromiter(generate(),dtype=float,count=-1)\n",
      "print(Z)\n"
     ]
    }
   ],
   "source": [
    "answer(38)"
   ]
  },
  {
   "cell_type": "code",
   "execution_count": 11,
   "id": "06ea62e6-1299-43b4-8890-5445df46d9da",
   "metadata": {},
   "outputs": [
    {
     "name": "stdout",
     "output_type": "stream",
     "text": [
      "[0. 1. 2. 3. 4. 5. 6. 7. 8. 9.]\n"
     ]
    }
   ],
   "source": [
    "def generate():\n",
    "    for i in range(10):\n",
    "        yield i\n",
    "arr=np.fromiter(generate(),dtype=float, count=-1)\n",
    "print(arr)"
   ]
  },
  {
   "cell_type": "markdown",
   "id": "c6f2c912",
   "metadata": {},
   "source": [
    "#### 39. Create a vector of size 10 with values ranging from 0 to 1, both excluded (★★☆)"
   ]
  },
  {
   "cell_type": "code",
   "execution_count": 13,
   "id": "6aaa27d3",
   "metadata": {},
   "outputs": [
    {
     "name": "stdout",
     "output_type": "stream",
     "text": [
      "Z = np.linspace(0,1,11,endpoint=False)[1:]\n",
      "print(Z)\n"
     ]
    }
   ],
   "source": [
    "answer(39)"
   ]
  },
  {
   "cell_type": "code",
   "execution_count": 16,
   "id": "9bf99817-c81f-492f-8f85-00839a8122da",
   "metadata": {},
   "outputs": [
    {
     "name": "stdout",
     "output_type": "stream",
     "text": [
      "[0.09090909 0.18181818 0.27272727 0.36363636 0.45454545 0.54545455\n",
      " 0.63636364 0.72727273 0.81818182 0.90909091]\n"
     ]
    }
   ],
   "source": [
    "arr=np.linspace(0,1,11,endpoint=False)[1:]\n",
    "print(arr)"
   ]
  },
  {
   "cell_type": "markdown",
   "id": "a36d6ee4",
   "metadata": {},
   "source": [
    "#### 40. Create a random vector of size 10 and sort it (★★☆)"
   ]
  },
  {
   "cell_type": "code",
   "execution_count": 20,
   "id": "e589d216",
   "metadata": {},
   "outputs": [
    {
     "name": "stdout",
     "output_type": "stream",
     "text": [
      "[0.11435258 0.23640864 0.3045432  0.40862602 0.41638426 0.44836931\n",
      " 0.68273031 0.71011064 0.84715292 0.90817091]\n"
     ]
    }
   ],
   "source": [
    "arr=np.random.random(10)\n",
    "arr.sort()\n",
    "print(arr)"
   ]
  },
  {
   "cell_type": "code",
   "execution_count": 18,
   "id": "e99396a4-0446-405d-aec9-ca5307118638",
   "metadata": {},
   "outputs": [
    {
     "name": "stdout",
     "output_type": "stream",
     "text": [
      "Z = np.random.random(10)\n",
      "Z.sort()\n",
      "print(Z)\n"
     ]
    }
   ],
   "source": [
    "answer(40)"
   ]
  },
  {
   "cell_type": "markdown",
   "id": "0fb4ad68",
   "metadata": {},
   "source": [
    "#### 41. How to sum a small array faster than np.sum? (★★☆)"
   ]
  },
  {
   "cell_type": "code",
   "execution_count": 22,
   "id": "a1ba05a0",
   "metadata": {},
   "outputs": [
    {
     "name": "stdout",
     "output_type": "stream",
     "text": [
      "# Author: Evgeni Burovski\n",
      "\n",
      "Z = np.arange(10)\n",
      "np.add.reduce(Z)\n"
     ]
    }
   ],
   "source": [
    "answer(41)"
   ]
  },
  {
   "cell_type": "code",
   "execution_count": 23,
   "id": "b3e4ab8f-fef2-48fd-8807-e28eef03a28a",
   "metadata": {},
   "outputs": [
    {
     "data": {
      "text/plain": [
       "45"
      ]
     },
     "execution_count": 23,
     "metadata": {},
     "output_type": "execute_result"
    }
   ],
   "source": [
    "arr=np.arange(10)\n",
    "np.add.reduce(arr)"
   ]
  },
  {
   "cell_type": "markdown",
   "id": "024ac365",
   "metadata": {},
   "source": [
    "#### 42. Consider two random array A and B, check if they are equal (★★☆)"
   ]
  },
  {
   "cell_type": "code",
   "execution_count": 28,
   "id": "7db3846d",
   "metadata": {},
   "outputs": [
    {
     "name": "stdout",
     "output_type": "stream",
     "text": [
      "False\n"
     ]
    }
   ],
   "source": [
    "arr1=np.arange(10)\n",
    "arr2=np.arange(15)\n",
    "print(np.array_equal(arr1,arr2))"
   ]
  },
  {
   "cell_type": "code",
   "execution_count": 27,
   "id": "e9447ed2-70eb-4eb8-8b63-ba6a69221f59",
   "metadata": {},
   "outputs": [
    {
     "name": "stdout",
     "output_type": "stream",
     "text": [
      "A = np.random.randint(0,2,5)\n",
      "B = np.random.randint(0,2,5)\n",
      "\n",
      "# Assuming identical shape of the arrays and a tolerance for the comparison of values\n",
      "equal = np.allclose(A,B)\n",
      "print(equal)\n",
      "\n",
      "# Checking both the shape and the element values, no tolerance (values have to be exactly equal)\n",
      "equal = np.array_equal(A,B)\n",
      "print(equal)\n"
     ]
    }
   ],
   "source": [
    "answer(42)"
   ]
  },
  {
   "cell_type": "markdown",
   "id": "c68d2401",
   "metadata": {},
   "source": [
    "#### 43. Make an array immutable (read-only) (★★☆)"
   ]
  },
  {
   "cell_type": "code",
   "execution_count": 29,
   "id": "7828539d",
   "metadata": {},
   "outputs": [
    {
     "name": "stdout",
     "output_type": "stream",
     "text": [
      "Z = np.zeros(10)\n",
      "Z.flags.writeable = False\n",
      "Z[0] = 1\n"
     ]
    }
   ],
   "source": [
    "answer(43)"
   ]
  },
  {
   "cell_type": "code",
   "execution_count": 30,
   "id": "daa64acf-9c9f-4730-86de-d65451bd5256",
   "metadata": {},
   "outputs": [
    {
     "ename": "ValueError",
     "evalue": "assignment destination is read-only",
     "output_type": "error",
     "traceback": [
      "\u001b[1;31m---------------------------------------------------------------------------\u001b[0m",
      "\u001b[1;31mValueError\u001b[0m                                Traceback (most recent call last)",
      "Cell \u001b[1;32mIn[30], line 3\u001b[0m\n\u001b[0;32m      1\u001b[0m arr\u001b[38;5;241m=\u001b[39mnp\u001b[38;5;241m.\u001b[39mzeros(\u001b[38;5;241m10\u001b[39m)\n\u001b[0;32m      2\u001b[0m arr\u001b[38;5;241m.\u001b[39mflags\u001b[38;5;241m.\u001b[39mwriteable \u001b[38;5;241m=\u001b[39m \u001b[38;5;28;01mFalse\u001b[39;00m\n\u001b[1;32m----> 3\u001b[0m arr[\u001b[38;5;241m0\u001b[39m]\u001b[38;5;241m=\u001b[39m\u001b[38;5;241m1\u001b[39m\n",
      "\u001b[1;31mValueError\u001b[0m: assignment destination is read-only"
     ]
    }
   ],
   "source": [
    "arr=np.zeros(10)\n",
    "arr.flags.writeable = False\n",
    "arr[0]=1"
   ]
  },
  {
   "cell_type": "markdown",
   "id": "55df6280",
   "metadata": {},
   "source": [
    "#### 44. Consider a random 10x2 matrix representing cartesian coordinates, convert them to polar coordinates (★★☆)"
   ]
  },
  {
   "cell_type": "code",
   "execution_count": 32,
   "id": "f1c86ea0",
   "metadata": {},
   "outputs": [
    {
     "name": "stdout",
     "output_type": "stream",
     "text": [
      "[0.84499112 0.85066753 0.6364644  1.05944645 1.11521099 1.07540205\n",
      " 0.92433508 0.75453492 0.84083534 0.94914212]\n",
      "[0.92699428 0.93648835 0.34694717 1.05340797 0.56827676 0.48917141\n",
      " 0.11072008 0.54412643 0.83257752 1.29287848]\n"
     ]
    }
   ],
   "source": [
    "arr=np.random.random((10,2))\n",
    "x,y=arr[:,0], arr[:,1]\n",
    "r=np.sqrt(x**2+y**2)\n",
    "t=np.arctan2(y,x)\n",
    "print(r)\n",
    "print(t)"
   ]
  },
  {
   "cell_type": "code",
   "execution_count": 31,
   "id": "4b165737-bfa3-4994-9471-dce38f2cdb8f",
   "metadata": {},
   "outputs": [
    {
     "name": "stdout",
     "output_type": "stream",
     "text": [
      "Z = np.random.random((10,2))\n",
      "X,Y = Z[:,0], Z[:,1]\n",
      "R = np.sqrt(X**2+Y**2)\n",
      "T = np.arctan2(Y,X)\n",
      "print(R)\n",
      "print(T)\n"
     ]
    }
   ],
   "source": [
    "answer(44)"
   ]
  },
  {
   "cell_type": "markdown",
   "id": "2f60f1ec",
   "metadata": {},
   "source": [
    "#### 45. Create random vector of size 10 and replace the maximum value by 0 (★★☆)"
   ]
  },
  {
   "cell_type": "code",
   "execution_count": 36,
   "id": "d9f48f1c",
   "metadata": {},
   "outputs": [
    {
     "name": "stdout",
     "output_type": "stream",
     "text": [
      "[0.25849209 0.76320633 0.37770662 0.68745085 0.64913575 0.96746364\n",
      " 0.91531367 0.64816002 0.56016589 0.74702255]\n",
      "[0.25849209 0.76320633 0.37770662 0.68745085 0.64913575 0.\n",
      " 0.91531367 0.64816002 0.56016589 0.74702255]\n"
     ]
    }
   ],
   "source": [
    "arr=np.random.random(10)\n",
    "print(arr)\n",
    "arr[arr.argmax()]=0\n",
    "print(arr)"
   ]
  },
  {
   "cell_type": "code",
   "execution_count": 35,
   "id": "21097d48-6fed-466f-bc87-b2590aaf52ed",
   "metadata": {},
   "outputs": [
    {
     "name": "stdout",
     "output_type": "stream",
     "text": [
      "Z = np.random.random(10)\n",
      "Z[Z.argmax()] = 0\n",
      "print(Z)\n"
     ]
    }
   ],
   "source": [
    "answer(45)"
   ]
  },
  {
   "cell_type": "markdown",
   "id": "084e8ad4",
   "metadata": {},
   "source": [
    "#### 46. Create a structured array with `x` and `y` coordinates covering the [0,1]x[0,1] area (★★☆)"
   ]
  },
  {
   "cell_type": "code",
   "execution_count": 37,
   "id": "58b47c13",
   "metadata": {},
   "outputs": [
    {
     "name": "stdout",
     "output_type": "stream",
     "text": [
      "Z = np.zeros((5,5), [('x',float),('y',float)])\n",
      "Z['x'], Z['y'] = np.meshgrid(np.linspace(0,1,5),\n",
      "                             np.linspace(0,1,5))\n",
      "print(Z)\n"
     ]
    }
   ],
   "source": [
    "answer(46)"
   ]
  },
  {
   "cell_type": "code",
   "execution_count": 38,
   "id": "eacfbd10-3feb-4086-89e0-45531aa60edd",
   "metadata": {},
   "outputs": [
    {
     "name": "stdout",
     "output_type": "stream",
     "text": [
      "[[(0.  , 0.  ) (0.25, 0.  ) (0.5 , 0.  ) (0.75, 0.  ) (1.  , 0.  )]\n",
      " [(0.  , 0.25) (0.25, 0.25) (0.5 , 0.25) (0.75, 0.25) (1.  , 0.25)]\n",
      " [(0.  , 0.5 ) (0.25, 0.5 ) (0.5 , 0.5 ) (0.75, 0.5 ) (1.  , 0.5 )]\n",
      " [(0.  , 0.75) (0.25, 0.75) (0.5 , 0.75) (0.75, 0.75) (1.  , 0.75)]\n",
      " [(0.  , 1.  ) (0.25, 1.  ) (0.5 , 1.  ) (0.75, 1.  ) (1.  , 1.  )]]\n"
     ]
    }
   ],
   "source": [
    "arr=np.zeros((5,5), [('x',float),('y', float)])\n",
    "arr['x'], arr['y'] = np.meshgrid(np.linspace(0,1,5), np.linspace(0,1,5))\n",
    "print(arr)"
   ]
  },
  {
   "cell_type": "markdown",
   "id": "d7b9bc42",
   "metadata": {},
   "source": [
    "#### 47. Given two arrays, X and Y, construct the Cauchy matrix C (Cij =1/(xi - yj)) (★★☆)"
   ]
  },
  {
   "cell_type": "code",
   "execution_count": 42,
   "id": "a24824fb",
   "metadata": {},
   "outputs": [
    {
     "name": "stdout",
     "output_type": "stream",
     "text": [
      "[0.77620116 0.92917608 0.77136925 0.20625151 0.42948401]\n",
      "[0.08518198 0.8513609  0.72018588 0.30558523 0.2220785 ]\n",
      "[[  1.44713783 -13.30499442  17.85227162   2.12487495   1.80465459]\n",
      " [  1.18484239  12.85096325   4.78491325   1.60361557   1.41423196]\n",
      " [  1.45732811 -12.5013034   19.53759698   2.14691781   1.82052949]\n",
      " [  8.25971612  -1.55012469  -1.94577375 -10.06707511 -63.18321581]\n",
      " [  2.90442662  -2.37035973  -3.43995039   8.07110435   4.82147263]]\n"
     ]
    }
   ],
   "source": [
    "x=np.random.random(5)\n",
    "y=np.random.random(5)\n",
    "c=np.zeros(5)\n",
    "c=1.0/np.subtract.outer(x,y)\n",
    "print(x)\n",
    "print(y)\n",
    "print(c)"
   ]
  },
  {
   "cell_type": "code",
   "execution_count": 40,
   "id": "f8439403-71ae-4426-a791-1cb687a80af0",
   "metadata": {},
   "outputs": [
    {
     "name": "stdout",
     "output_type": "stream",
     "text": [
      "# Author: Evgeni Burovski\n",
      "\n",
      "X = np.arange(8)\n",
      "Y = X + 0.5\n",
      "C = 1.0 / np.subtract.outer(X, Y)\n",
      "print(np.linalg.det(C))\n"
     ]
    }
   ],
   "source": [
    "answer(47)"
   ]
  },
  {
   "cell_type": "markdown",
   "id": "65ebc11b",
   "metadata": {},
   "source": [
    "#### 48. Print the minimum and maximum representable value for each numpy scalar type (★★☆)"
   ]
  },
  {
   "cell_type": "code",
   "execution_count": 43,
   "id": "e45d38fb",
   "metadata": {},
   "outputs": [
    {
     "name": "stdout",
     "output_type": "stream",
     "text": [
      "for dtype in [np.int8, np.int32, np.int64]:\n",
      "   print(np.iinfo(dtype).min)\n",
      "   print(np.iinfo(dtype).max)\n",
      "for dtype in [np.float32, np.float64]:\n",
      "   print(np.finfo(dtype).min)\n",
      "   print(np.finfo(dtype).max)\n",
      "   print(np.finfo(dtype).eps)\n"
     ]
    }
   ],
   "source": [
    "answer(48)"
   ]
  },
  {
   "cell_type": "markdown",
   "id": "9b317a98",
   "metadata": {},
   "source": [
    "#### 49. How to print all the values of an array? (★★☆)"
   ]
  },
  {
   "cell_type": "code",
   "execution_count": 46,
   "id": "309cdeb9",
   "metadata": {},
   "outputs": [
    {
     "name": "stdout",
     "output_type": "stream",
     "text": [
      "[[0.45171205 0.79064237 0.99846225 0.23613915 0.56816072 0.39229194\n",
      "  0.04588927 0.38492156 0.08617003 0.23910817]\n",
      " [0.84873786 0.82672786 0.68833448 0.20178244 0.01483738 0.52357336\n",
      "  0.32809386 0.04581458 0.22686239 0.86226939]\n",
      " [0.24655171 0.51466545 0.07558705 0.43956742 0.3043403  0.69136932\n",
      "  0.64318759 0.05220804 0.48851562 0.7458908 ]\n",
      " [0.04396915 0.16887019 0.58032759 0.51993077 0.33209021 0.99812391\n",
      "  0.09837545 0.50345826 0.62960204 0.90336339]\n",
      " [0.72206551 0.38456647 0.88497505 0.22970037 0.33499739 0.46196882\n",
      "  0.35520117 0.1337183  0.99868414 0.35448567]\n",
      " [0.19854208 0.85966524 0.20646736 0.19177159 0.43895885 0.82445967\n",
      "  0.95061022 0.85643768 0.73694224 0.46388375]\n",
      " [0.05415646 0.97667257 0.47531449 0.64523766 0.77997856 0.36428991\n",
      "  0.06790888 0.57324743 0.81865699 0.53425238]\n",
      " [0.40603749 0.53096482 0.35056633 0.28528908 0.54558794 0.04893005\n",
      "  0.76507032 0.55371969 0.32576945 0.09906197]\n",
      " [0.69066921 0.11050562 0.20336606 0.83100106 0.97616166 0.74215967\n",
      "  0.58744506 0.76318215 0.01641782 0.66318405]\n",
      " [0.9380242  0.6452974  0.76647854 0.97836993 0.36449693 0.13600715\n",
      "  0.02194924 0.59785304 0.4185914  0.6279804 ]]\n"
     ]
    }
   ],
   "source": [
    "np.set_printoptions(threshold=float(\"inf\"))\n",
    "arr=np.random.random((10,10))\n",
    "print(arr)"
   ]
  },
  {
   "cell_type": "code",
   "execution_count": 45,
   "id": "95a34886-934f-4c57-a9a0-79fa7db0f0f0",
   "metadata": {},
   "outputs": [
    {
     "name": "stdout",
     "output_type": "stream",
     "text": [
      "np.set_printoptions(threshold=float(\"inf\"))\n",
      "Z = np.zeros((40,40))\n",
      "print(Z)\n"
     ]
    }
   ],
   "source": [
    "answer(49)"
   ]
  },
  {
   "cell_type": "markdown",
   "id": "b580f9d0",
   "metadata": {},
   "source": [
    "#### 50. How to find the closest value (to a given scalar) in a vector? (★★☆)"
   ]
  },
  {
   "cell_type": "code",
   "execution_count": 47,
   "id": "ebfb6714",
   "metadata": {},
   "outputs": [
    {
     "name": "stdout",
     "output_type": "stream",
     "text": [
      "Z = np.arange(100)\n",
      "v = np.random.uniform(0,100)\n",
      "index = (np.abs(Z-v)).argmin()\n",
      "print(Z[index])\n"
     ]
    }
   ],
   "source": [
    "answer(50)"
   ]
  },
  {
   "cell_type": "markdown",
   "id": "602e6252",
   "metadata": {},
   "source": [
    "#### 51. Create a structured array representing a position (x,y) and a color (r,g,b) (★★☆)"
   ]
  },
  {
   "cell_type": "code",
   "execution_count": 55,
   "id": "cf002b3a",
   "metadata": {},
   "outputs": [
    {
     "name": "stdout",
     "output_type": "stream",
     "text": [
      "[((0., 0.), (0., 0., 0.)) ((0., 0.), (0., 0., 0.))\n",
      " ((0., 0.), (0., 0., 0.)) ((0., 0.), (0., 0., 0.))\n",
      " ((0., 0.), (0., 0., 0.)) ((0., 0.), (0., 0., 0.))\n",
      " ((0., 0.), (0., 0., 0.)) ((0., 0.), (0., 0., 0.))\n",
      " ((0., 0.), (0., 0., 0.)) ((0., 0.), (0., 0., 0.))]\n"
     ]
    }
   ],
   "source": [
    "arr=np.zeros(10, [('position',[('x',float),('y',float)]),('color',[('r',float),('g',float),('b',float)])])\n",
    "print(arr)"
   ]
  },
  {
   "cell_type": "code",
   "execution_count": 49,
   "id": "bc1f41ed-1cb9-4117-9613-f43451c48d5e",
   "metadata": {},
   "outputs": [
    {
     "name": "stdout",
     "output_type": "stream",
     "text": [
      "Z = np.zeros(10, [ ('position', [ ('x', float, 1),\n",
      "                                  ('y', float, 1)]),\n",
      "                   ('color',    [ ('r', float, 1),\n",
      "                                  ('g', float, 1),\n",
      "                                  ('b', float, 1)])])\n",
      "print(Z)\n"
     ]
    }
   ],
   "source": [
    "answer(51)"
   ]
  },
  {
   "cell_type": "markdown",
   "id": "78bcd92f",
   "metadata": {},
   "source": [
    "#### 52. Consider a random vector with shape (100,2) representing coordinates, find point by point distances (★★☆)"
   ]
  },
  {
   "cell_type": "code",
   "execution_count": 61,
   "id": "fea7f9a6",
   "metadata": {},
   "outputs": [
    {
     "name": "stdout",
     "output_type": "stream",
     "text": [
      "[[0.         0.2012624  0.90733615 0.71058661 0.73535918 0.72337852\n",
      "  0.19078513 0.19862687 0.88048641 0.73802407 0.47647723 0.44225783\n",
      "  0.81457371 0.86280962 0.66470269 0.45600407 0.32739979 0.25239277\n",
      "  0.50586412 0.90434397 0.17612913 0.36260337 0.55894386 0.519007\n",
      "  0.36003881 0.83207321 0.59561301 0.18050556 0.75953857 0.49410475\n",
      "  0.69109571 0.68726028 0.55885138 0.675499   0.70205165 0.6087573\n",
      "  0.3543347  0.13966193 0.72728566 0.41627939 0.72353534 0.78350444\n",
      "  0.92218411 0.30198861 0.75233841 1.01475437 0.67137527 0.67181883\n",
      "  0.79562858 0.86011666 0.93856904 0.49828126 0.74427057 0.40171011\n",
      "  0.32920297 0.61378869 0.86282533 0.953127   0.23771159 0.8647558\n",
      "  0.67173729 0.14263952 0.92526181 0.56415323 0.19913131 0.53105577\n",
      "  0.8864142  0.66499577 0.86185804 0.52703365 0.56363006 0.14629785\n",
      "  0.90392511 0.20051928 0.68597229 0.70014805 0.78817163 0.54425045\n",
      "  0.61775122 0.48352625 0.10631147 0.71095924 0.27209835 0.93147777\n",
      "  0.4212843  0.57404427 0.97114719 0.91262907 0.34756108 0.81564001\n",
      "  0.16594466 0.40084981 0.93694015 0.71503992 0.83092494 0.28385628\n",
      "  0.70854559 0.04571915 0.23605944 0.58101268]\n",
      " [0.2012624  0.         1.08707564 0.88180635 0.9344029  0.80141552\n",
      "  0.36614844 0.14017637 0.94935719 0.81684512 0.67685819 0.63606836\n",
      "  0.90592493 1.0166214  0.75865609 0.61888079 0.5130159  0.44377582\n",
      "  0.70699037 1.02289778 0.04726288 0.56305367 0.61103999 0.71994801\n",
      "  0.49962552 0.97336453 0.79173091 0.37993712 0.82817298 0.65944969\n",
      "  0.88188454 0.87932739 0.6760926  0.81578136 0.84125703 0.74221335\n",
      "  0.545399   0.2639958  0.74341969 0.5629357  0.79921405 0.92997296\n",
      "  1.1127066  0.39857112 0.95147336 1.18348664 0.86430909 0.8719932\n",
      "  0.87549308 1.00013098 1.0847002  0.53477178 0.93680386 0.59976533\n",
      "  0.38134451 0.64261571 0.9204537  1.13083433 0.06128346 1.037273\n",
      "  0.86359472 0.19193637 1.05866892 0.6955223  0.33723114 0.72873303\n",
      "  1.07047383 0.86622706 0.98994527 0.59889091 0.75366601 0.26059059\n",
      "  1.09339328 0.32465647 0.72736477 0.80651976 0.98793996 0.74240922\n",
      "  0.79115087 0.6611579  0.09855366 0.87767561 0.46917353 1.11195794\n",
      "  0.61253041 0.61388638 1.15290853 1.10174688 0.52825436 1.01450416\n",
      "  0.35636147 0.4784253  1.12064078 0.91480641 0.96516151 0.46738212\n",
      "  0.90127737 0.2391428  0.10202036 0.738404  ]\n",
      " [0.90733615 1.08707564 0.         0.21549722 0.3301061  0.64543018\n",
      "  0.86548666 0.99146529 0.70712063 0.64236996 0.59126701 0.47966448\n",
      "  0.5909778  0.23262798 0.58562081 0.47556588 0.57997171 0.65646833\n",
      "  0.51095993 0.46033691 1.04547287 0.64935462 0.74731791 0.49361313\n",
      "  0.61002006 0.32095307 0.63777355 0.73805001 0.68597468 0.43437544\n",
      "  0.70971052 0.25763877 0.53310692 0.38010439 0.37229763 0.4458869\n",
      "  0.74572534 0.82579676 0.87739294 0.54673545 0.65506824 0.30022324\n",
      "  0.14030826 0.73829469 0.32720521 0.15337339 0.68086438 0.38693259\n",
      "  0.64163684 0.32672117 0.29113082 0.79859925 0.22092316 0.53595958\n",
      "  0.80709276 0.81788229 0.75201457 0.05006345 1.09466705 0.08564433\n",
      "  0.69470129 0.90674161 0.37399434 0.48008701 0.75480502 0.42723107\n",
      "  0.05285105 0.47644308 0.40031521 0.69321477 0.35498653 0.83137762\n",
      "  0.12180358 0.77209579 0.78234863 0.52686556 0.33919983 0.61399377\n",
      "  0.29832112 0.42601835 1.00838743 0.2326433  0.64674855 0.0258994\n",
      "  0.72438975 0.78341244 0.06898015 0.11763993 0.80590411 0.30670113\n",
      "  0.83012022 0.72294537 0.05601634 0.35743704 0.36438332 0.80888994\n",
      "  0.68694875 0.86209346 1.06083571 0.37679275]\n",
      " [0.71058661 0.88180635 0.21549722 0.         0.32787622 0.47429192\n",
      "  0.69521944 0.78034494 0.57071211 0.47495731 0.47945202 0.31491778\n",
      "  0.44957476 0.19183681 0.40291482 0.26417308 0.38762147 0.46616381\n",
      "  0.39955477 0.37569213 0.8388118  0.50443892 0.54462749 0.38512324\n",
      "  0.39602236 0.22794899 0.56931732 0.55144294 0.52062342 0.22305345\n",
      "  0.66697656 0.1959978  0.32758287 0.19491127 0.19877512 0.24462476\n",
      "  0.60693582 0.61844396 0.69218043 0.33216903 0.48340739 0.1767954\n",
      "  0.29928557 0.52337871 0.33606188 0.30419297 0.63456622 0.34761454\n",
      "  0.48933908 0.25093849 0.2828771  0.58958313 0.21367369 0.37629398\n",
      "  0.59159554 0.62002563 0.6051697  0.25306329 0.88571956 0.15547234\n",
      "  0.64734776 0.6975069  0.32438058 0.27204219 0.54614066 0.30400287\n",
      "  0.21851717 0.43744592 0.30770636 0.48720411 0.20828555 0.62315039\n",
      "  0.27469633 0.56204621 0.59632549 0.35462797 0.36934375 0.52811798\n",
      "  0.09328322 0.2285284  0.80791605 0.03263806 0.46511833 0.24139607\n",
      "  0.60256474 0.58181781 0.28444537 0.27860372 0.66645546 0.35657967\n",
      "  0.65448139 0.50829424 0.26169183 0.34293621 0.26178135 0.65562111\n",
      "  0.65189918 0.66489136 0.84997697 0.16168023]\n",
      " [0.73535918 0.9344029  0.3301061  0.32787622 0.         0.78122529\n",
      "  0.63443683 0.8749087  0.89342662 0.78469712 0.30688452 0.30713418\n",
      "  0.77275802 0.49174709 0.70272502 0.43335476 0.43953191 0.49506794\n",
      "  0.2416555  0.70094796 0.90125925 0.39959176 0.80180734 0.2251787\n",
      "  0.55688774 0.5506784  0.31480191 0.55495122 0.83025032 0.40524156\n",
      "  0.37962372 0.13445435 0.59654122 0.50921727 0.51960122 0.53388404\n",
      "  0.47619355 0.70115101 0.97566623 0.51193361 0.78954922 0.50320415\n",
      "  0.24566051 0.67961371 0.01722335 0.48347816 0.35106707 0.07230719\n",
      "  0.80748059 0.57020588 0.57669475 0.82272154 0.12229579 0.3348069\n",
      "  0.76210842 0.88448192 0.92335237 0.37616522 0.95925082 0.3644737\n",
      "  0.36493193 0.78473213 0.63871173 0.54146504 0.64428587 0.20708711\n",
      "  0.27966569 0.14878366 0.63303775 0.73891014 0.22342444 0.71051212\n",
      "  0.24128224 0.66720857 0.88231114 0.66630621 0.05787555 0.3027667\n",
      "  0.31830507 0.35065022 0.84166271 0.36010603 0.46548246 0.33953979\n",
      "  0.43665574 0.83956189 0.3571456  0.25106343 0.53238776 0.0803673\n",
      "  0.61243862 0.71042625 0.31654741 0.02955583 0.58766793 0.55410307\n",
      "  0.35700501 0.6952961  0.9385008  0.42000573]\n",
      " [0.72337852 0.80141552 0.64543018 0.47429192 0.78122529 0.\n",
      "  0.82572182 0.66293442 0.1588294  0.01549324 0.79975923 0.59723793\n",
      "  0.11479418 0.43288986 0.08216447 0.41082771 0.54667721 0.59454215\n",
      "  0.7426006  0.28292863 0.75469019 0.75546519 0.20095444 0.7366106\n",
      "  0.39556723 0.34301618 0.93193347 0.66165344 0.05024156 0.41321523\n",
      "  1.04661311 0.64804269 0.21137738 0.2793877  0.27830026 0.24870938\n",
      "  0.84470118 0.5845777  0.23849068 0.3734972  0.00970201 0.34683413\n",
      "  0.76336537 0.42197717 0.79304782 0.63379612 1.01398109 0.77701743\n",
      "  0.07408124 0.35294665 0.43893287 0.28308956 0.68133225 0.64048303\n",
      "  0.42012777 0.22171718 0.15748643 0.65870585 0.7720165  0.56024541\n",
      "  1.02406832 0.62158971 0.36437912 0.25342469 0.52770839 0.66369942\n",
      "  0.67140882 0.85136342 0.29395486 0.20265859 0.58226719 0.57974565\n",
      "  0.7389722  0.52305872 0.15075928 0.12025517 0.83095855 0.87555203\n",
      "  0.46295855 0.47987385 0.77587793 0.44321644 0.62784053 0.6678183\n",
      "  0.87665598 0.21627933 0.70647579 0.74073372 0.88966463 0.82472082\n",
      "  0.77616521 0.32702146 0.70102796 0.78820375 0.30501271 0.8464514\n",
      "  1.04137872 0.68732767 0.72179339 0.36438526]\n",
      " [0.19078513 0.36614844 0.86548666 0.69521944 0.63443683 0.82572182\n",
      "  0.         0.38940086 0.9844102  0.83901282 0.33974043 0.38665973\n",
      "  0.90089443 0.87121273 0.75579542 0.47793659 0.31983825 0.24688793\n",
      "  0.39290028 0.95862421 0.35468156 0.23497682 0.69010008 0.40925953\n",
      "  0.43203829 0.86031648 0.43413438 0.16634268 0.86811818 0.50701091\n",
      "  0.51726485 0.61980766 0.6335018  0.71321656 0.73964929 0.66012583\n",
      "  0.18473131 0.29005449 0.87304666 0.46964455 0.82787596 0.80652514\n",
      "  0.85148035 0.42830754 0.65028156 0.99249197 0.50145032 0.5643863\n",
      "  0.89322948 0.88897463 0.95586033 0.64314073 0.672684   0.32959197\n",
      "  0.48070269 0.75666962 0.97634497 0.91444243 0.41504369 0.83986859\n",
      "  0.49978616 0.32665666 0.96054296 0.62171005 0.31376979 0.44840616\n",
      "  0.83481004 0.53515874 0.90628019 0.64614664 0.51054652 0.30109359\n",
      "  0.83693377 0.32838713 0.81773764 0.77692777 0.68058855 0.39111437\n",
      "  0.60367463 0.47203497 0.26931736 0.70431183 0.23321642 0.88717899\n",
      "  0.25041896 0.71227194 0.92271552 0.84643644 0.16214245 0.7135363\n",
      "  0.04957394 0.52741303 0.88472681 0.60960553 0.86875876 0.10209491\n",
      "  0.5380397  0.18786207 0.4224859  0.59965513]\n",
      " [0.19862687 0.14017637 0.99146529 0.78034494 0.8749087  0.66293442\n",
      "  0.38940086 0.         0.80964558 0.67839884 0.6497834  0.56853302\n",
      "  0.76895665 0.90099442 0.62304935 0.51642013 0.43759141 0.38117298\n",
      "  0.66412207 0.89177061 0.09580412 0.53803586 0.47108638 0.6745334\n",
      "  0.38696873 0.85142852 0.77898336 0.34045201 0.68866826 0.55765584\n",
      "  0.88039401 0.80317135 0.54795658 0.69510408 0.71972564 0.61944189\n",
      "  0.54659388 0.17402933 0.60542817 0.4515678  0.66046331 0.81106658\n",
      "  1.03113245 0.27220849 0.89213175 1.07682515 0.8585625  0.81851656\n",
      "  0.73696174 0.87736317 0.96426014 0.39459684 0.8606893  0.54367322\n",
      "  0.24377618 0.50293708 0.78031502 1.03270018 0.11251471 0.93507007\n",
      "  0.86010477 0.09017658 0.93259568 0.57263825 0.23860551 0.66800904\n",
      "  0.98004399 0.82727447 0.86227467 0.46082292 0.67633732 0.16542333\n",
      "  1.01029502 0.21965873 0.58727039 0.67344166 0.93094717 0.72408703\n",
      "  0.6931627  0.57042172 0.15620814 0.77253642 0.41618584 1.01693071\n",
      "  0.61250268 0.47372372 1.05897611 1.0180246  0.54484718 0.95341381\n",
      "  0.3622536  0.34317398 1.02929649 0.85865959 0.84012766 0.48088486\n",
      "  0.89571348 0.21246445 0.0697348  0.62888151]\n",
      " [0.88048641 0.94935719 0.70712063 0.57071211 0.89342662 0.1588294\n",
      "  0.9844102  0.80964558 0.         0.14541043 0.94435679 0.74091907\n",
      "  0.12113738 0.47701666 0.23221054 0.55781867 0.70072508 0.75156727\n",
      "  0.88251508 0.26682605 0.90321486 0.90714794 0.33888331 0.87497328\n",
      "  0.55362731 0.38639708 1.07194185 0.82004067 0.12182442 0.55448184\n",
      "  1.18459109 0.75897922 0.36230543 0.3848724  0.3739543  0.37926472\n",
      "  0.99880043 0.74123797 0.28471868 0.52813166 0.1574578  0.41202962\n",
      "  0.83758031 0.57857558 0.90345818 0.66077652 1.15167621 0.89851826\n",
      "  0.09491236 0.38436771 0.45161259 0.41839688 0.78413047 0.78800938\n",
      "  0.56998513 0.32824918 0.05804658 0.70959457 0.91612634 0.62218295\n",
      "  1.16242708 0.77429337 0.36331601 0.39577241 0.68589228 0.79842663\n",
      "  0.74210083 0.97866316 0.31170514 0.35522893 0.71071913 0.73594404\n",
      "  0.81419627 0.68055209 0.23879633 0.23651331 0.93877954 1.01737474\n",
      "  0.58040195 0.62007204 0.92933022 0.53812988 0.78367381 0.72621903\n",
      "  1.02797423 0.3420521  0.76009779 0.81416519 1.0452383  0.92729091\n",
      "  0.93484492 0.48149423 0.7629289  0.90411605 0.34303017 1.00344817\n",
      "  1.17714197 0.8451847  0.86511621 0.49188185]\n",
      " [0.73802407 0.81684512 0.64236996 0.47495731 0.78469712 0.01549324\n",
      "  0.83901282 0.67839884 0.14541043 0.         0.80868871 0.60584626\n",
      "  0.10046579 0.42724356 0.09062043 0.4199707  0.55782274 0.60677866\n",
      "  0.7505631  0.27109113 0.77010655 0.76601359 0.21618456 0.74427469\n",
      "  0.4083192  0.33671492 0.94001542 0.67465304 0.04578012 0.4210768\n",
      "  1.05436622 0.6511529  0.2211457  0.28029907 0.2777304  0.25376404\n",
      "  0.85594519 0.59934188 0.24609267 0.3847376  0.02074959 0.34292726\n",
      "  0.76193962 0.43679476 0.7962773  0.62720818 1.0216706  0.78186885\n",
      "  0.05868963 0.34555317 0.43039296 0.29833031 0.68335416 0.64996651\n",
      "  0.435542   0.23483966 0.14793919 0.65452387 0.78750566 0.55698837\n",
      "  1.03188209 0.63682036 0.35429417 0.26105915 0.54203768 0.67063466\n",
      "  0.66941227 0.85719403 0.28479296 0.21804311 0.58800746 0.59459599\n",
      "  0.73762387 0.53763715 0.16105404 0.12033828 0.83386574 0.88395709\n",
      "  0.46665316 0.48762777 0.79102998 0.44356277 0.63960868 0.66445078\n",
      "  0.88714384 0.2308531  0.70267976 0.73918064 0.90138478 0.8269047\n",
      "  0.78944568 0.34218126 0.69810829 0.7922232  0.29783159 0.85870444\n",
      "  1.04873551 0.70176342 0.73728618 0.36944799]\n",
      " [0.47647723 0.67685819 0.59126701 0.47945202 0.30688452 0.79975923\n",
      "  0.33974043 0.6497834  0.94435679 0.80868871 0.         0.20344344\n",
      "  0.83481086 0.67128838 0.71811023 0.38897142 0.28152401 0.28899497\n",
      "  0.08156267 0.82754984 0.65194609 0.11387398 0.74191899 0.09819733\n",
      "  0.44899962 0.69451097 0.14347409 0.30933429 0.84937726 0.39000785\n",
      "  0.25983399 0.33375956 0.58870852 0.58539553 0.60697766 0.56728875\n",
      "  0.16972628 0.48822503 0.93409653 0.4388514  0.80557612 0.63851496\n",
      "  0.54338974 0.5344067  0.32112622 0.73671351 0.23020633 0.2346234\n",
      "  0.84981714 0.72101513 0.76231305 0.73131513 0.37496035 0.16219901\n",
      "  0.61520603 0.82402097 0.9566278  0.64123423 0.71315731 0.59147468\n",
      "  0.23691085 0.56358475 0.79636429 0.54888663 0.4548777  0.17566367\n",
      "  0.54995728 0.1954338  0.76319116 0.68167248 0.27167264 0.49977374\n",
      "  0.53353637 0.47898336 0.85318518 0.70905932 0.34665962 0.08297728\n",
      "  0.40835293 0.32537797 0.57908788 0.50153594 0.24567256 0.60833948\n",
      "  0.13371861 0.77551466 0.63666791 0.54346004 0.22555973 0.38235387\n",
      "  0.32801288 0.60370349 0.59608955 0.27936891 0.71841463 0.25052534\n",
      "  0.26454693 0.44468694 0.70386522 0.4631134 ]\n",
      " [0.44225783 0.63606836 0.47966448 0.31491778 0.30713418 0.59723793\n",
      "  0.38665973 0.56853302 0.74091907 0.60584626 0.20344344 0.\n",
      "  0.63172551 0.50097636 0.51536436 0.18734397 0.1325016  0.19234038\n",
      "  0.1487672  0.63349325 0.60007715 0.19236985 0.5536388  0.1469035\n",
      "  0.27188527 0.50911548 0.33581108 0.26441362 0.64706035 0.18660239\n",
      "  0.4519275  0.24515605 0.38679623 0.38697652 0.41000352 0.36422677\n",
      "  0.29534015 0.39455103 0.74300631 0.246452   0.60328123 0.45289231\n",
      "  0.48038606 0.38242029 0.32432562 0.60644006 0.41986026 0.25647462\n",
      "  0.64640801 0.53688283 0.5900571  0.55445875 0.30202124 0.06154953\n",
      "  0.46601357 0.63716138 0.75375247 0.52824625 0.65639494 0.45399633\n",
      "  0.42909232 0.47840814 0.61194151 0.34557094 0.33733353 0.10280502\n",
      "  0.45170724 0.29161855 0.57146817 0.49149835 0.12517706 0.40367778\n",
      "  0.46279331 0.36046283 0.65820045 0.50568895 0.36399725 0.27845775\n",
      "  0.22864934 0.12290016 0.54763116 0.32926875 0.17140704 0.50197034\n",
      "  0.30205929 0.5891118  0.53886805 0.47173089 0.35371622 0.38497808\n",
      "  0.35045703 0.43113092 0.50213497 0.29304686 0.52816006 0.34073292\n",
      "  0.449787   0.39922178 0.63313979 0.26357357]\n",
      " [0.81457371 0.90592493 0.5909778  0.44957476 0.77275802 0.11479418\n",
      "  0.90089443 0.76895665 0.12113738 0.10046579 0.83481086 0.63172551\n",
      "  0.         0.36410734 0.14998343 0.45333016 0.60356191 0.66083138\n",
      "  0.77006109 0.1776512  0.85886708 0.80490395 0.31466609 0.76167344\n",
      "  0.46939564 0.27233009 0.95893608 0.73478086 0.12157016 0.44533795\n",
      "  1.07024677 0.63834373 0.26786374 0.26513569 0.25315882 0.26752787\n",
      "  0.89981658 0.67796034 0.33337191 0.43442713 0.12120147 0.293083\n",
      "  0.71913856 0.51715879 0.78262759 0.55595095 1.03725433 0.77921996\n",
      "  0.05889423 0.27434311 0.35093135 0.39659007 0.66301204 0.68176715\n",
      "  0.52519597 0.3347637  0.16104755 0.59644292 0.87939351 0.50556\n",
      "  1.04831968 0.72193366 0.26800118 0.29097039 0.6160565  0.68364315\n",
      "  0.62407666 0.86062513 0.2053169  0.30882633 0.5938698  0.67432234\n",
      "  0.69551397 0.61442685 0.25685912 0.12771234 0.81776814 0.90562317\n",
      "  0.46126543 0.50945064 0.87438588 0.4169931  0.68943423 0.6110049\n",
      "  0.9247271  0.33107237 0.64636887 0.69581402 0.94896765 0.80615374\n",
      "  0.85146797 0.42786759 0.64696042 0.78386225 0.22970286 0.91107569\n",
      "  1.06176449 0.77601129 0.82980861 0.37643261]\n",
      " [0.86280962 1.0166214  0.23262798 0.19183681 0.49174709 0.43288986\n",
      "  0.87121273 0.90099442 0.47701666 0.42724356 0.67128838 0.50097636\n",
      "  0.36410734 0.         0.38647995 0.40711365 0.55426648 0.63194361\n",
      "  0.59131257 0.22847576 0.97118874 0.69263978 0.56859925 0.57672207\n",
      "  0.51706961 0.09190173 0.75793696 0.7182964  0.46814532 0.37067785\n",
      "  0.85136449 0.37161512 0.37421011 0.21137411 0.19110423 0.28906985\n",
      "  0.79554437 0.75395038 0.67068651 0.45377815 0.44257281 0.0965707\n",
      "  0.36923884 0.63053485 0.4958451  0.20339289 0.81948352 0.52544577\n",
      "  0.41794333 0.09410886 0.09107562 0.63316941 0.36960103 0.56249107\n",
      "  0.68324307 0.62828393 0.52429698 0.23267839 1.01142208 0.15086404\n",
      "  0.83261006 0.82602677 0.14920723 0.33404231 0.68057185 0.49581572\n",
      "  0.27354886 0.6177334  0.16777116 0.52413606 0.39997127 0.75633785\n",
      "  0.34756053 0.69197296 0.57865808 0.32152843 0.52148918 0.71874602\n",
      "  0.27237209 0.39925616 0.95285739 0.17204839 0.63819623 0.25002531\n",
      "  0.79367877 0.60127067 0.28308242 0.34576487 0.85449142 0.498579\n",
      "  0.82774067 0.58669356 0.28764639 0.51225299 0.13450586 0.8398144\n",
      "  0.83427294 0.81742587 0.9702524  0.2817987 ]\n",
      " [0.66470269 0.75865609 0.58562081 0.40291482 0.70272502 0.08216447\n",
      "  0.75579542 0.62304935 0.23221054 0.09062043 0.71811023 0.51536436\n",
      "  0.14998343 0.38647995 0.         0.32935149 0.46861387 0.51993522\n",
      "  0.66047954 0.27987406 0.7114735  0.67596506 0.19261736 0.6544492\n",
      "  0.32380703 0.30191956 0.84984664 0.5903819  0.13235645 0.33106376\n",
      "  0.96446229 0.57033891 0.13079131 0.20941392 0.21347583 0.16890502\n",
      "  0.76674316 0.52797852 0.29205754 0.29592114 0.08902349 0.29393454\n",
      "  0.69722218 0.36739605 0.71495862 0.58983534 0.93182365 0.69652439\n",
      "  0.13832652 0.31752439 0.40818803 0.26925518 0.60581574 0.55936203\n",
      "  0.37960724 0.24242902 0.23853845 0.60337486 0.73440839 0.50174468\n",
      "  0.94192528 0.57302348 0.34531326 0.17126801 0.46639529 0.58163622\n",
      "  0.60753659 0.76988307 0.27132938 0.16848156 0.50094637 0.52438225\n",
      "  0.67264699 0.46447452 0.1967372  0.06679595 0.75342488 0.79358381\n",
      "  0.38454581 0.39771438 0.72483581 0.37297607 0.55152219 0.60909861\n",
      "  0.79702001 0.22022395 0.6492909  0.67508281 0.8130329  0.74864271\n",
      "  0.70624377 0.28026546 0.64041291 0.70882279 0.27000703 0.77166502\n",
      "  0.95922061 0.62643085 0.68560754 0.28407057]\n",
      " [0.45600407 0.61888079 0.47556588 0.26417308 0.43335476 0.41082771\n",
      "  0.47793659 0.51642013 0.55781867 0.4199707  0.38897142 0.18734397\n",
      "  0.45333016 0.40711365 0.32935149 0.         0.15961217 0.23163776\n",
      "  0.33509471 0.4829003  0.5752997  0.35163179 0.37569416 0.33112464\n",
      "  0.13712727 0.38417266 0.5231331  0.31673243 0.46040601 0.04124144\n",
      "  0.63904789 0.3221548  0.19976402 0.23544494 0.26177506 0.19029915\n",
      "  0.44799772 0.35500985 0.56070932 0.08022175 0.41660482 0.33210971\n",
      "  0.52846075 0.26731096 0.44896655 0.56461371 0.60682743 0.40491199\n",
      "  0.46293986 0.41278512 0.48549474 0.38969465 0.37517882 0.23028253\n",
      "  0.34342142 0.45951393 0.5678813  0.51628482 0.62157441 0.41939086\n",
      "  0.61626105 0.43336995 0.48310957 0.1626609  0.28227411 0.2666783\n",
      "  0.4674072  0.46249222 0.42858006 0.3125498  0.21006988 0.35931941\n",
      "  0.50581587 0.29787375 0.47332459 0.32574609 0.49042601 0.46569386\n",
      "  0.17748374 0.08351276 0.54865225 0.2587994  0.24840891 0.5011823\n",
      "  0.47144941 0.4125971  0.54357157 0.512519   0.49957165 0.49912144\n",
      "  0.43123564 0.27868879 0.51555393 0.42970144 0.39086089 0.46788944\n",
      "  0.63606303 0.41050307 0.58598353 0.12575891]\n",
      " [0.32739979 0.5130159  0.57997171 0.38762147 0.43953191 0.54667721\n",
      "  0.31983825 0.43759141 0.70072508 0.55782274 0.28152401 0.1325016\n",
      "  0.60356191 0.55426648 0.46861387 0.15961217 0.         0.07859891\n",
      "  0.25720069 0.64248029 0.47460569 0.21141385 0.46355862 0.26174631\n",
      "  0.16894277 0.54047898 0.42480203 0.16456532 0.59413319 0.18717746\n",
      "  0.54135685 0.36757527 0.33861044 0.39484454 0.42102538 0.34755194\n",
      "  0.29814889 0.2636271  0.65652443 0.17319183 0.55097811 0.48681059\n",
      "  0.5997956  0.25851178 0.45670635 0.69116968 0.5115348  0.38816018\n",
      "  0.60625241 0.56913749 0.63720967 0.44980477 0.42520201 0.12664962\n",
      "  0.34159883 0.54448462 0.70367053 0.62600713 0.52901781 0.53975963\n",
      "  0.51843407 0.34770662 0.6408378  0.31420358 0.20483193 0.23471931\n",
      "  0.55948029 0.41486022 0.58793244 0.40517305 0.24111565 0.27228126\n",
      "  0.58037783 0.22800774 0.5798115  0.47619279 0.49648772 0.36433991\n",
      "  0.29434568 0.15911516 0.42957042 0.39193193 0.08880891 0.60407858\n",
      "  0.33224904 0.49598428 0.64381192 0.5887385  0.34545457 0.51693142\n",
      "  0.27442538 0.32220627 0.60993945 0.42547815 0.54949266 0.30955034\n",
      "  0.5451929  0.28229725 0.5032894  0.27981991]\n",
      " [0.25239277 0.44377582 0.65646833 0.46616381 0.49506794 0.59454215\n",
      "  0.24688793 0.38117298 0.75156727 0.60677866 0.28899497 0.19234038\n",
      "  0.66083138 0.63194361 0.51993522 0.23163776 0.07859891 0.\n",
      "  0.28673476 0.71180388 0.40787241 0.19372272 0.48777199 0.29555885\n",
      "  0.20064204 0.61536478 0.4303387  0.08635423 0.63997615 0.26288586\n",
      "  0.54350076 0.43602823 0.39310839 0.46653383 0.4930353  0.41372703\n",
      "  0.2593703  0.20917174 0.67978326 0.22650283 0.59786517 0.56244071\n",
      "  0.67039965 0.25121742 0.5122763  0.76954365 0.51611471 0.43737491\n",
      "  0.65825895 0.6440124  0.71401002 0.46092223 0.49335827 0.16253973\n",
      "  0.32888286 0.56460684 0.74956157 0.70300779 0.46473712 0.61793129\n",
      "  0.52110897 0.2912261  0.71473308 0.37653545 0.16626089 0.28800318\n",
      "  0.63429466 0.44983277 0.65951083 0.4341902  0.31145316 0.21960205\n",
      "  0.65182744 0.19047424 0.61032099 0.53490281 0.55048137 0.37063035\n",
      "  0.3728995  0.23769223 0.35655154 0.47047469 0.04431566 0.68028383\n",
      "  0.30629877 0.51680014 0.71948693 0.66045923 0.29738112 0.57435491\n",
      "  0.19965119 0.33351308 0.68485052 0.47789138 0.62242299 0.25192614\n",
      "  0.55173744 0.20819362 0.44358073 0.35516555]\n",
      " [0.50586412 0.70699037 0.51095993 0.39955477 0.2416555  0.7426006\n",
      "  0.39290028 0.66412207 0.88251508 0.7505631  0.08156267 0.1487672\n",
      "  0.77006109 0.59131257 0.66047954 0.33509471 0.25720069 0.28673476\n",
      "  0.         0.75342674 0.67770619 0.15796138 0.70177919 0.01768371\n",
      "  0.41554333 0.61749573 0.1895483  0.32861015 0.79266394 0.32948644\n",
      "  0.30423356 0.25332215 0.53345868 0.51506473 0.53545677 0.50345982\n",
      "  0.23990823 0.49501616 0.89164851 0.3947876  0.74898718 0.56180054\n",
      "  0.46920972 0.5157124  0.25739211 0.65551732 0.27183521 0.17162699\n",
      "  0.7886776  0.64355187 0.68238405 0.69951685 0.29684472 0.13069876\n",
      "  0.59873207 0.78511749 0.89815772 0.56098933 0.73772807 0.50992776\n",
      "  0.2815711  0.57519055 0.71875855 0.48951481 0.45090297 0.0956898\n",
      "  0.47071828 0.16334417 0.68816902 0.6398904  0.19301937 0.50580535\n",
      "  0.45791951 0.47509743 0.80694565 0.6461432  0.28835734 0.13593932\n",
      "  0.33195961 0.26301486 0.61134874 0.42260965 0.24826014 0.52857116\n",
      "  0.21346839 0.7369217  0.55795685 0.46778048 0.29879745 0.32065149\n",
      "  0.37261556 0.57414581 0.51762662 0.21676723 0.64294771 0.31387126\n",
      "  0.30111654 0.46917008 0.72296132 0.3947826 ]\n",
      " [0.90434397 1.02289778 0.46033691 0.37569213 0.70094796 0.28292863\n",
      "  0.95862421 0.89177061 0.26682605 0.27109113 0.82754984 0.63349325\n",
      "  0.1776512  0.22847576 0.27987406 0.4829003  0.64248029 0.71180388\n",
      "  0.75342674 0.         0.97569265 0.82193211 0.46974668 0.74165697\n",
      "  0.54473558 0.15083401 0.93492332 0.79407397 0.29886371 0.46028748\n",
      "  1.03815394 0.57137712 0.34816833 0.24930889 0.22446812 0.29942931\n",
      "  0.92300698 0.77575207 0.51096559 0.49359334 0.29118895 0.19892567\n",
      "  0.59771194 0.62458223 0.70751516 0.39601669 1.00536689 0.72320631\n",
      "  0.23641757 0.1358578  0.18607507 0.54857965 0.58158313 0.69128592\n",
      "  0.65154631 0.50396646 0.32105593 0.45485479 1.00415621 0.37932016\n",
      "  1.01769484 0.8325985  0.09667285 0.34139746 0.70676998 0.65957745\n",
      "  0.50200593 0.8122549  0.06801694 0.44776096 0.56270846 0.77453517\n",
      "  0.57598753 0.71068116 0.43175416 0.22023254 0.73726356 0.88803887\n",
      "  0.42232243 0.51336282 0.9779657  0.34508307 0.73128879 0.4762345\n",
      "  0.9355251  0.49274212 0.50592037 0.57424044 0.9778262  0.71818588\n",
      "  0.91075289 0.55008101 0.51457237 0.71778143 0.11393623 0.95003877\n",
      "  1.02482006 0.86192938 0.95695694 0.37170232]\n",
      " [0.17612913 0.04726288 1.04547287 0.8388118  0.90125925 0.75469019\n",
      "  0.35468156 0.09580412 0.90321486 0.77010655 0.65194609 0.60007715\n",
      "  0.85886708 0.97118874 0.7114735  0.5752997  0.47460569 0.40787241\n",
      "  0.67770619 0.97569265 0.         0.53812859 0.56522456 0.69001138\n",
      "  0.45412002 0.92700632 0.77157991 0.34919597 0.78189538 0.61607312\n",
      "  0.86554954 0.84189182 0.62901444 0.76952134 0.79490024 0.69566108\n",
      "  0.52842089 0.22037221 0.7011047  0.51774743 0.75257877 0.88400755\n",
      "  1.0742954  0.35146408 0.91840177 1.13970822 0.84657131 0.84031318\n",
      "  0.82877138 0.95367638 1.03857552 0.48969611 0.89947483 0.566486\n",
      "  0.33456472 0.59865884 0.87494899 1.08873176 0.06163744 0.99427209\n",
      "  0.84657026 0.14553424 1.01185352 0.64893252 0.29311971 0.69476787\n",
      "  1.02998531 0.83853751 0.94296846 0.55210045 0.71569085 0.21614257\n",
      "  1.05460292 0.27951726 0.68264215 0.75925711 0.95555439 0.72037603\n",
      "  0.74873115 0.61997299 0.08797827 0.833972   0.43586262 1.07050005\n",
      "  0.59559202 0.5689094  1.11171911 1.06281903 0.51624737 0.98108214\n",
      "  0.33881016 0.43126901 1.07999412 0.88250735 0.91843578 0.45380374\n",
      "  0.88369888 0.20861215 0.0761127  0.6937701 ]\n",
      " [0.36260337 0.56305367 0.64935462 0.50443892 0.39959176 0.75546519\n",
      "  0.23497682 0.53803586 0.90714794 0.76601359 0.11387398 0.19236985\n",
      "  0.80490395 0.69263978 0.67596506 0.35163179 0.21141385 0.19372272\n",
      "  0.15796138 0.82193211 0.53812859 0.         0.67262865 0.17450096\n",
      "  0.37842067 0.70103115 0.24316984 0.19832028 0.80363283 0.36457642\n",
      "  0.35239465 0.39554001 0.54520612 0.5733373  0.5975351  0.54068164\n",
      "  0.10299604 0.38053646 0.86564335 0.38313141 0.76018991 0.64488035\n",
      "  0.62191634 0.4448915  0.4153522  0.78615439 0.32668117 0.32941178\n",
      "  0.81229073 0.72893398 0.78211134 0.65206949 0.44517724 0.13165928\n",
      "  0.52223542 0.7521009  0.91285688 0.69921437 0.59938757 0.63547168\n",
      "  0.33047868 0.4531275  0.80384828 0.51399685 0.35454744 0.22280688\n",
      "  0.61384081 0.30574413 0.76138709 0.61552305 0.30145866 0.39236044\n",
      "  0.60888237 0.37811371 0.79077481 0.67724866 0.44573844 0.18634665\n",
      "  0.42063113 0.30861443 0.46540299 0.52065222 0.14954397 0.6692221\n",
      "  0.12124184 0.70378802 0.70195369 0.61858903 0.16202472 0.47856467\n",
      "  0.21714327 0.52400598 0.6626167  0.37462883 0.71881645 0.1602922\n",
      "  0.36318846 0.33121676 0.59082367 0.4502601 ]\n",
      " [0.55894386 0.61103999 0.74731791 0.54462749 0.80180734 0.20095444\n",
      "  0.69010008 0.47108638 0.33888331 0.21618456 0.74191899 0.5536388\n",
      "  0.31466609 0.56859925 0.19261736 0.37569416 0.46355862 0.48777199\n",
      "  0.70177919 0.46974668 0.56522456 0.67262865 0.         0.70052817\n",
      "  0.2946885  0.48926868 0.88339191 0.53650158 0.21896855 0.39769713\n",
      "  1.0004979  0.6786929  0.21714941 0.36927484 0.38232185 0.30185087\n",
      "  0.74714179 0.41990837 0.19304881 0.30719752 0.19633291 0.47283269\n",
      "  0.84377024 0.2628037  0.81636997 0.7710833  0.96947059 0.77943572\n",
      "  0.27271192 0.50719117 0.59864214 0.08214704 0.72406257 0.58039339\n",
      "  0.23516126 0.08385658 0.31013295 0.77176748 0.57726411 0.6674005\n",
      "  0.97749708 0.44111682 0.53792453 0.27343184 0.37721066 0.64166824\n",
      "  0.76103266 0.83782702 0.46390863 0.06322503 0.58181468 0.41265806\n",
      "  0.81922632 0.36587351 0.12802749 0.25851341 0.85723206 0.82356142\n",
      "  0.49856078 0.45850583 0.59633893 0.51949424 0.52842027 0.77219461\n",
      "  0.79124722 0.0379446  0.814195   0.8232312  0.7825953  0.8603574\n",
      "  0.64184012 0.16273636 0.79965558 0.80137008 0.46045734 0.73060949\n",
      "  1.00123415 0.5289743  0.52631476 0.394247  ]\n",
      " [0.519007   0.71994801 0.49361313 0.38512324 0.2251787  0.7366106\n",
      "  0.40925953 0.6745334  0.87497328 0.74427469 0.09819733 0.1469035\n",
      "  0.76167344 0.57672207 0.6544492  0.33112464 0.26174631 0.29555885\n",
      "  0.01768371 0.74165697 0.69001138 0.17450096 0.70052817 0.\n",
      "  0.41673946 0.60452848 0.19726832 0.34081671 0.78675418 0.32342374\n",
      "  0.31011106 0.23598081 0.52836534 0.50499947 0.52490621 0.49572449\n",
      "  0.25756318 0.50444148 0.88957305 0.3933321  0.74315943 0.54901432\n",
      "  0.45158821 0.51996686 0.24110248 0.63854454 0.27739638 0.15586437\n",
      "  0.7814288  0.63035226 0.66779583 0.70033908 0.27918669 0.13632423\n",
      "  0.60325148 0.78406433 0.89163596 0.54362957 0.74977145 0.49341756\n",
      "  0.28770561 0.58528038 0.70545425 0.48325926 0.45844209 0.08231205\n",
      "  0.45317168 0.15460386 0.67605985 0.63832038 0.17985939 0.51506107\n",
      "  0.44024708 0.48256671 0.80396032 0.63848099 0.27286082 0.14645021\n",
      "  0.31963032 0.25673917 0.62474373 0.40877789 0.25835169 0.51110839\n",
      "  0.23077664 0.73601156 0.5403599  0.45010628 0.31648031 0.3045238\n",
      "  0.38809295 0.57575577 0.50000734 0.20081074 0.63067397 0.3311742\n",
      "  0.30527598 0.48165092 0.73411193 0.38571493]\n",
      " [0.36003881 0.49962552 0.61002006 0.39602236 0.55688774 0.39556723\n",
      "  0.43203829 0.38696873 0.55362731 0.4083192  0.44899962 0.27188527\n",
      "  0.46939564 0.51706961 0.32380703 0.13712727 0.16894277 0.20064204\n",
      "  0.41554333 0.54473558 0.45412002 0.37842067 0.2946885  0.41673946\n",
      "  0.         0.47619543 0.591601   0.26663557 0.44005577 0.17720026\n",
      "  0.70855328 0.45464942 0.20366443 0.31847667 0.3446225  0.24902798\n",
      "  0.45740492 0.23832844 0.48771037 0.06461481 0.39843802 0.43088619\n",
      "  0.66551896 0.13019106 0.57324591 0.68988049 0.6781456  0.51926802\n",
      "  0.4615439  0.50366204 0.58602697 0.28405458 0.50927673 0.28915171\n",
      "  0.20797052 0.37559262 0.54947129 0.64908387 0.4955892  0.54950968\n",
      "  0.68557274 0.30907189 0.56647701 0.20411686 0.16573892 0.36971749\n",
      "  0.60385153 0.56328167 0.50197198 0.23714068 0.33519987 0.23983115\n",
      "  0.64292789 0.17512012 0.41278063 0.34745544 0.61467988 0.53135363\n",
      "  0.31331314 0.21016218 0.44016134 0.38626316 0.23766997 0.63579059\n",
      "  0.49795571 0.32708173 0.6784771  0.64964596 0.49789686 0.62709051\n",
      "  0.38250679 0.15924973 0.65154195 0.5494807  0.47212921 0.4517789\n",
      "  0.71097073 0.31721824 0.45668274 0.24191575]\n",
      " [0.83207321 0.97336453 0.32095307 0.22794899 0.5506784  0.34301618\n",
      "  0.86031648 0.85142852 0.38639708 0.33671492 0.69451097 0.50911548\n",
      "  0.27233009 0.09190173 0.30191956 0.38417266 0.54047898 0.61536478\n",
      "  0.61749573 0.15083401 0.92700632 0.70103115 0.48926868 0.60452848\n",
      "  0.47619543 0.         0.79417543 0.70085392 0.37690273 0.35330717\n",
      "  0.89423658 0.42236065 0.30942246 0.15779442 0.13210866 0.23198717\n",
      "  0.80369321 0.71443835 0.58136323 0.41623697 0.35265776 0.05628423\n",
      "  0.45409832 0.57922825 0.55696123 0.29082282 0.86167935 0.57522132\n",
      "  0.32605708 0.02866018 0.11401522 0.55809089 0.43087377 0.56937398\n",
      "  0.62401013 0.54433578 0.43277877 0.32414837 0.96327343 0.23659073\n",
      "  0.8743081  0.78150319 0.1028279  0.27879772 0.64190226 0.52224155\n",
      "  0.35814113 0.66538687 0.08385462 0.44946279 0.42467401 0.71547505\n",
      "  0.4314396  0.65056223 0.49052377 0.23563241 0.58644808 0.75002446\n",
      "  0.28617322 0.39546242 0.91628059 0.19895271 0.62788347 0.33982253\n",
      "  0.80947314 0.52023534 0.37423969 0.43057454 0.86086085 0.56746227\n",
      "  0.81452722 0.52447378 0.37664032 0.56811996 0.04343026 0.83953658\n",
      "  0.87964803 0.78752151 0.9197485  0.26066291]\n",
      " [0.59561301 0.79173091 0.63777355 0.56931732 0.31480191 0.93193347\n",
      "  0.43413438 0.77898336 1.07194185 0.94001542 0.14347409 0.33581108\n",
      "  0.95893608 0.75793696 0.84984664 0.5231331  0.42480203 0.4303387\n",
      "  0.1895483  0.93492332 0.77157991 0.24316984 0.88339191 0.19726832\n",
      "  0.591601   0.79417543 0.         0.44100305 0.98194667 0.51896128\n",
      "  0.11710604 0.39287827 0.72227775 0.70157741 0.72090089 0.69277351\n",
      "  0.24940784 0.62370626 1.07497302 0.578377   0.93823331 0.73957044\n",
      "  0.55979714 0.67756951 0.32330737 0.78993051 0.08674654 0.2510412\n",
      "  0.97818757 0.81892978 0.84837957 0.87447874 0.41743815 0.30303993\n",
      "  0.75795502 0.96591771 1.08766344 0.68594803 0.83321366 0.65617735\n",
      "  0.09410518 0.69548315 0.89327983 0.67899451 0.59516894 0.27701257\n",
      "  0.58999534 0.16690169 0.86848087 0.82254905 0.37248335 0.63552568\n",
      "  0.556084   0.6190845  0.99245169 0.83550612 0.33259709 0.06050128\n",
      "  0.51280308 0.45254941 0.69317728 0.59585381 0.38641113 0.65018219\n",
      "  0.18479708 0.91745346 0.67088391 0.56586285 0.28476588 0.37232721\n",
      "  0.4355684  0.74700758 0.63002593 0.2854408  0.82269711 0.33347146\n",
      "  0.12145234 0.56896636 0.82888288 0.58293802]\n",
      " [0.18050556 0.37993712 0.73805001 0.55144294 0.55495122 0.66165344\n",
      "  0.16634268 0.34045201 0.82004067 0.67465304 0.30933429 0.26441362\n",
      "  0.73478086 0.7182964  0.5903819  0.31673243 0.16456532 0.08635423\n",
      "  0.32861015 0.79407397 0.34919597 0.19832028 0.53650158 0.34081671\n",
      "  0.26663557 0.70085392 0.44100305 0.         0.7050876  0.34897027\n",
      "  0.54710048 0.50943388 0.4672376  0.55063378 0.57724707 0.49498267\n",
      "  0.22857975 0.18408428 0.72468975 0.30344417 0.66416951 0.64826806\n",
      "  0.74473686 0.28137523 0.57195788 0.85420613 0.52305374 0.49205685\n",
      "  0.72817798 0.72948124 0.80020168 0.498264   0.56597691 0.22128842\n",
      "  0.34761062 0.60818751 0.81395966 0.7852565  0.40911927 0.70220364\n",
      "  0.52584685 0.25481588 0.79968303 0.45580615 0.1731503  0.35063974\n",
      "  0.71371808 0.49022987 0.74323046 0.48825168 0.38806869 0.19612436\n",
      "  0.72719939 0.19399905 0.66266667 0.6105972  0.60808253 0.38466644\n",
      "  0.45827237 0.32327033 0.28680901 0.55644342 0.09301092 0.76142975\n",
      "  0.28791382 0.56188704 0.79985906 0.73611449 0.25103033 0.63519984\n",
      "  0.11729594 0.37562737 0.76428865 0.53494258 0.70693864 0.19484717\n",
      "  0.55992754 0.14097977 0.39581354 0.4410364 ]\n",
      " [0.75953857 0.82817298 0.68597468 0.52062342 0.83025032 0.05024156\n",
      "  0.86811818 0.68866826 0.12182442 0.04578012 0.84937726 0.64706035\n",
      "  0.12157016 0.46814532 0.13235645 0.46040601 0.59413319 0.63997615\n",
      "  0.79266394 0.29886371 0.78189538 0.80363283 0.21896855 0.78675418\n",
      "  0.44005577 0.37690273 0.98194667 0.7050876  0.         0.46333968\n",
      "  1.09672381 0.69679409 0.26072335 0.32603628 0.32311415 0.2985373\n",
      "  0.89186362 0.6201148  0.21224423 0.42098682 0.04380122 0.38601882\n",
      "  0.80672293 0.45755004 0.84189615 0.66641148 1.06410893 0.82683108\n",
      "  0.06440884 0.38394867 0.46628567 0.29987626 0.72913255 0.68974458\n",
      "  0.44830462 0.22064308 0.10968734 0.69699966 0.79589897 0.60046231\n",
      "  1.07416312 0.65247009 0.38680786 0.30362367 0.56609657 0.71393869\n",
      "  0.71384915 0.90150052 0.31997817 0.23351241 0.63237323 0.61462651\n",
      "  0.78245777 0.56000181 0.13721337 0.1660518  0.87955498 0.92543916\n",
      "  0.51211426 0.53001507 0.80750925 0.48916217 0.67419933 0.70776183\n",
      "  0.92486587 0.22618273 0.74554517 0.78389102 0.93598625 0.87267815\n",
      "  0.81863104 0.35989219 0.74181309 0.83758747 0.33678686 0.89168894\n",
      "  1.09157292 0.724855   0.74508449 0.41424875]\n",
      " [0.49410475 0.65944969 0.43437544 0.22305345 0.40524156 0.41321523\n",
      "  0.50701091 0.55765584 0.55448184 0.4210768  0.39000785 0.18660239\n",
      "  0.44533795 0.37067785 0.33106376 0.04124144 0.18717746 0.26288586\n",
      "  0.32948644 0.46028748 0.61607312 0.36457642 0.39769713 0.32342374\n",
      "  0.17720026 0.35330717 0.51896128 0.34897027 0.46333968 0.\n",
      "  0.63339872 0.28861298 0.20590768 0.21101667 0.23644715 0.17807406\n",
      "  0.46397335 0.39572193 0.57790201 0.11715735 0.41973571 0.29974222\n",
      "  0.48931303 0.30716658 0.42030524 0.52420655 0.60076984 0.38219152\n",
      "  0.46012031 0.38196459 0.45126645 0.41829676 0.33995625 0.23734159\n",
      "  0.38184002 0.48102987 0.5687064  0.47504621 0.66266623 0.37836591\n",
      "  0.61086548 0.47445345 0.45392011 0.16003371 0.32317497 0.25260647\n",
      "  0.42673128 0.44579101 0.40303013 0.3345455  0.18412537 0.40021067\n",
      "  0.46642885 0.33901705 0.48788068 0.31908869 0.46154407 0.46330926\n",
      "  0.13645303 0.06671012 0.58811527 0.21847469 0.27480272 0.46000969\n",
      "  0.48207544 0.43522057 0.50244023 0.47295064 0.51782775 0.46793868\n",
      "  0.46141502 0.31258054 0.47467212 0.40378333 0.3633208  0.49026845\n",
      "  0.62842931 0.4484746  0.62721175 0.09264443]\n",
      " [0.69109571 0.88188454 0.70971052 0.66697656 0.37962372 1.04661311\n",
      "  0.51726485 0.88039401 1.18459109 1.05436622 0.25983399 0.4519275\n",
      "  1.07024677 0.85136449 0.96446229 0.63904789 0.54135685 0.54350076\n",
      "  0.30423356 1.03815394 0.86554954 0.35239465 1.0004979  0.31011106\n",
      "  0.70855328 0.89423658 0.11710604 0.54710048 1.09672381 0.63339872\n",
      "  0.         0.48047263 0.83769108 0.81023818 0.82843923 0.80535582\n",
      "  0.33712993 0.73104577 1.19204521 0.69535096 1.05308465 0.84078054\n",
      "  0.61448078 0.79246493 0.3835807  0.86308339 0.03302952 0.32857003\n",
      "  1.09130267 0.91788385 0.94058308 0.99114788 0.49491943 0.42013941\n",
      "  0.87208198 1.08301173 1.20174619 0.75563093 0.92702876 0.73868483\n",
      "  0.02300124 0.79953894 0.99117094 0.79332738 0.70677374 0.38660799\n",
      "  0.65917825 0.23584963 0.97097065 0.93963226 0.47894462 0.7430243\n",
      "  0.61506721 0.73043662 1.10928196 0.94808272 0.38074216 0.17720004\n",
      "  0.61805061 0.56676394 0.78378299 0.6952852  0.49928122 0.71886953\n",
      "  0.2699628  1.03454336 0.73410245 0.62438715 0.35759013 0.41948074\n",
      "  0.52677254 0.86351914 0.69413725 0.35249565 0.92494237 0.41521807\n",
      "  0.03117783 0.66841567 0.92664663 0.69381485]\n",
      " [0.68726028 0.87932739 0.25763877 0.1959978  0.13445435 0.64804269\n",
      "  0.61980766 0.80317135 0.75897922 0.6511529  0.33375956 0.24515605\n",
      "  0.63834373 0.37161512 0.57033891 0.3221548  0.36757527 0.43602823\n",
      "  0.25332215 0.57137712 0.84189182 0.39554001 0.6786929  0.23598081\n",
      "  0.45464942 0.42236065 0.39287827 0.50943388 0.69679409 0.28861298\n",
      "  0.48047263 0.         0.46861244 0.37481601 0.38519816 0.4018816\n",
      "  0.48940789 0.62995766 0.84741966 0.40236619 0.65649534 0.37264466\n",
      "  0.23532096 0.58274622 0.14518284 0.40388375 0.44897884 0.15398178\n",
      "  0.67314295 0.44363447 0.46023282 0.70593526 0.05763042 0.29307369\n",
      "  0.66259947 0.76022734 0.78906012 0.30766768 0.89659041 0.26375862\n",
      "  0.46231079 0.71393538 0.51471099 0.41260364 0.56581839 0.17287732\n",
      "  0.21865606 0.24612086 0.50336065 0.61648466 0.12684775 0.63787817\n",
      "  0.21844333 0.5869926  0.75317387 0.53234023 0.18308781 0.3617417\n",
      "  0.18602652 0.24457086 0.79233891 0.2276247  0.41643483 0.27553933\n",
      "  0.46675543 0.7166222  0.30661683 0.22765109 0.54937201 0.18174285\n",
      "  0.58874889 0.60053276 0.26708576 0.14711139 0.45756361 0.55580646\n",
      "  0.46274268 0.64388136 0.86997483 0.28982232]\n",
      " [0.55885138 0.6760926  0.53310692 0.32758287 0.59654122 0.21137738\n",
      "  0.6335018  0.54795658 0.36230543 0.2211457  0.58870852 0.38679623\n",
      "  0.26786374 0.37421011 0.13079131 0.19976402 0.33861044 0.39310839\n",
      "  0.53345868 0.34816833 0.62901444 0.54520612 0.21714941 0.52836534\n",
      "  0.20366443 0.30942246 0.72227775 0.4672376  0.26072335 0.20590768\n",
      "  0.83769108 0.46861244 0.         0.16372258 0.18324012 0.08834615\n",
      "  0.63655594 0.42791327 0.37916914 0.16705312 0.21692822 0.27819531\n",
      "  0.62663681 0.27756108 0.61011971 0.57085871 0.80526176 0.58250045\n",
      "  0.26768136 0.33341206 0.42343716 0.26606249 0.51090465 0.42910938\n",
      "  0.31499724 0.29460855 0.36875443 0.56039701 0.66043548 0.45556342\n",
      "  0.81500348 0.48503057 0.38484438 0.05680285 0.36010567 0.45848424\n",
      "  0.54465197 0.65058912 0.31437417 0.16024632 0.38420827 0.42645543\n",
      "  0.6021024  0.36287359 0.28600377 0.14384727 0.65013978 0.66525349\n",
      "  0.28472494 0.27236955 0.62986491 0.30308978 0.42280525 0.55835367\n",
      "  0.66623784 0.25455746 0.60084122 0.60616834 0.68369173 0.65008359\n",
      "  0.58417557 0.21505162 0.58440558 0.59931237 0.29335798 0.64395132\n",
      "  0.83363069 0.51771956 0.61495385 0.17969773]\n",
      " [0.675499   0.81578136 0.38010439 0.19491127 0.50921727 0.2793877\n",
      "  0.71321656 0.69510408 0.3848724  0.28029907 0.58539553 0.38697652\n",
      "  0.26513569 0.21137411 0.20941392 0.23544494 0.39484454 0.46653383\n",
      "  0.51506473 0.24930889 0.76952134 0.5733373  0.36927484 0.50499947\n",
      "  0.31847667 0.15779442 0.70157741 0.55063378 0.32603628 0.21101667\n",
      "  0.81023818 0.37481601 0.16372258 0.         0.02673123 0.07774514\n",
      "  0.67397771 0.55666487 0.50084869 0.25924255 0.28849615 0.11686229\n",
      "  0.48788076 0.42315936 0.51978644 0.40727105 0.77721008 0.51408723\n",
      "  0.29839713 0.18519288 0.26927681 0.42723598 0.4037901  0.44337701\n",
      "  0.47242335 0.43785954 0.41439224 0.40260401 0.80661477 0.29853981\n",
      "  0.78874704 0.62399187 0.25044813 0.12347835 0.48420981 0.4246258\n",
      "  0.39900909 0.59614151 0.19313511 0.31896505 0.33156016 0.55768128\n",
      "  0.46328973 0.49276934 0.40510124 0.15999013 0.55617872 0.65093985\n",
      "  0.19626416 0.26528359 0.75862176 0.1640902  0.48352078 0.40444766\n",
      "  0.68832508 0.40454026 0.44588961 0.46584043 0.72854989 0.54747947\n",
      "  0.66616399 0.37533671 0.43386992 0.51930602 0.15665051 0.70108546\n",
      "  0.80022285 0.63125854 0.76379261 0.12348214]\n",
      " [0.70205165 0.84125703 0.37229763 0.19877512 0.51960122 0.27830026\n",
      "  0.73964929 0.71972564 0.3739543  0.2777304  0.60697766 0.41000352\n",
      "  0.25315882 0.19110423 0.21347583 0.26177506 0.42102538 0.4930353\n",
      "  0.53545677 0.22446812 0.79490024 0.5975351  0.38232185 0.52490621\n",
      "  0.3446225  0.13210866 0.72090089 0.57724707 0.32311415 0.23644715\n",
      "  0.82843923 0.38519816 0.18324012 0.02673123 0.         0.10063195\n",
      "  0.69853909 0.58267881 0.50549793 0.28577436 0.28768285 0.09496117\n",
      "  0.48537523 0.44760147 0.52951017 0.39024224 0.79542842 0.52778916\n",
      "  0.2906506  0.15912652 0.24456812 0.44341194 0.4109168  0.46712621\n",
      "  0.49499007 0.44793879 0.40658341 0.39185173 0.83142691 0.28898398\n",
      "  0.80715183 0.64939493 0.22373155 0.14723586 0.51035906 0.44390927\n",
      "  0.39448011 0.61151448 0.16692124 0.33457968 0.34949833 0.58355887\n",
      "  0.46091437 0.51864011 0.41019481 0.15804833 0.56494025 0.67114941\n",
      "  0.21165774 0.28906922 0.78478264 0.16671247 0.50963496 0.39600842\n",
      "  0.71177571 0.41668343 0.4366658  0.46290885 0.75347055 0.55446591\n",
      "  0.69267931 0.39691827 0.42695692 0.53098003 0.12992634 0.72669729\n",
      "  0.81770511 0.65786099 0.78823466 0.14727506]\n",
      " [0.6087573  0.74221335 0.4458869  0.24462476 0.53388404 0.24870938\n",
      "  0.66012583 0.61944189 0.37926472 0.25376404 0.56728875 0.36422677\n",
      "  0.26752787 0.28906985 0.16890502 0.19029915 0.34755194 0.41372703\n",
      "  0.50345982 0.29942931 0.69566108 0.54068164 0.30185087 0.49572449\n",
      "  0.24902798 0.23198717 0.69277351 0.49498267 0.2985373  0.17807406\n",
      "  0.80535582 0.4018816  0.08834615 0.07774514 0.10063195 0.\n",
      "  0.63812551 0.48560749 0.44990683 0.19450799 0.25661601 0.19444042\n",
      "  0.54372166 0.34724565 0.54624038 0.4833174  0.77245659 0.52831463\n",
      "  0.28611743 0.25815207 0.34508019 0.35426466 0.43914427 0.41519149\n",
      "  0.39477431 0.37556187 0.39850145 0.47230219 0.73130715 0.36750322\n",
      "  0.7831695  0.55027745 0.31783894 0.04682248 0.41412197 0.41947212\n",
      "  0.45936354 0.60362484 0.25311976 0.24752766 0.33445067 0.48590873\n",
      "  0.519098   0.42106115 0.35440542 0.14275774 0.58494294 0.63867252\n",
      "  0.21589646 0.24195455 0.68821152 0.21808144 0.43596166 0.47096812\n",
      "  0.65936043 0.33847497 0.51327699 0.5226797  0.68985419 0.58117583\n",
      "  0.61191793 0.29762399 0.49785858 0.53994973 0.22364573 0.65703521\n",
      "  0.79823798 0.56536748 0.68780958 0.11571369]\n",
      " [0.3543347  0.545399   0.74572534 0.60693582 0.47619355 0.84470118\n",
      "  0.18473131 0.54659388 0.99880043 0.85594519 0.16972628 0.29534015\n",
      "  0.89981658 0.79554437 0.76674316 0.44799772 0.29814889 0.2593703\n",
      "  0.23990823 0.92300698 0.52842089 0.10299604 0.74714179 0.25756318\n",
      "  0.45740492 0.80369321 0.24940784 0.22857975 0.89186362 0.46397335\n",
      "  0.33712993 0.48940789 0.63655594 0.67397771 0.69853909 0.63812551\n",
      "  0.         0.40898843 0.93905574 0.4712266  0.84886716 0.74758872\n",
      "  0.70907523 0.50381715 0.49067505 0.88532525 0.31891302 0.40405185\n",
      "  0.90423724 0.83166184 0.88508526 0.71812989 0.53593016 0.23441421\n",
      "  0.57466074 0.82364012 1.00149034 0.79574856 0.58990087 0.73557372\n",
      "  0.31834198 0.46963428 0.906489   0.60904399 0.40075337 0.31867721\n",
      "  0.7080154  0.36058123 0.86313566 0.6930993  0.40246446 0.42111601\n",
      "  0.69778215 0.42229719 0.86924093 0.77213278 0.51628734 0.20805058\n",
      "  0.52361207 0.4101945  0.44706374 0.62352848 0.21975782 0.76468169\n",
      "  0.06720366 0.77598578 0.79580861 0.70763119 0.06033004 0.5520775\n",
      "  0.18965369 0.59172221 0.75585894 0.44896036 0.82090416 0.08523423\n",
      "  0.35588325 0.33414417 0.59025595 0.55135954]\n",
      " [0.13966193 0.2639958  0.82579676 0.61844396 0.70115101 0.5845777\n",
      "  0.29005449 0.17402933 0.74123797 0.59934188 0.48822503 0.39455103\n",
      "  0.67796034 0.75395038 0.52797852 0.35500985 0.2636271  0.20917174\n",
      "  0.49501616 0.77575207 0.22037221 0.38053646 0.41990837 0.50444148\n",
      "  0.23832844 0.71443835 0.62370626 0.18408428 0.6201148  0.39572193\n",
      "  0.73104577 0.62995766 0.42791327 0.55666487 0.58267881 0.48560749\n",
      "  0.40898843 0.         0.59217485 0.30030302 0.58451895 0.66908617\n",
      "  0.85944829 0.16268035 0.71837154 0.91955751 0.70661981 0.64566905\n",
      "  0.6572124  0.74179207 0.82430195 0.36198988 0.68754364 0.37150299\n",
      "  0.1942776  0.47738429 0.72316766 0.86866487 0.26929382 0.77390141\n",
      "  0.7096748  0.08409094 0.80344003 0.43958391 0.07342738 0.49442504\n",
      "  0.8116047  0.65834129 0.73719333 0.3874043  0.50311811 0.01213062\n",
      "  0.83904148 0.0650711  0.54732862 0.56658036 0.75738438 0.5662772\n",
      "  0.52856111 0.40119619 0.20272381 0.61376467 0.24699933 0.8509484\n",
      "  0.47080804 0.43627659 0.89242132 0.84698017 0.42175434 0.77948799\n",
      "  0.24793355 0.2611879  0.86135977 0.68530216 0.70923979 0.35960537\n",
      "  0.74337002 0.11039449 0.24001726 0.47465363]\n",
      " [0.72728566 0.74341969 0.87739294 0.69218043 0.97566623 0.23849068\n",
      "  0.87304666 0.60542817 0.28471868 0.24609267 0.93409653 0.74300631\n",
      "  0.33337191 0.67068651 0.29205754 0.56070932 0.65652443 0.67978326\n",
      "  0.89164851 0.51096559 0.7011047  0.86564335 0.19304881 0.88957305\n",
      "  0.48771037 0.58136323 1.07497302 0.72468975 0.21224423 0.57790201\n",
      "  1.19204521 0.84741966 0.37916914 0.50084869 0.50549793 0.44990683\n",
      "  0.93905574 0.59217485 0.         0.49704417 0.22891529 0.58226576\n",
      "  0.9886366  0.44531592 0.9892884  0.87218381 1.16076318 0.95942269\n",
      "  0.27489069 0.59136402 0.67642267 0.23048516 0.88797815 0.77223422\n",
      "  0.3983762  0.11659853 0.23157296 0.89369552 0.6991996  0.79311865\n",
      "  1.16905312 0.59679553 0.59871408 0.43482513 0.55941866 0.82733065\n",
      "  0.89952473 1.02272597 0.53055791 0.25245507 0.76078568 0.58330404\n",
      "  0.96402399 0.54500464 0.09587173 0.35153904 1.02927996 1.01537669\n",
      "  0.66239531 0.64170891 0.74785138 0.66323724 0.72092491 0.90063838\n",
      "  0.98405522 0.16319311 0.94039773 0.96667672 0.97298329 1.02854714\n",
      "  0.82584494 0.34914278 0.93234686 0.97793306 0.54347712 0.91945496\n",
      "  1.19201761 0.70256932 0.6478903  0.55771047]\n",
      " [0.41627939 0.5629357  0.54673545 0.33216903 0.51193361 0.3734972\n",
      "  0.46964455 0.4515678  0.52813166 0.3847376  0.4388514  0.246452\n",
      "  0.43442713 0.45377815 0.29592114 0.08022175 0.17319183 0.22650283\n",
      "  0.3947876  0.49359334 0.51774743 0.38313141 0.30719752 0.3933321\n",
      "  0.06461481 0.41623697 0.578377   0.30344417 0.42098682 0.11715735\n",
      "  0.69535096 0.40236619 0.16705312 0.25924255 0.28577436 0.19450799\n",
      "  0.4712266  0.30030302 0.49704417 0.         0.37779111 0.36926339\n",
      "  0.6063862  0.19167711 0.52777373 0.62526918 0.6638867  0.48034721\n",
      "  0.43395913 0.44410231 0.52460058 0.3133034  0.45532761 0.27665947\n",
      "  0.2647283  0.39078606 0.53049116 0.58519608 0.55996813 0.48517523\n",
      "  0.6723776  0.37304294 0.50909069 0.15286739 0.2270365  0.33652009\n",
      "  0.54202329 0.53261092 0.44702372 0.24510501 0.28852777 0.3025599\n",
      "  0.58340999 0.23829446 0.41436556 0.3084276  0.56927545 0.51915501\n",
      "  0.25148565 0.16129496 0.50070642 0.32179258 0.25583954 0.57255713\n",
      "  0.50434782 0.34285726 0.6153625  0.58982714 0.51712672 0.57883571\n",
      "  0.42074012 0.19884947 0.58918698 0.50712028 0.4148056  0.47690766\n",
      "  0.69497611 0.37218968 0.52128646 0.17731448]\n",
      " [0.72353534 0.79921405 0.65506824 0.48340739 0.78954922 0.00970201\n",
      "  0.82787596 0.66046331 0.1574578  0.02074959 0.80557612 0.60328123\n",
      "  0.12120147 0.44257281 0.08902349 0.41660482 0.55097811 0.59786517\n",
      "  0.74898718 0.29118895 0.75257877 0.76018991 0.19633291 0.74315943\n",
      "  0.39843802 0.35265776 0.93823331 0.66416951 0.04380122 0.41973571\n",
      "  1.05308465 0.65649534 0.21692822 0.28849615 0.28768285 0.25661601\n",
      "  0.84886716 0.58451895 0.22891529 0.37779111 0.         0.35652446\n",
      "  0.77282784 0.42184991 0.80144938 0.64342482 1.02048908 0.7848472\n",
      "  0.07682457 0.36247776 0.4482851  0.27846497 0.6900981  0.64597319\n",
      "  0.41808479 0.21417011 0.15271515 0.66839956 0.76917567 0.56989882\n",
      "  1.03050862 0.62031317 0.37333911 0.26017346 0.52846883 0.67063114\n",
      "  0.68094645 0.85878332 0.30315633 0.2009239  0.5897604  0.57950214\n",
      "  0.74842471 0.52338139 0.14173014 0.12963809 0.8394582  0.88167334\n",
      "  0.47125252 0.4864277  0.77483411 0.4524021  0.63159106 0.67747637\n",
      "  0.88141067 0.21027893 0.71615558 0.75021416 0.89341826 0.83343195\n",
      "  0.77833825 0.32606357 0.71065423 0.79634058 0.31456571 0.84971624\n",
      "  1.04805971 0.6878744  0.71881257 0.37221684]\n",
      " [0.78350444 0.92997296 0.30022324 0.1767954  0.50320415 0.34683413\n",
      "  0.80652514 0.81106658 0.41202962 0.34292726 0.63851496 0.45289231\n",
      "  0.293083   0.0965707  0.29393454 0.33210971 0.48681059 0.56244071\n",
      "  0.56180054 0.19892567 0.88400755 0.64488035 0.47283269 0.54901432\n",
      "  0.43088619 0.05628423 0.73957044 0.64826806 0.38601882 0.29974222\n",
      "  0.84078054 0.37264466 0.27819531 0.11686229 0.09496117 0.19444042\n",
      "  0.74758872 0.66908617 0.58226576 0.36926339 0.35652446 0.\n",
      "  0.42605662 0.53944666 0.51041244 0.29826602 0.80811598 0.52428321\n",
      "  0.34183752 0.08408586 0.15534367 0.5366609  0.38535921 0.51323082\n",
      "  0.58921388 0.53436536 0.4538253  0.31189553 0.92226494 0.21460356\n",
      "  0.82062474 0.73851222 0.15906567 0.24033098 0.59606705 0.46670455\n",
      "  0.33112542 0.61352543 0.13098768 0.42763926 0.36916805 0.67071048\n",
      "  0.40244657 0.60593106 0.48870348 0.23087543 0.54159554 0.69475046\n",
      "  0.23016715 0.33989693 0.86996902 0.14624909 0.5737207  0.32175168\n",
      "  0.75318998 0.5060023  0.35975718 0.40274154 0.80487903 0.52488093\n",
      "  0.76114993 0.49165712 0.35617757 0.51931968 0.08499415 0.78413452\n",
      "  0.82678735 0.73861322 0.87995378 0.20727538]\n",
      " [0.92218411 1.1127066  0.14030826 0.29928557 0.24566051 0.76336537\n",
      "  0.85148035 1.03113245 0.83758031 0.76193962 0.54338974 0.48038606\n",
      "  0.71913856 0.36923884 0.69722218 0.52846075 0.5997956  0.67039965\n",
      "  0.46920972 0.59771194 1.0742954  0.62191634 0.84377024 0.45158821\n",
      "  0.66551896 0.45409832 0.55979714 0.74473686 0.80672293 0.48931303\n",
      "  0.61448078 0.23532096 0.62663681 0.48788076 0.48537523 0.54372166\n",
      "  0.70907523 0.85944829 0.9886366  0.6063862  0.77282784 0.42605662\n",
      "  0.         0.7957002  0.23649561 0.27349597 0.58859952 0.31483472\n",
      "  0.76692836 0.46270605 0.43141626 0.88633384 0.17952334 0.52767098\n",
      "  0.87111447 0.91924956 0.87982033 0.16623718 1.12777238 0.21846722\n",
      "  0.60243759 0.94293167 0.51345444 0.57069401 0.79260073 0.40316787\n",
      "  0.09597985 0.39298602 0.53570042 0.78574192 0.35914024 0.86668361\n",
      "  0.02464494 0.81255107 0.89282014 0.64324322 0.23374323 0.54782635\n",
      "  0.35729513 0.46210996 1.02693837 0.32615333 0.65173096 0.13226179\n",
      "  0.67622105 0.88104121 0.12774875 0.0235288  0.76753201 0.1954391\n",
      "  0.82235187 0.79665325 0.09508066 0.27521471 0.49726086 0.78146\n",
      "  0.58866857 0.87851958 1.09900897 0.45435142]\n",
      " [0.30198861 0.39857112 0.73829469 0.52337871 0.67961371 0.42197717\n",
      "  0.42830754 0.27220849 0.57857558 0.43679476 0.5344067  0.38242029\n",
      "  0.51715879 0.63053485 0.36739605 0.26731096 0.25851178 0.25121742\n",
      "  0.5157124  0.62458223 0.35146408 0.4448915  0.2628037  0.51996686\n",
      "  0.13019106 0.57922825 0.67756951 0.28137523 0.45755004 0.30716658\n",
      "  0.79246493 0.58274622 0.27756108 0.42315936 0.44760147 0.34724565\n",
      "  0.50381715 0.16268035 0.44531592 0.19167711 0.42184991 0.53944666\n",
      "  0.7957002  0.         0.69630436 0.81174863 0.76406073 0.63698011\n",
      "  0.49480344 0.60516638 0.69216543 0.21704146 0.63805047 0.38511407\n",
      "  0.0836083  0.32875474 0.56130797 0.77618821 0.38424408 0.6751726\n",
      "  0.76982403 0.20812325 0.6611848  0.30045235 0.11463673 0.48428746\n",
      "  0.73347856 0.67198684 0.59169788 0.22544604 0.46081243 0.15782925\n",
      "  0.77311881 0.10362877 0.39082029 0.41005054 0.73748385 0.61722056\n",
      "  0.44286132 0.33833365 0.35757631 0.51147317 0.295349   0.76413502\n",
      "  0.55585418 0.2839657  0.80697925 0.77982787 0.53200199 0.75208703\n",
      "  0.380682   0.10054949 0.78082366 0.67006197 0.56829429 0.47600996\n",
      "  0.79889855 0.26832127 0.34064799 0.36539886]\n",
      " [0.75233841 0.95147336 0.32720521 0.33606188 0.01722335 0.79304782\n",
      "  0.65028156 0.89213175 0.90345818 0.7962773  0.32112622 0.32432562\n",
      "  0.78262759 0.4958451  0.71495862 0.44896655 0.45670635 0.5122763\n",
      "  0.25739211 0.70751516 0.91840177 0.4153522  0.81636997 0.24110248\n",
      "  0.57324591 0.55696123 0.32330737 0.57195788 0.84189615 0.42030524\n",
      "  0.3835807  0.14518284 0.61011971 0.51978644 0.52951017 0.54624038\n",
      "  0.49067505 0.71837154 0.9892884  0.52777373 0.80144938 0.51041244\n",
      "  0.23649561 0.69630436 0.         0.4804108  0.35580643 0.08669902\n",
      "  0.81817151 0.57587926 0.57971488 0.83810501 0.12652512 0.35193287\n",
      "  0.7787152  0.89888562 0.93412778 0.37226666 0.97642612 0.36542416\n",
      "  0.36969094 0.80195519 0.64350755 0.55479327 0.66144509 0.2243027\n",
      "  0.27596132 0.1565025  0.63971456 0.75355269 0.23925561 0.72772828\n",
      "  0.23364902 0.68434882 0.89568972 0.677523   0.04151003 0.31394964\n",
      "  0.33041282 0.36647989 0.85863649 0.36848473 0.48260322 0.3354061\n",
      "  0.44995509 0.8541642  0.35112009 0.24329441 0.5464448  0.06366717\n",
      "  0.62871991 0.72638375 0.31084339 0.04179596 0.5945693  0.56916033\n",
      "  0.36000717 0.71235567 0.95571859 0.43289703]\n",
      " [1.01475437 1.18348664 0.15337339 0.30419297 0.48347816 0.63379612\n",
      "  0.99249197 1.07682515 0.66077652 0.62720818 0.73671351 0.60644006\n",
      "  0.55595095 0.20339289 0.58983534 0.56461371 0.69116968 0.76954365\n",
      "  0.65551732 0.39601669 1.13970822 0.78615439 0.7710833  0.63854454\n",
      "  0.68988049 0.29082282 0.78993051 0.85420613 0.66641148 0.52420655\n",
      "  0.86308339 0.40388375 0.57085871 0.40727105 0.39024224 0.4833174\n",
      "  0.88532525 0.91955751 0.87218381 0.62526918 0.64342482 0.29826602\n",
      "  0.27349597 0.81174863 0.4804108  0.         0.83419539 0.53951347\n",
      "  0.6124804  0.28260847 0.209952   0.83364456 0.37249962 0.66579119\n",
      "  0.87150449 0.83166651 0.71231483 0.10976325 1.18452474 0.15264936\n",
      "  0.84802648 0.9966978  0.29985243 0.52558246 0.84658872 0.56733508\n",
      "  0.20465131 0.62958814 0.35101011 0.72481631 0.4856535  0.9235843\n",
      "  0.26215314 0.86107428 0.78109408 0.52463376 0.49093804 0.76414926\n",
      "  0.39727009 0.53232365 1.11153892 0.30581432 0.76602292 0.14674142\n",
      "  0.8686356  0.80421111 0.14750301 0.25498924 0.9456547  0.45695459\n",
      "  0.95391989 0.77859793 0.17919514 0.51076919 0.32964863 0.94363716\n",
      "  0.84027426 0.96905225 1.1465498  0.44797553]\n",
      " [0.67137527 0.86430909 0.68086438 0.63456622 0.35106707 1.01398109\n",
      "  0.50145032 0.8585625  1.15167621 1.0216706  0.23020633 0.41986026\n",
      "  1.03725433 0.81948352 0.93182365 0.60682743 0.5115348  0.51611471\n",
      "  0.27183521 1.00536689 0.84657131 0.32668117 0.96947059 0.27739638\n",
      "  0.6781456  0.86167935 0.08674654 0.52305374 1.06410893 0.60076984\n",
      "  0.03302952 0.44897884 0.80526176 0.77721008 0.79542842 0.77245659\n",
      "  0.31891302 0.70661981 1.16076318 0.6638867  1.02048908 0.80811598\n",
      "  0.58859952 0.76406073 0.35580643 0.83419539 0.         0.29787341\n",
      "  1.05843506 0.88543277 0.90888398 0.96117078 0.46481491 0.38932743\n",
      "  0.84419984 1.05214746 1.16899732 0.7272304  0.90815665 0.70819408\n",
      "  0.01388493 0.7765716  0.95884015 0.76065266 0.6802959  0.35361162\n",
      "  0.63072738 0.20548807 0.93822907 0.90841079 0.44593151 0.71853406\n",
      "  0.58836705 0.70409843 1.07757913 0.91517276 0.35515195 0.14724444\n",
      "  0.5850955  0.53411009 0.7659443  0.66272789 0.4720316  0.69059483\n",
      "  0.25183594 1.00370745 0.70683371 0.59779432 0.34413998 0.39432973\n",
      "  0.50827089 0.83373737 0.66664247 0.32342843 0.89221257 0.39941093\n",
      "  0.03719531 0.64717602 0.90628165 0.66082172]\n",
      " [0.67181883 0.8719932  0.38693259 0.34761454 0.07230719 0.77701743\n",
      "  0.5643863  0.81851656 0.89851826 0.78186885 0.2346234  0.25647462\n",
      "  0.77921996 0.52544577 0.69652439 0.40491199 0.38816018 0.43737491\n",
      "  0.17162699 0.72320631 0.84031318 0.32941178 0.77943572 0.15586437\n",
      "  0.51926802 0.57522132 0.2510412  0.49205685 0.82683108 0.38219152\n",
      "  0.32857003 0.15398178 0.58250045 0.51408723 0.52778916 0.52831463\n",
      "  0.40405185 0.64566905 0.95942269 0.48034721 0.7848472  0.52428321\n",
      "  0.31483472 0.63698011 0.08669902 0.53951347 0.29787341 0.\n",
      "  0.80946764 0.59708265 0.61359666 0.7935671  0.16761506 0.27508397\n",
      "  0.72032578 0.86298834 0.92440347 0.4349287  0.89916759 0.4103283\n",
      "  0.31147654 0.72848234 0.66857814 0.52962208 0.59245088 0.15367245\n",
      "  0.33896131 0.09284222 0.65526013 0.71621468 0.19864295 0.655539\n",
      "  0.30835714 0.6159358  0.86801789 0.66622575 0.11708828 0.23320023\n",
      "  0.3181164  0.321459   0.77795289 0.3782019  0.40487018 0.39914459\n",
      "  0.36448885 0.81673252 0.42059891 0.31826885 0.46009523 0.149255\n",
      "  0.54395714 0.6763353  0.37964871 0.04528559 0.60927026 0.48249316\n",
      "  0.30952388 0.63295742 0.88058334 0.41263718]\n",
      " [0.79562858 0.87549308 0.64163684 0.48933908 0.80748059 0.07408124\n",
      "  0.89322948 0.73696174 0.09491236 0.05868963 0.84981714 0.64640801\n",
      "  0.05889423 0.41794333 0.13832652 0.46293986 0.60625241 0.65825895\n",
      "  0.7886776  0.23641757 0.82877138 0.81229073 0.27271192 0.7814288\n",
      "  0.4615439  0.32605708 0.97818757 0.72817798 0.06440884 0.46012031\n",
      "  1.09130267 0.67314295 0.26768136 0.29839713 0.2906506  0.28611743\n",
      "  0.90423724 0.6572124  0.27489069 0.43395913 0.07682457 0.34183752\n",
      "  0.76692836 0.49480344 0.81817151 0.6124804  1.05843506 0.80946764\n",
      "  0.         0.33011997 0.40885523 0.35475114 0.70134527 0.69315949\n",
      "  0.49420898 0.28315001 0.11604557 0.64934521 0.84588803 0.55600942\n",
      "  1.06904712 0.69543365 0.32673424 0.30104396 0.59900166 0.70558953\n",
      "  0.67262648 0.8879673  0.2627759  0.27672784 0.61929792 0.65263221\n",
      "  0.74299778 0.59514513 0.20146732 0.14391942 0.85451093 0.92326963\n",
      "  0.49175153 0.52595046 0.84954756 0.45708978 0.68970541 0.66241275\n",
      "  0.93308689 0.28456307 0.69879152 0.74377464 0.95106797 0.84498245\n",
      "  0.84365811 0.40073266 0.69764917 0.81690577 0.28427607 0.90998725\n",
      "  1.08435484 0.7589151  0.79557607 0.4000284 ]\n",
      " [0.86011666 1.00013098 0.32672117 0.25093849 0.57020588 0.35294665\n",
      "  0.88897463 0.87736317 0.38436771 0.34555317 0.72101513 0.53688283\n",
      "  0.27434311 0.09410886 0.31752439 0.41278512 0.56913749 0.6440124\n",
      "  0.64355187 0.1358578  0.95367638 0.72893398 0.50719117 0.63035226\n",
      "  0.50366204 0.02866018 0.81892978 0.72948124 0.38394867 0.38196459\n",
      "  0.91788385 0.44363447 0.33341206 0.18519288 0.15912652 0.25815207\n",
      "  0.83166184 0.74179207 0.59136402 0.44410231 0.36247776 0.08408586\n",
      "  0.46270605 0.60516638 0.57587926 0.28260847 0.88543277 0.59708265\n",
      "  0.33011997 0.         0.09180455 0.5777789  0.44945422 0.59729101\n",
      "  0.64836413 0.5593785  0.43308163 0.32552815 0.9893591  0.24425191\n",
      "  0.89816414 0.80822017 0.07539798 0.304964   0.66939861 0.54812813\n",
      "  0.36682474 0.68784925 0.07370461 0.46962164 0.45058015 0.742683\n",
      "  0.4406796  0.67776411 0.50214221 0.25077006 0.60423774 0.77551242\n",
      "  0.31286869 0.42381089 0.94381366 0.2231045  0.65652375 0.34401938\n",
      "  0.83683797 0.5371553  0.37626615 0.43919661 0.88896351 0.5838936\n",
      "  0.84318585 0.54832147 0.38174236 0.58849817 0.04810308 0.86796358\n",
      "  0.90279022 0.81563756 0.9454835  0.28932019]\n",
      " [0.93856904 1.0847002  0.29113082 0.2828771  0.57669475 0.43893287\n",
      "  0.95586033 0.96426014 0.45161259 0.43039296 0.76231305 0.5900571\n",
      "  0.35093135 0.09107562 0.40818803 0.48549474 0.63720967 0.71401002\n",
      "  0.68238405 0.18607507 1.03857552 0.78211134 0.59864214 0.66779583\n",
      "  0.58602697 0.11401522 0.84837957 0.80020168 0.46628567 0.45126645\n",
      "  0.94058308 0.46023282 0.42343716 0.26927681 0.24456812 0.34508019\n",
      "  0.88508526 0.82430195 0.67642267 0.52460058 0.4482851  0.15534367\n",
      "  0.43141626 0.69216543 0.57971488 0.209952   0.90888398 0.61359666\n",
      "  0.40885523 0.09180455 0.         0.66957095 0.45442634 0.6514681\n",
      "  0.7379728  0.64930169 0.50417659 0.27670236 1.07586812 0.22041326\n",
      "  0.92209728 0.89304336 0.09006858 0.39178397 0.75134443 0.58687364\n",
      "  0.3387789  0.70619187 0.14634425 0.5614232  0.49090219 0.82580396\n",
      "  0.41201293 0.76097477 0.58923372 0.3413951  0.60303338 0.80966439\n",
      "  0.36148414 0.48495111 1.02530697 0.2621939  0.72264421 0.30277607\n",
      "  0.88426531 0.6281922  0.32736865 0.40855942 0.94376399 0.57765122\n",
      "  0.91149283 0.63848868 0.34180837 0.59839004 0.13826507 0.92761214\n",
      "  0.92291901 0.89357643 1.03280244 0.35983667]\n",
      " [0.49828126 0.53477178 0.79859925 0.58958313 0.82272154 0.28308956\n",
      "  0.64314073 0.39459684 0.41839688 0.29833031 0.73131513 0.55445875\n",
      "  0.39659007 0.63316941 0.26925518 0.38969465 0.44980477 0.46092223\n",
      "  0.69951685 0.54857965 0.48969611 0.65206949 0.08214704 0.70033908\n",
      "  0.28405458 0.55809089 0.87447874 0.498264   0.29987626 0.41829676\n",
      "  0.99114788 0.70593526 0.26606249 0.42723598 0.44341194 0.35426466\n",
      "  0.71812989 0.36198988 0.23048516 0.3133034  0.27846497 0.5366609\n",
      "  0.88633384 0.21704146 0.83810501 0.83364456 0.96117078 0.7935671\n",
      "  0.35475114 0.5777789  0.66957095 0.         0.75485524 0.57290327\n",
      "  0.16914911 0.11552226 0.38608833 0.82645848 0.4985416  0.72162251\n",
      "  0.9682147  0.37241106 0.61308877 0.31862372 0.3300144  0.64892876\n",
      "  0.80795124 0.84444264 0.53894139 0.1090414  0.59970161 0.35337341\n",
      "  0.86205642 0.3148234  0.19331914 0.33331327 0.87947045 0.81406174\n",
      "  0.53316958 0.47304552 0.52646956 0.56717992 0.50384046 0.82398011\n",
      "  0.76721289 0.07926078 0.8666031  0.86680222 0.74846418 0.8861583\n",
      "  0.59634827 0.12815864 0.8491418  0.8193827  0.53209677 0.69300458\n",
      "  0.99443568 0.47235814 0.44729345 0.43213541]\n",
      " [0.74427057 0.93680386 0.22092316 0.21367369 0.12229579 0.68133225\n",
      "  0.672684   0.8606893  0.78413047 0.68335416 0.37496035 0.30202124\n",
      "  0.66301204 0.36960103 0.60581574 0.37517882 0.42520201 0.49335827\n",
      "  0.29684472 0.58158313 0.89947483 0.44517724 0.72406257 0.27918669\n",
      "  0.50927673 0.43087377 0.41743815 0.56597691 0.72913255 0.33995625\n",
      "  0.49491943 0.05763042 0.51090465 0.4037901  0.4109168  0.43914427\n",
      "  0.53593016 0.68754364 0.88797815 0.45532761 0.6900981  0.38535921\n",
      "  0.17952334 0.63805047 0.12652512 0.37249962 0.46481491 0.16761506\n",
      "  0.70134527 0.44945422 0.45442634 0.75485524 0.         0.3481664\n",
      "  0.71721398 0.8045419  0.81736625 0.26993698 0.95421852 0.24420138\n",
      "  0.47851428 0.77150557 0.51701276 0.45429088 0.62318269 0.2243133\n",
      "  0.17582937 0.25932868 0.51391286 0.66253182 0.18442625 0.69542713\n",
      "  0.16425837 0.64423657 0.79296542 0.56339765 0.15628716 0.39322512\n",
      "  0.2261826  0.29973332 0.84950912 0.24631175 0.47303491 0.23530881\n",
      "  0.50867487 0.76199883 0.26176061 0.17380651 0.59535204 0.14369556\n",
      "  0.64294645 0.65252821 0.22113021 0.14476195 0.46903058 0.60533057\n",
      "  0.4743046  0.70105746 0.92756037 0.33120707]\n",
      " [0.40171011 0.59976533 0.53595958 0.37629398 0.3348069  0.64048303\n",
      "  0.32959197 0.54367322 0.78800938 0.64996651 0.16219901 0.06154953\n",
      "  0.68176715 0.56249107 0.55936203 0.23028253 0.12664962 0.16253973\n",
      "  0.13069876 0.69128592 0.566486   0.13165928 0.58039339 0.13632423\n",
      "  0.28915171 0.56937398 0.30303993 0.22128842 0.68974458 0.23734159\n",
      "  0.42013941 0.29307369 0.42910938 0.44337701 0.46712621 0.41519149\n",
      "  0.23441421 0.37150299 0.77223422 0.27665947 0.64597319 0.51323082\n",
      "  0.52767098 0.38511407 0.35193287 0.66579119 0.38932743 0.27508397\n",
      "  0.69315949 0.59729101 0.6514681  0.57290327 0.3481664  0.\n",
      "  0.46805486 0.66287939 0.7977845  0.58504368 0.62473589 0.51363453\n",
      "  0.39713836 0.45376326 0.67218976 0.39240013 0.3226206  0.12935292\n",
      "  0.50555191 0.29068451 0.63017049 0.51977937 0.18122773 0.38170768\n",
      "  0.51147443 0.3466663  0.69098626 0.55469519 0.38922389 0.24318033\n",
      "  0.29013757 0.17810478 0.50796053 0.39081618 0.13067823 0.5575871\n",
      "  0.24518184 0.61441959 0.59331715 0.52071938 0.2924031  0.41478021\n",
      "  0.29608933 0.44630663 0.55565493 0.31630598 0.58736448 0.27956659\n",
      "  0.42184956 0.36079191 0.60550163 0.31997161]\n",
      " [0.32920297 0.38134451 0.80709276 0.59159554 0.76210842 0.42012777\n",
      "  0.48070269 0.24377618 0.56998513 0.435542   0.61520603 0.46601357\n",
      "  0.52519597 0.68324307 0.37960724 0.34342142 0.34159883 0.32888286\n",
      "  0.59873207 0.65154631 0.33456472 0.52223542 0.23516126 0.60325148\n",
      "  0.20797052 0.62401013 0.75795502 0.34761062 0.44830462 0.38184002\n",
      "  0.87208198 0.66259947 0.31499724 0.47242335 0.49499007 0.39477431\n",
      "  0.57466074 0.1942776  0.3983762  0.2647283  0.41808479 0.58921388\n",
      "  0.87111447 0.0836083  0.7787152  0.87150449 0.84419984 0.72032578\n",
      "  0.49420898 0.64836413 0.7379728  0.16914911 0.71721398 0.46805486\n",
      "  0.         0.28461282 0.54479635 0.8428867  0.35480352 0.74019453\n",
      "  0.84957703 0.20595678 0.69836841 0.34921708 0.17447177 0.56779516\n",
      "  0.80536702 0.75551231 0.62632818 0.21754821 0.54214657 0.18505079\n",
      "  0.84811636 0.15486435 0.35939661 0.43190878 0.81998338 0.69778093\n",
      "  0.51548506 0.41805872 0.36119106 0.57696927 0.37319698 0.83299151\n",
      "  0.62970518 0.24603231 0.87603337 0.85448134 0.5981105  0.83385166\n",
      "  0.43565243 0.10160427 0.85166185 0.75302664 0.60806722 0.53932724\n",
      "  0.87939249 0.30455335 0.30618626 0.43084802]\n",
      " [0.61378869 0.64261571 0.81788229 0.62002563 0.88448192 0.22171718\n",
      "  0.75666962 0.50293708 0.32824918 0.23483966 0.82402097 0.63716138\n",
      "  0.3347637  0.62828393 0.24242902 0.45951393 0.54448462 0.56460684\n",
      "  0.78511749 0.50396646 0.59865884 0.7521009  0.08385658 0.78406433\n",
      "  0.37559262 0.54433578 0.96591771 0.60818751 0.22064308 0.48102987\n",
      "  1.08301173 0.76022734 0.29460855 0.43785954 0.44793879 0.37556187\n",
      "  0.82364012 0.47738429 0.11659853 0.39078606 0.21417011 0.53436536\n",
      "  0.91924956 0.32875474 0.89888562 0.83166651 1.05214746 0.86298834\n",
      "  0.28315001 0.5593785  0.64930169 0.11552226 0.8045419  0.66287939\n",
      "  0.28461282 0.         0.28745445 0.83968696 0.60250218 0.73618428\n",
      "  1.06001133 0.48660449 0.58119469 0.35139649 0.44296196 0.72552317\n",
      "  0.83435747 0.9216836  0.50847831 0.14696958 0.66514824 0.46885606\n",
      "  0.89463349 0.42887092 0.0898872  0.30883013 0.93961404 0.90594238\n",
      "  0.57853585 0.54223993 0.63974041 0.59355576 0.60623303 0.84230369\n",
      "  0.86972012 0.04851977 0.88369529 0.89824101 0.85682177 0.94196774\n",
      "  0.70935253 0.232787   0.87123981 0.88448611 0.51156164 0.80298657\n",
      "  1.08415825 0.58771413 0.55096331 0.47371429]\n",
      " [0.86282533 0.9204537  0.75201457 0.6051697  0.92335237 0.15748643\n",
      "  0.97634497 0.78031502 0.05804658 0.14793919 0.9566278  0.75375247\n",
      "  0.16104755 0.52429698 0.23853845 0.5678813  0.70367053 0.74956157\n",
      "  0.89815772 0.32105593 0.87494899 0.91285688 0.31013295 0.89163596\n",
      "  0.54947129 0.43277877 1.08766344 0.81395966 0.10968734 0.5687064\n",
      "  1.20174619 0.78906012 0.36875443 0.41439224 0.40658341 0.39850145\n",
      "  1.00149034 0.72316766 0.23157296 0.53049116 0.15271515 0.4538253\n",
      "  0.87982033 0.56130797 0.93412778 0.71231483 1.16899732 0.92440347\n",
      "  0.11604557 0.43308163 0.50417659 0.38608833 0.81736625 0.7977845\n",
      "  0.54479635 0.28745445 0.         0.75689541 0.88449244 0.66660739\n",
      "  1.17931797 0.75053687 0.41697453 0.40868053 0.67180971 0.81723237\n",
      "  0.78493197 1.0018311  0.36168499 0.33587908 0.73278636 0.71706584\n",
      "  0.85609484 0.66452702 0.19773522 0.258178   0.97054008 1.03178162\n",
      "  0.60709103 0.63515341 0.90585158 0.57285153 0.78388599 0.77194854\n",
      "  1.03406611 0.30760843 0.80700829 0.8565394  1.04566888 0.96098931\n",
      "  0.92692516 0.46199765 0.80799106 0.93251188 0.38979576 1.00119827\n",
      "  1.1957101  0.82948813 0.83315123 0.51352991]\n",
      " [0.953127   1.13083433 0.05006345 0.25306329 0.37616522 0.65870585\n",
      "  0.91444243 1.03270018 0.70959457 0.65452387 0.64123423 0.52824625\n",
      "  0.59644292 0.23267839 0.60337486 0.51628482 0.62600713 0.70300779\n",
      "  0.56098933 0.45485479 1.08873176 0.69921437 0.77176748 0.54362957\n",
      "  0.64908387 0.32414837 0.68594803 0.7852565  0.69699966 0.47504621\n",
      "  0.75563093 0.30766768 0.56039701 0.40260401 0.39185173 0.47230219\n",
      "  0.79574856 0.86866487 0.89369552 0.58519608 0.66839956 0.31189553\n",
      "  0.16623718 0.77618821 0.37226666 0.10976325 0.7272304  0.4349287\n",
      "  0.64934521 0.32552815 0.27670236 0.82645848 0.26993698 0.58504368\n",
      "  0.8428867  0.83968696 0.75689541 0.         1.137029   0.10484464\n",
      "  0.74109305 0.94889416 0.36391356 0.50916587 0.79710155 0.4772124\n",
      "  0.09650717 0.52353542 0.39897312 0.7196825  0.4039016  0.87391188\n",
      "  0.15306012 0.8137912  0.79951064 0.54216465 0.38150595 0.66316011\n",
      "  0.34014647 0.47053483 1.0534455  0.26597032 0.69437689 0.03709024\n",
      "  0.77440513 0.80714377 0.05107046 0.14640897 0.85593717 0.34723564\n",
      "  0.87862312 0.75618801 0.07116024 0.40404201 0.36712054 0.85864129\n",
      "  0.73226928 0.90774776 1.10223766 0.4120668 ]\n",
      " [0.23771159 0.06128346 1.09466705 0.88571956 0.95925082 0.7720165\n",
      "  0.41504369 0.11251471 0.91612634 0.78750566 0.71315731 0.65639494\n",
      "  0.87939351 1.01142208 0.73440839 0.62157441 0.52901781 0.46473712\n",
      "  0.73772807 1.00415621 0.06163744 0.59938757 0.57726411 0.74977145\n",
      "  0.4955892  0.96327343 0.83321366 0.40911927 0.79589897 0.66266623\n",
      "  0.92702876 0.89659041 0.66043548 0.80661477 0.83142691 0.73130715\n",
      "  0.58990087 0.26929382 0.6991996  0.55996813 0.76917567 0.92226494\n",
      "  1.12777238 0.38424408 0.97642612 1.18452474 0.90815665 0.89916759\n",
      "  0.84588803 0.9893591  1.07586812 0.4985416  0.95421852 0.62473589\n",
      "  0.35480352 0.60250218 0.88449244 1.137029   0.         1.04095431\n",
      "  0.90810775 0.18821386 1.04500746 0.68448686 0.33993745 0.75242083\n",
      "  1.08089794 0.89900996 0.97477129 0.57072383 0.77001219 0.26330376\n",
      "  1.10766668 0.32375966 0.68916344 0.78558214 1.01395882 0.78192886\n",
      "  0.79690746 0.67048856 0.1462329  0.87935075 0.49434796 1.1199074\n",
      "  0.65708545 0.57691894 1.16151699 1.11571638 0.57690615 1.03885038\n",
      "  0.40025889 0.45503911 1.13063553 0.94100363 0.95242263 0.51475019\n",
      "  0.94527751 0.26913021 0.0515412  0.7370678 ]\n",
      " [0.8647558  1.037273   0.08564433 0.15547234 0.3644737  0.56024541\n",
      "  0.83986859 0.93507007 0.62218295 0.55698837 0.59147468 0.45399633\n",
      "  0.50556    0.15086404 0.50174468 0.41939086 0.53975963 0.61793129\n",
      "  0.50992776 0.37932016 0.99427209 0.63547168 0.6674005  0.49341756\n",
      "  0.54950968 0.23659073 0.65617735 0.70220364 0.60046231 0.37836591\n",
      "  0.73868483 0.26375862 0.45556342 0.29853981 0.28898398 0.36750322\n",
      "  0.73557372 0.77390141 0.79311865 0.48517523 0.56989882 0.21460356\n",
      "  0.21846722 0.6751726  0.36542416 0.15264936 0.70819408 0.4103283\n",
      "  0.55600942 0.24425191 0.22041326 0.72162251 0.24420138 0.51363453\n",
      "  0.74019453 0.73618428 0.66660739 0.10484464 1.04095431 0.\n",
      "  0.72180483 0.8527573  0.29713445 0.40439242 0.7015279  0.41912799\n",
      "  0.12268684 0.50285178 0.3173825  0.6149394  0.33423895 0.77855295\n",
      "  0.19670097 0.7172156  0.69834984 0.44209652 0.3854749  0.6252129\n",
      "  0.24715628 0.38141714 0.96290018 0.16370445 0.61358324 0.1076181\n",
      "  0.72180804 0.70297725 0.14768225 0.19496814 0.79585633 0.35828157\n",
      "  0.80129106 0.65227226 0.14164442 0.38868302 0.27996777 0.79208052\n",
      "  0.71845661 0.81911479 1.00475591 0.30996821]\n",
      " [0.67173729 0.86359472 0.69470129 0.64734776 0.36493193 1.02406832\n",
      "  0.49978616 0.86010477 1.16242708 1.03188209 0.23691085 0.42909232\n",
      "  1.04831968 0.83261006 0.94192528 0.61626105 0.51843407 0.52110897\n",
      "  0.2815711  1.01769484 0.84657026 0.33047868 0.97749708 0.28770561\n",
      "  0.68557274 0.8743081  0.09410518 0.52584685 1.07416312 0.61086548\n",
      "  0.02300124 0.46231079 0.81500348 0.78874704 0.80715183 0.7831695\n",
      "  0.31834198 0.7096748  1.16905312 0.6723776  1.03050862 0.82062474\n",
      "  0.60243759 0.76982403 0.36969094 0.84802648 0.01388493 0.31147654\n",
      "  1.06904712 0.89816414 0.92209728 0.9682147  0.47851428 0.39713836\n",
      "  0.84957703 1.06001133 1.17931797 0.74109305 0.90810775 0.72180483\n",
      "  0.         0.77875732 0.97167088 0.77082959 0.68467467 0.36475102\n",
      "  0.64458906 0.21918709 0.95062889 0.91663757 0.45766926 0.72163016\n",
      "  0.60224043 0.70838494 1.08633828 0.92591382 0.36895779 0.15422387\n",
      "  0.59707885 0.54425806 0.76534823 0.67536767 0.47692235 0.70446341\n",
      "  0.25114347 1.01154343 0.72071819 0.6116645  0.34126272 0.40810585\n",
      "  0.50795238 0.84061066 0.68052731 0.33726425 0.90463105 0.39769148\n",
      "  0.03900198 0.64835868 0.90702087 0.67190634]\n",
      " [0.14263952 0.19193637 0.90674161 0.6975069  0.78473213 0.62158971\n",
      "  0.32665666 0.09017658 0.77429337 0.63682036 0.56358475 0.47840814\n",
      "  0.72193366 0.82602677 0.57302348 0.43336995 0.34770662 0.2912261\n",
      "  0.57519055 0.8325985  0.14553424 0.4531275  0.44111682 0.58528038\n",
      "  0.30907189 0.78150319 0.69548315 0.25481588 0.65247009 0.47445345\n",
      "  0.79953894 0.71393538 0.48503057 0.62399187 0.64939493 0.55027745\n",
      "  0.46963428 0.08409094 0.59679553 0.37304294 0.62031317 0.73851222\n",
      "  0.94293167 0.20812325 0.80195519 0.9966978  0.7765716  0.72848234\n",
      "  0.69543365 0.80822017 0.89304336 0.37241106 0.77150557 0.45376326\n",
      "  0.20595678 0.48660449 0.75053687 0.94889416 0.18821386 0.8527573\n",
      "  0.77875732 0.         0.86684894 0.5035871  0.15195155 0.57783883\n",
      "  0.89376135 0.73847774 0.79841899 0.41953996 0.58708866 0.07624808\n",
      "  0.9223597  0.13565023 0.5646762  0.61791365 0.84078267 0.63947318\n",
      "  0.60881044 0.48349197 0.15531565 0.69132309 0.32698822 0.93204344\n",
      "  0.53418664 0.45078553 0.97378424 0.93021856 0.47400818 0.8632558\n",
      "  0.29253977 0.29480196 0.94331473 0.76852254 0.77326815 0.41021075\n",
      "  0.81360395 0.13979645 0.15613086 0.54970017]\n",
      " [0.92526181 1.05866892 0.37399434 0.32438058 0.63871173 0.36437912\n",
      "  0.96054296 0.93259568 0.36331601 0.35429417 0.79636429 0.61194151\n",
      "  0.26800118 0.14920723 0.34531326 0.48310957 0.6408378  0.71473308\n",
      "  0.71875855 0.09667285 1.01185352 0.80384828 0.53792453 0.70545425\n",
      "  0.56647701 0.1028279  0.89327983 0.79968303 0.38680786 0.45392011\n",
      "  0.99117094 0.51471099 0.38484438 0.25044813 0.22373155 0.31783894\n",
      "  0.906489   0.80344003 0.59871408 0.50909069 0.37333911 0.15906567\n",
      "  0.51345444 0.6611848  0.64350755 0.29985243 0.95884015 0.66857814\n",
      "  0.32673424 0.07539798 0.09006858 0.61308877 0.51701276 0.67218976\n",
      "  0.69836841 0.58119469 0.41697453 0.36391356 1.04500746 0.29713445\n",
      "  0.97167088 0.86684894 0.         0.36397139 0.73188399 0.62327358\n",
      "  0.41888399 0.75995616 0.07414761 0.50743279 0.52575428 0.80364224\n",
      "  0.49285115 0.73883698 0.5150691  0.27986236 0.67011645 0.85040347\n",
      "  0.38826334 0.49790124 1.00604881 0.29750743 0.72872273 0.38781858\n",
      "  0.91215549 0.56462415 0.41488635 0.49021737 0.96357524 0.64771101\n",
      "  0.91425532 0.59712007 0.426657   0.65812604 0.09436599 0.94169752\n",
      "  0.97553923 0.88128037 0.99978802 0.3614494 ]\n",
      " [0.56415323 0.6955223  0.48008701 0.27204219 0.54146504 0.25342469\n",
      "  0.62171005 0.57263825 0.39577241 0.26105915 0.54888663 0.34557094\n",
      "  0.29097039 0.33404231 0.17126801 0.1626609  0.31420358 0.37653545\n",
      "  0.48951481 0.34139746 0.64893252 0.51399685 0.27343184 0.48325926\n",
      "  0.20411686 0.27879772 0.67899451 0.45580615 0.30362367 0.16003371\n",
      "  0.79332738 0.41260364 0.05680285 0.12347835 0.14723586 0.04682248\n",
      "  0.60904399 0.43958391 0.43482513 0.15286739 0.26017346 0.24033098\n",
      "  0.57069401 0.30045235 0.55479327 0.52558246 0.76065266 0.52962208\n",
      "  0.30104396 0.304964   0.39178397 0.31862372 0.45429088 0.39240013\n",
      "  0.34921708 0.35139649 0.40868053 0.50916587 0.68448686 0.40439242\n",
      "  0.77082959 0.5035871  0.36397139 0.         0.36849406 0.41052793\n",
      "  0.48984246 0.60017266 0.29803188 0.21516814 0.33214128 0.43967497\n",
      "  0.54620284 0.37489151 0.34089694 0.1632712  0.59457879 0.62318702\n",
      "  0.22814867 0.22657172 0.64227326 0.24863694 0.40154923 0.50554382\n",
      "  0.6340648  0.31099734 0.54827759 0.55043422 0.65897195 0.59388062\n",
      "  0.57305055 0.25336482 0.53053792 0.54502581 0.2699567  0.62336228\n",
      "  0.7879541  0.52115726 0.64104575 0.12314704]\n",
      " [0.19913131 0.33723114 0.75480502 0.54614066 0.64428587 0.52770839\n",
      "  0.31376979 0.23860551 0.68589228 0.54203768 0.4548777  0.33733353\n",
      "  0.6160565  0.68057185 0.46639529 0.28227411 0.20483193 0.16626089\n",
      "  0.45090297 0.70676998 0.29311971 0.35454744 0.37721066 0.45844209\n",
      "  0.16573892 0.64190226 0.59516894 0.1731503  0.56609657 0.32317497\n",
      "  0.70677374 0.56581839 0.36010567 0.48420981 0.51035906 0.41412197\n",
      "  0.40075337 0.07342738 0.55941866 0.2270365  0.52846883 0.59606705\n",
      "  0.79260073 0.11463673 0.66144509 0.84658872 0.6802959  0.59245088\n",
      "  0.59900166 0.66939861 0.75134443 0.3300144  0.62318269 0.3226206\n",
      "  0.17447177 0.44296196 0.67180971 0.79710155 0.33993745 0.7015279\n",
      "  0.68467467 0.15195155 0.73188399 0.36849406 0.         0.43934157\n",
      "  0.74198789 0.61304019 0.6664812  0.33698553 0.43917264 0.07704531\n",
      "  0.77170191 0.02424863 0.50516563 0.50102324 0.70131021 0.53592074\n",
      "  0.45697131 0.33194491 0.27442359 0.54086054 0.20920964 0.78009606\n",
      "  0.45730481 0.3985388  0.82183449 0.77942025 0.42373314 0.72130787\n",
      "  0.26644266 0.21456033 0.79146225 0.63026072 0.63758138 0.36552827\n",
      "  0.71632505 0.16007132 0.3070698  0.40126025]\n",
      " [0.53105577 0.72873303 0.42723107 0.30400287 0.20708711 0.66369942\n",
      "  0.44840616 0.66800904 0.79842663 0.67063466 0.17566367 0.10280502\n",
      "  0.68364315 0.49581572 0.58163622 0.2666783  0.23471931 0.28800318\n",
      "  0.0956898  0.65957745 0.69476787 0.22280688 0.64166824 0.08231205\n",
      "  0.36971749 0.52224155 0.27701257 0.35063974 0.71393869 0.25260647\n",
      "  0.38660799 0.17287732 0.45848424 0.4246258  0.44390927 0.41947212\n",
      "  0.31867721 0.49442504 0.82733065 0.33652009 0.67063114 0.46670455\n",
      "  0.40316787 0.48428746 0.2243027  0.56733508 0.35361162 0.15367245\n",
      "  0.70558953 0.54812813 0.58687364 0.64892876 0.2243133  0.12935292\n",
      "  0.56779516 0.72552317 0.81723237 0.4772124  0.75242083 0.41912799\n",
      "  0.36475102 0.57783883 0.62327358 0.41052793 0.43934157 0.\n",
      "  0.39103433 0.19622509 0.59384479 0.57869952 0.09756866 0.50395981\n",
      "  0.38857121 0.46267871 0.73912134 0.56201683 0.26296213 0.22847562\n",
      "  0.23740013 0.18657166 0.6372925  0.32692532 0.25958425 0.44666019\n",
      "  0.30293271 0.67815825 0.47914792 0.39811093 0.37894883 0.28643103\n",
      "  0.41959632 0.52831023 0.43987352 0.19108283 0.54841412 0.38300457\n",
      "  0.37876942 0.48993899 0.73141785 0.30721069]\n",
      " [0.8864142  1.07047383 0.05285105 0.21851717 0.27966569 0.67140882\n",
      "  0.83481004 0.98004399 0.74210083 0.66941227 0.54995728 0.45170724\n",
      "  0.62407666 0.27354886 0.60753659 0.4674072  0.55948029 0.63429466\n",
      "  0.47071828 0.50200593 1.02998531 0.61384081 0.76103266 0.45317168\n",
      "  0.60385153 0.35814113 0.58999534 0.71371808 0.71384915 0.42673128\n",
      "  0.65917825 0.21865606 0.54465197 0.39900909 0.39448011 0.45936354\n",
      "  0.7080154  0.8116047  0.89952473 0.54202329 0.68094645 0.33112542\n",
      "  0.09597985 0.73347856 0.27596132 0.20465131 0.63072738 0.33896131\n",
      "  0.67262648 0.36682474 0.3387789  0.80795124 0.17582937 0.50555191\n",
      "  0.80536702 0.83435747 0.78493197 0.09650717 1.08089794 0.12268684\n",
      "  0.64458906 0.89376135 0.41888399 0.48984246 0.74198789 0.39103433\n",
      "  0.         0.4271018  0.43974359 0.70475366 0.32656337 0.81784306\n",
      "  0.07406685 0.76039233 0.80391634 0.55164075 0.28670848 0.56852662\n",
      "  0.29061769 0.41040987 0.98903547 0.24158991 0.62141248 0.0601943\n",
      "  0.68355838 0.79782041 0.08815412 0.07245106 0.76791431 0.25389163\n",
      "  0.80131424 0.72535724 0.05057903 0.30754788 0.40133251 0.77399541\n",
      "  0.63595645 0.84160767 1.04896596 0.37911765]\n",
      " [0.66499577 0.86622706 0.47644308 0.43744592 0.14878366 0.85136342\n",
      "  0.53515874 0.82727447 0.97866316 0.85719403 0.1954338  0.29161855\n",
      "  0.86062513 0.6177334  0.76988307 0.46249222 0.41486022 0.44983277\n",
      "  0.16334417 0.8122549  0.83853751 0.30574413 0.83782702 0.15460386\n",
      "  0.56328167 0.66538687 0.16690169 0.49022987 0.90150052 0.44579101\n",
      "  0.23584963 0.24612086 0.65058912 0.59614151 0.61151448 0.60362484\n",
      "  0.36058123 0.65834129 1.02272597 0.53261092 0.85878332 0.61352543\n",
      "  0.39298602 0.67198684 0.1565025  0.62958814 0.20548807 0.09284222\n",
      "  0.8879673  0.68784925 0.70619187 0.84444264 0.25932868 0.29068451\n",
      "  0.75551231 0.9216836  1.0018311  0.52353542 0.89900996 0.50285178\n",
      "  0.21918709 0.73847774 0.75995616 0.60017266 0.61304019 0.19622509\n",
      "  0.4271018  0.         0.74446187 0.77481293 0.26919199 0.66909871\n",
      "  0.38978731 0.63715708 0.93359562 0.74412289 0.16735275 0.16435846\n",
      "  0.40006147 0.38105027 0.76946302 0.46727825 0.41159512 0.48721362\n",
      "  0.3100953  0.87436856 0.50587031 0.39950783 0.41113871 0.20674175\n",
      "  0.52243429 0.72244137 0.46520328 0.11988009 0.69838931 0.44405825\n",
      "  0.21675839 0.62995827 0.8855272  0.48830346]\n",
      " [0.86185804 0.98994527 0.40031521 0.30770636 0.63303775 0.29395486\n",
      "  0.90628019 0.86227467 0.31170514 0.28479296 0.76319116 0.57146817\n",
      "  0.2053169  0.16777116 0.27132938 0.42858006 0.58793244 0.65951083\n",
      "  0.68816902 0.06801694 0.94296846 0.76138709 0.46390863 0.67605985\n",
      "  0.50197198 0.08385462 0.86848087 0.74323046 0.31997817 0.40303013\n",
      "  0.97097065 0.50336065 0.31437417 0.19313511 0.16692124 0.25311976\n",
      "  0.86313566 0.73719333 0.53055791 0.44702372 0.30315633 0.13098768\n",
      "  0.53570042 0.59169788 0.63971456 0.35101011 0.93822907 0.65526013\n",
      "  0.2627759  0.07370461 0.14634425 0.53894139 0.51391286 0.63017049\n",
      "  0.62632818 0.50847831 0.36168499 0.39897312 0.97477129 0.3173825\n",
      "  0.95062889 0.79841899 0.07414761 0.29803188 0.6664812  0.59384479\n",
      "  0.43974359 0.74446187 0.         0.43339678 0.49667506 0.7368788\n",
      "  0.51342936 0.672306   0.4446536  0.20572766 0.66974946 0.82230188\n",
      "  0.35644466 0.45294353 0.93991467 0.27721279 0.67655579 0.41772369\n",
      "  0.87343843 0.49094001 0.44979118 0.51217607 0.91882476 0.65117545\n",
      "  0.85908632 0.52488076 0.45541752 0.64977803 0.04609013 0.89325757\n",
      "  0.95736416 0.81847854 0.9289898  0.31234057]\n",
      " [0.52703365 0.59889091 0.69321477 0.48720411 0.73891014 0.20265859\n",
      "  0.64614664 0.46082292 0.35522893 0.21804311 0.68167248 0.49149835\n",
      "  0.30882633 0.52413606 0.16848156 0.3125498  0.40517305 0.4341902\n",
      "  0.6398904  0.44776096 0.55210045 0.61552305 0.06322503 0.63832038\n",
      "  0.23714068 0.44946279 0.82254905 0.48825168 0.23351241 0.3345455\n",
      "  0.93963226 0.61648466 0.16024632 0.31896505 0.33457968 0.24752766\n",
      "  0.6930993  0.3874043  0.25245507 0.24510501 0.2009239  0.42763926\n",
      "  0.78574192 0.22544604 0.75355269 0.72481631 0.90841079 0.71621468\n",
      "  0.27672784 0.46962164 0.5614232  0.1090414  0.66253182 0.51977937\n",
      "  0.21754821 0.14696958 0.33587908 0.7196825  0.57072383 0.6149394\n",
      "  0.91663757 0.41953996 0.50743279 0.21516814 0.33698553 0.57869952\n",
      "  0.70475366 0.77481293 0.43339678 0.         0.51864829 0.38154686\n",
      "  0.76128014 0.32880454 0.17614979 0.22895423 0.79448065 0.76292398\n",
      "  0.43759791 0.39529556 0.5743126  0.46325502 0.47355051 0.71839057\n",
      "  0.73505097 0.10069464 0.76077347 0.76557763 0.73079974 0.79804839\n",
      "  0.5972104  0.12648731 0.74464873 0.73827235 0.42443341 0.68080549\n",
      "  0.93985001 0.49371259 0.52100306 0.33391153]\n",
      " [0.56363006 0.75366601 0.35498653 0.20828555 0.22342444 0.58226719\n",
      "  0.51054652 0.67633732 0.71071913 0.58800746 0.27167264 0.12517706\n",
      "  0.5938698  0.39997127 0.50094637 0.21006988 0.24111565 0.31145316\n",
      "  0.19301937 0.56270846 0.71569085 0.30145866 0.58181468 0.17985939\n",
      "  0.33519987 0.42467401 0.37248335 0.38806869 0.63237323 0.18412537\n",
      "  0.47894462 0.12684775 0.38420827 0.33156016 0.34949833 0.33445067\n",
      "  0.40246446 0.50311811 0.76078568 0.28852777 0.5897604  0.36916805\n",
      "  0.35914024 0.46081243 0.23925561 0.4856535  0.44593151 0.19864295\n",
      "  0.61929792 0.45058015 0.49090219 0.59970161 0.18442625 0.18122773\n",
      "  0.54214657 0.66514824 0.73278636 0.4039016  0.77001219 0.33423895\n",
      "  0.45766926 0.58708866 0.52575428 0.33214128 0.43917264 0.09756866\n",
      "  0.32656337 0.26919199 0.49667506 0.51864829 0.         0.5110319\n",
      "  0.34037479 0.4605435  0.66945422 0.47538303 0.2807621  0.32571809\n",
      "  0.14039593 0.12723388 0.66798519 0.22988626 0.29534491 0.37700156\n",
      "  0.39459672 0.61930646 0.41369519 0.34901753 0.46257394 0.29189187\n",
      "  0.47538673 0.48714296 0.37702228 0.21999043 0.45112855 0.45799236\n",
      "  0.46867235 0.51964543 0.74313517 0.21931574]\n",
      " [0.14629785 0.26059059 0.83137762 0.62315039 0.71051212 0.57974565\n",
      "  0.30109359 0.16542333 0.73594404 0.59459599 0.49977374 0.40367778\n",
      "  0.67432234 0.75633785 0.52438225 0.35931941 0.27228126 0.21960205\n",
      "  0.50580535 0.77453517 0.21614257 0.39236044 0.41265806 0.51506107\n",
      "  0.23983115 0.71547505 0.63552568 0.19612436 0.61462651 0.40021067\n",
      "  0.7430243  0.63787817 0.42645543 0.55768128 0.58355887 0.48590873\n",
      "  0.42111601 0.01213062 0.58330404 0.3025599  0.57950214 0.67071048\n",
      "  0.86668361 0.15782925 0.72772828 0.9235843  0.71853406 0.655539\n",
      "  0.65263221 0.742683   0.82580396 0.35337341 0.69542713 0.38170768\n",
      "  0.18505079 0.46885606 0.71706584 0.87391188 0.26330376 0.77855295\n",
      "  0.72163016 0.07624808 0.80364224 0.43967497 0.07704531 0.50395981\n",
      "  0.81784306 0.66909871 0.7368788  0.38154686 0.5110319  0.\n",
      "  0.84611945 0.06491891 0.5398004  0.56414936 0.76688485 0.57800482\n",
      "  0.53376542 0.40748264 0.20343215 0.61788162 0.25798198 0.85660618\n",
      "  0.48293041 0.4282618  0.89821934 0.85398761 0.43372516 0.78865583\n",
      "  0.25940697 0.25512399 0.86748119 0.69493392 0.70954394 0.37149231\n",
      "  0.7552658  0.11960155 0.23235724 0.47783285]\n",
      " [0.90392511 1.09339328 0.12180358 0.27469633 0.24128224 0.7389722\n",
      "  0.83693377 1.01029502 0.81419627 0.73762387 0.53353637 0.46279331\n",
      "  0.69551397 0.34756053 0.67264699 0.50581587 0.58037783 0.65182744\n",
      "  0.45791951 0.57598753 1.05460292 0.60888237 0.81922632 0.44024708\n",
      "  0.64292789 0.4314396  0.556084   0.72719939 0.78245777 0.46642885\n",
      "  0.61506721 0.21844333 0.6021024  0.46328973 0.46091437 0.519098\n",
      "  0.69778215 0.83904148 0.96402399 0.58340999 0.74842471 0.40244657\n",
      "  0.02464494 0.77311881 0.23364902 0.26215314 0.58836705 0.30835714\n",
      "  0.74299778 0.4406796  0.41201293 0.86205642 0.16425837 0.51147443\n",
      "  0.84811636 0.89463349 0.85609484 0.15306012 1.10766668 0.19670097\n",
      "  0.60224043 0.9223597  0.49285115 0.54620284 0.77170191 0.38857121\n",
      "  0.07406685 0.38978731 0.51342936 0.76128014 0.34037479 0.84611945\n",
      "  0.         0.7914255  0.86820332 0.61882345 0.23525184 0.5415294\n",
      "  0.33374078 0.44062829 1.00835635 0.30150873 0.63419863 0.11730512\n",
      "  0.66685338 0.85647937 0.12037884 0.00995002 0.75666094 0.19842648\n",
      "  0.80686824 0.7729947  0.08316159 0.27067659 0.47449364 0.76882329\n",
      "  0.58999189 0.86001827 1.07836809 0.43016844]\n",
      " [0.20051928 0.32465647 0.77209579 0.56204621 0.66720857 0.52305872\n",
      "  0.32838713 0.21965873 0.68055209 0.53763715 0.47898336 0.36046283\n",
      "  0.61442685 0.69197296 0.46447452 0.29787375 0.22800774 0.19047424\n",
      "  0.47509743 0.71068116 0.27951726 0.37811371 0.36587351 0.48256671\n",
      "  0.17512012 0.65056223 0.6190845  0.19399905 0.56000181 0.33901705\n",
      "  0.73043662 0.5869926  0.36287359 0.49276934 0.51864011 0.42106115\n",
      "  0.42229719 0.0650711  0.54500464 0.23829446 0.52338139 0.60593106\n",
      "  0.81255107 0.10362877 0.68434882 0.86107428 0.70409843 0.6159358\n",
      "  0.59514513 0.67776411 0.76097477 0.3148234  0.64423657 0.3466663\n",
      "  0.15486435 0.42887092 0.66452702 0.8137912  0.32375966 0.7172156\n",
      "  0.70838494 0.13565023 0.73883698 0.37489151 0.02424863 0.46267871\n",
      "  0.76039233 0.63715708 0.672306   0.32880454 0.4605435  0.06491891\n",
      "  0.7914255  0.         0.49388432 0.50192425 0.72434134 0.55991716\n",
      "  0.47389445 0.35106395 0.26764754 0.555673   0.23331139 0.79750264\n",
      "  0.47968062 0.38544784 0.83945455 0.79902916 0.44361123 0.74395042\n",
      "  0.28209803 0.20412509 0.80964045 0.65348297 0.64470506 0.38448585\n",
      "  0.74018514 0.16497012 0.28878992 0.41435703]\n",
      " [0.68597229 0.72736477 0.78234863 0.59632549 0.88231114 0.15075928\n",
      "  0.81773764 0.58727039 0.23879633 0.16105404 0.85318518 0.65820045\n",
      "  0.25685912 0.57865808 0.1967372  0.47332459 0.5798115  0.61032099\n",
      "  0.80694565 0.43175416 0.68264215 0.79077481 0.12802749 0.80396032\n",
      "  0.41278063 0.49052377 0.99245169 0.66266667 0.13721337 0.48788068\n",
      "  1.10928196 0.75317387 0.28600377 0.40510124 0.41019481 0.35440542\n",
      "  0.86924093 0.54732862 0.09587173 0.41436556 0.14173014 0.48870348\n",
      "  0.89282014 0.39082029 0.89568972 0.78109408 1.07757913 0.86801789\n",
      "  0.20146732 0.50214221 0.58923372 0.19331914 0.79296542 0.69098626\n",
      "  0.35939661 0.0898872  0.19773522 0.79951064 0.68916344 0.69834984\n",
      "  1.08633828 0.5646762  0.5150691  0.34089694 0.50516563 0.73912134\n",
      "  0.80391634 0.93359562 0.4446536  0.17614979 0.66945422 0.5398004\n",
      "  0.86820332 0.49388432 0.         0.25785612 0.93543876 0.93343963\n",
      "  0.56774792 0.5527577  0.7192877  0.56736686 0.64965175 0.80577068\n",
      "  0.91069547 0.1141457  0.84580528 0.87089403 0.9067316  0.93398722\n",
      "  0.7693123  0.29061951 0.83714561 0.88531614 0.45405783 0.85607666\n",
      "  1.10797281 0.65671155 0.63768149 0.46335165]\n",
      " [0.70014805 0.80651976 0.52686556 0.35462797 0.66630621 0.12025517\n",
      "  0.77692777 0.67344166 0.23651331 0.12033828 0.70905932 0.50568895\n",
      "  0.12771234 0.32152843 0.06679595 0.32574609 0.47619279 0.53490281\n",
      "  0.6461432  0.22023254 0.75925711 0.67724866 0.25851341 0.63848099\n",
      "  0.34745544 0.23563241 0.83550612 0.6105972  0.1660518  0.31908869\n",
      "  0.94808272 0.53234023 0.14384727 0.15999013 0.15804833 0.14275774\n",
      "  0.77213278 0.56658036 0.35153904 0.3084276  0.12963809 0.23087543\n",
      "  0.64324322 0.41005054 0.677523   0.52463376 0.91517276 0.66622575\n",
      "  0.14391942 0.25077006 0.3413951  0.33331327 0.56339765 0.55469519\n",
      "  0.43190878 0.30883013 0.258178   0.54216465 0.78558214 0.44209652\n",
      "  0.92591382 0.61791365 0.27986236 0.1632712  0.50102324 0.56201683\n",
      "  0.55164075 0.74412289 0.20572766 0.22895423 0.47538303 0.56414936\n",
      "  0.61882345 0.50192425 0.25785612 0.         0.71467886 0.78121091\n",
      "  0.34913477 0.38409573 0.76678829 0.32329866 0.56250807 0.54970687\n",
      "  0.79719153 0.28691449 0.58907638 0.6206706  0.8214987  0.70702708\n",
      "  0.72768379 0.330714   0.58221884 0.67476656 0.20321257 0.78430891\n",
      "  0.94077477 0.65985985 0.73781604 0.25610947]\n",
      " [0.78817163 0.98793996 0.33919983 0.36934375 0.05787555 0.83095855\n",
      "  0.68058855 0.93094717 0.93877954 0.83386574 0.34665962 0.36399725\n",
      "  0.81776814 0.52148918 0.75342488 0.49042601 0.49648772 0.55048137\n",
      "  0.28835734 0.73726356 0.95555439 0.44573844 0.85723206 0.27286082\n",
      "  0.61467988 0.58644808 0.33259709 0.60808253 0.87955498 0.46154407\n",
      "  0.38074216 0.18308781 0.65013978 0.55617872 0.56494025 0.58494294\n",
      "  0.51628734 0.75738438 1.02927996 0.56927545 0.8394582  0.54159554\n",
      "  0.23374323 0.73748385 0.04151003 0.49093804 0.35515195 0.11708828\n",
      "  0.85451093 0.60423774 0.60303338 0.87947045 0.15628716 0.38922389\n",
      "  0.81998338 0.93961404 0.97054008 0.38150595 1.01395882 0.3854749\n",
      "  0.36895779 0.84078267 0.67011645 0.59457879 0.70131021 0.26296213\n",
      "  0.28670848 0.16735275 0.66974946 0.79448065 0.2807621  0.76688485\n",
      "  0.23525184 0.72434134 0.93543876 0.71467886 0.         0.33054483\n",
      "  0.36905462 0.40798289 0.89439171 0.40194446 0.51971332 0.34441577\n",
      "  0.47189664 0.89505347 0.35528139 0.24432962 0.57050462 0.03979173\n",
      "  0.66090652 0.76789329 0.31625342 0.07314033 0.62506728 0.59659478\n",
      "  0.35503823 0.74880704 0.99406055 0.47229085]\n",
      " [0.54425045 0.74240922 0.61399377 0.52811798 0.3027667  0.87555203\n",
      "  0.39111437 0.72408703 1.01737474 0.88395709 0.08297728 0.27845775\n",
      "  0.90562317 0.71874602 0.79358381 0.46569386 0.36433991 0.37063035\n",
      "  0.13593932 0.88803887 0.72037603 0.18634665 0.82356142 0.14645021\n",
      "  0.53135363 0.75002446 0.06050128 0.38466644 0.92543916 0.46330926\n",
      "  0.17720004 0.3617417  0.66525349 0.65093985 0.67114941 0.63867252\n",
      "  0.20805058 0.5662772  1.01537669 0.51915501 0.88167334 0.69475046\n",
      "  0.54782635 0.61722056 0.31394964 0.76414926 0.14724444 0.23320023\n",
      "  0.92326963 0.77551242 0.80966439 0.81406174 0.39322512 0.24318033\n",
      "  0.69778093 0.90594238 1.03178162 0.66316011 0.78192886 0.6252129\n",
      "  0.15422387 0.63947318 0.85040347 0.62318702 0.53592074 0.22847562\n",
      "  0.56852662 0.16435846 0.82230188 0.76292398 0.32571809 0.57800482\n",
      "  0.5415294  0.55991716 0.93343963 0.78121091 0.33054483 0.\n",
      "  0.4658626  0.39732574 0.6439699  0.55310019 0.32687868 0.6283661\n",
      "  0.14972834 0.85745985 0.65229998 0.5514479  0.25215225 0.36930441\n",
      "  0.38774596 0.68654554 0.61131529 0.27332363 0.77682377 0.29328468\n",
      "  0.18167886 0.51561894 0.77565775 0.53068398]\n",
      " [0.61775122 0.79115087 0.29832112 0.09328322 0.31830507 0.46295855\n",
      "  0.60367463 0.6931627  0.58040195 0.46665316 0.40835293 0.22864934\n",
      "  0.46126543 0.27237209 0.38454581 0.17748374 0.29434568 0.3728995\n",
      "  0.33195961 0.42232243 0.74873115 0.42063113 0.49856078 0.31963032\n",
      "  0.31331314 0.28617322 0.51280308 0.45827237 0.51211426 0.13645303\n",
      "  0.61805061 0.18602652 0.28472494 0.19626416 0.21165774 0.21589646\n",
      "  0.52361207 0.52856111 0.66239531 0.25148565 0.47125252 0.23016715\n",
      "  0.35729513 0.44286132 0.33041282 0.39727009 0.5850955  0.3181164\n",
      "  0.49175153 0.31286869 0.36148414 0.53316958 0.2261826  0.29013757\n",
      "  0.51548506 0.57853585 0.60709103 0.34014647 0.79690746 0.24715628\n",
      "  0.59707885 0.60881044 0.38826334 0.22814867 0.45697131 0.23740013\n",
      "  0.29061769 0.40006147 0.35644466 0.43759791 0.14039593 0.53376542\n",
      "  0.33374078 0.47389445 0.56774792 0.34913477 0.36905462 0.4658626\n",
      "  0.         0.13524552 0.71578216 0.10125511 0.37258105 0.32385065\n",
      "  0.52482971 0.53646007 0.3661323  0.33966673 0.58230549 0.36623995\n",
      "  0.56223344 0.43938303 0.33826703 0.32569691 0.3110525  0.56781551\n",
      "  0.60654418 0.57208219 0.76256947 0.10502817]\n",
      " [0.48352625 0.6611579  0.42601835 0.2285284  0.35065022 0.47987385\n",
      "  0.47203497 0.57042172 0.62007204 0.48762777 0.32537797 0.12290016\n",
      "  0.50945064 0.39925616 0.39771438 0.08351276 0.15911516 0.23769223\n",
      "  0.26301486 0.51336282 0.61997299 0.30861443 0.45850583 0.25673917\n",
      "  0.21016218 0.39546242 0.45254941 0.32327033 0.53001507 0.06671012\n",
      "  0.56676394 0.24457086 0.27236955 0.26528359 0.28906922 0.24195455\n",
      "  0.4101945  0.40119619 0.64170891 0.16129496 0.4864277  0.33989693\n",
      "  0.46210996 0.33833365 0.36647989 0.53232365 0.53411009 0.321459\n",
      "  0.52595046 0.42381089 0.48495111 0.47304552 0.29973332 0.17810478\n",
      "  0.41805872 0.54223993 0.63515341 0.47053483 0.67048856 0.38141714\n",
      "  0.54425806 0.48349197 0.49790124 0.22657172 0.33194491 0.18657166\n",
      "  0.41040987 0.38105027 0.45294353 0.39529556 0.12723388 0.40748264\n",
      "  0.44062829 0.35106395 0.5527577  0.38409573 0.40798289 0.39732574\n",
      "  0.13524552 0.         0.58295101 0.23347616 0.23934395 0.45081571\n",
      "  0.42308088 0.49560265 0.49179398 0.44810343 0.46623844 0.4181183\n",
      "  0.42918522 0.35998047 0.46019414 0.34635803 0.41086503 0.44427278\n",
      "  0.56171974 0.43795056 0.63901194 0.14186842]\n",
      " [0.10631147 0.09855366 1.00838743 0.80791605 0.84166271 0.77587793\n",
      "  0.26931736 0.15620814 0.92933022 0.79102998 0.57908788 0.54763116\n",
      "  0.87438588 0.95285739 0.72483581 0.54865225 0.42957042 0.35655154\n",
      "  0.61134874 0.9779657  0.08797827 0.46540299 0.59633893 0.62474373\n",
      "  0.44016134 0.91628059 0.69317728 0.28680901 0.80750925 0.58811527\n",
      "  0.78378299 0.79233891 0.62986491 0.75862176 0.78478264 0.68821152\n",
      "  0.44706374 0.20272381 0.74785138 0.50070642 0.77483411 0.86996902\n",
      "  1.02693837 0.35757631 0.85863649 1.11153892 0.7659443  0.77795289\n",
      "  0.84954756 0.94381366 1.02530697 0.52646956 0.84950912 0.50796053\n",
      "  0.36119106 0.63974041 0.90585158 1.0534455  0.1462329  0.96290018\n",
      "  0.76534823 0.15531565 1.00604881 0.64227326 0.27442359 0.6372925\n",
      "  0.98903547 0.76946302 0.93991467 0.5743126  0.66798519 0.20343215\n",
      "  1.00835635 0.26764754 0.7192877  0.76678829 0.89439171 0.6439699\n",
      "  0.71578216 0.58295101 0.         0.80635616 0.37811045 1.03283062\n",
      "  0.51422983 0.60523259 1.07300692 1.01695697 0.43140494 0.92194827\n",
      "  0.25785253 0.4488565  1.03947279 0.82126711 0.91180322 0.36985312\n",
      "  0.80294274 0.1484576  0.16218507 0.67176505]\n",
      " [0.71095924 0.87767561 0.2326433  0.03263806 0.36010603 0.44321644\n",
      "  0.70431183 0.77253642 0.53812988 0.44356277 0.50153594 0.32926875\n",
      "  0.4169931  0.17204839 0.37297607 0.2587994  0.39193193 0.47047469\n",
      "  0.42260965 0.34508307 0.833972   0.52065222 0.51949424 0.40877789\n",
      "  0.38626316 0.19895271 0.59585381 0.55644342 0.48916217 0.21847469\n",
      "  0.6952852  0.2276247  0.30308978 0.1640902  0.16671247 0.21808144\n",
      "  0.62352848 0.61376467 0.66323724 0.32179258 0.4524021  0.14624909\n",
      "  0.32615333 0.51147317 0.36848473 0.30581432 0.66272789 0.3782019\n",
      "  0.45708978 0.2231045  0.2621939  0.56717992 0.24631175 0.39081618\n",
      "  0.57696927 0.59355576 0.57285153 0.26597032 0.87935075 0.16370445\n",
      "  0.67536767 0.69132309 0.29750743 0.24863694 0.54086054 0.32692532\n",
      "  0.24158991 0.46727825 0.27721279 0.46325502 0.22988626 0.61788162\n",
      "  0.30150873 0.555673   0.56736686 0.32329866 0.40194446 0.55310019\n",
      "  0.10125511 0.23347616 0.80635616 0.         0.47246624 0.25838273\n",
      "  0.62212829 0.55637609 0.30141228 0.30480647 0.6825588  0.38917415\n",
      "  0.66230615 0.49072752 0.2819935  0.37470589 0.23116307 0.66898736\n",
      "  0.68084646 0.66524533 0.84226318 0.14632798]\n",
      " [0.27209835 0.46917353 0.64674855 0.46511833 0.46548246 0.62784053\n",
      "  0.23321642 0.41618584 0.78367381 0.63960868 0.24567256 0.17140704\n",
      "  0.68943423 0.63819623 0.55152219 0.24840891 0.08880891 0.04431566\n",
      "  0.24826014 0.73128879 0.43586262 0.14954397 0.52842027 0.25835169\n",
      "  0.23766997 0.62788347 0.38641113 0.09301092 0.67419933 0.27480272\n",
      "  0.49928122 0.41643483 0.42280525 0.48352078 0.50963496 0.43596166\n",
      "  0.21975782 0.24699933 0.72092491 0.25583954 0.63159106 0.5737207\n",
      "  0.65173096 0.295349   0.48260322 0.76602292 0.4720316  0.40487018\n",
      "  0.68970541 0.65652375 0.72264421 0.50384046 0.47303491 0.13067823\n",
      "  0.37319698 0.60623303 0.78388599 0.69437689 0.49434796 0.61358324\n",
      "  0.47692235 0.32698822 0.72872273 0.40154923 0.20920964 0.25958425\n",
      "  0.62141248 0.41159512 0.67655579 0.47355051 0.29534491 0.25798198\n",
      "  0.63419863 0.23331139 0.64965175 0.56250807 0.51971332 0.32687868\n",
      "  0.37258105 0.23934395 0.37811045 0.47246624 0.         0.66985168\n",
      "  0.26364176 0.55821564 0.70787328 0.64312454 0.26183045 0.54544898\n",
      "  0.18986241 0.37609135 0.67196103 0.44670024 0.63780418 0.22186979\n",
      "  0.50775706 0.23038532 0.4763836  0.36733945]\n",
      " [0.93147777 1.11195794 0.0258994  0.24139607 0.33953979 0.6678183\n",
      "  0.88717899 1.01693071 0.72621903 0.66445078 0.60833948 0.50197034\n",
      "  0.6110049  0.25002531 0.60909861 0.5011823  0.60407858 0.68028383\n",
      "  0.52857116 0.4762345  1.07050005 0.6692221  0.77219461 0.51110839\n",
      "  0.63579059 0.33982253 0.65018219 0.76142975 0.70776183 0.46000969\n",
      "  0.71886953 0.27553933 0.55835367 0.40444766 0.39600842 0.47096812\n",
      "  0.76468169 0.8509484  0.90063838 0.57255713 0.67747637 0.32175168\n",
      "  0.13226179 0.76413502 0.3354061  0.14674142 0.69059483 0.39914459\n",
      "  0.66241275 0.34401938 0.30277607 0.82398011 0.23530881 0.5575871\n",
      "  0.83299151 0.84230369 0.77194854 0.03709024 1.1199074  0.1076181\n",
      "  0.70446341 0.93204344 0.38781858 0.50554382 0.78009606 0.44666019\n",
      "  0.0601943  0.48721362 0.41772369 0.71839057 0.37700156 0.85660618\n",
      "  0.11730512 0.79750264 0.80577068 0.54970687 0.34441577 0.6283661\n",
      "  0.32385065 0.45081571 1.03283062 0.25838273 0.66985168 0.\n",
      "  0.74177332 0.80817617 0.04309713 0.11129372 0.82474879 0.31021363\n",
      "  0.85237157 0.748788   0.03903908 0.36757991 0.3831978  0.8290654\n",
      "  0.69538288 0.88630571 1.0862674  0.40267956]\n",
      " [0.4212843  0.61253041 0.72438975 0.60256474 0.43665574 0.87665598\n",
      "  0.25041896 0.61250268 1.02797423 0.88714384 0.13371861 0.30205929\n",
      "  0.9247271  0.79367877 0.79702001 0.47144941 0.33224904 0.30629877\n",
      "  0.21346839 0.9355251  0.59559202 0.12124184 0.79124722 0.23077664\n",
      "  0.49795571 0.80947314 0.18479708 0.28791382 0.92486587 0.48207544\n",
      "  0.2699628  0.46675543 0.66623784 0.68832508 0.71177571 0.65936043\n",
      "  0.06720366 0.47080804 0.98405522 0.50434782 0.88141067 0.75318998\n",
      "  0.67622105 0.55585418 0.44995509 0.8686356  0.25183594 0.36448885\n",
      "  0.93308689 0.83683797 0.88426531 0.76721289 0.50867487 0.24518184\n",
      "  0.62970518 0.86972012 1.03406611 0.77440513 0.65708545 0.72180804\n",
      "  0.25114347 0.53418664 0.91215549 0.6340648  0.45730481 0.30293271\n",
      "  0.68355838 0.3100953  0.87343843 0.73505097 0.39459672 0.48293041\n",
      "  0.66685338 0.47968062 0.91069547 0.79719153 0.47189664 0.14972834\n",
      "  0.52482971 0.42308088 0.51422983 0.62212829 0.26364176 0.74177332\n",
      "  0.         0.82160587 0.77036465 0.67678797 0.10244048 0.50924389\n",
      "  0.25685101 0.6396524  0.72980211 0.40822675 0.82988804 0.14896273\n",
      "  0.28875409 0.40006779 0.65707793 0.56485135]\n",
      " [0.57404427 0.61388638 0.78341244 0.58181781 0.83956189 0.21627933\n",
      "  0.71227194 0.47372372 0.3420521  0.2308531  0.77551466 0.5891118\n",
      "  0.33107237 0.60127067 0.22022395 0.4125971  0.49598428 0.51680014\n",
      "  0.7369217  0.49274212 0.5689094  0.70378802 0.0379446  0.73601156\n",
      "  0.32708173 0.52023534 0.91745346 0.56188704 0.22618273 0.43522057\n",
      "  1.03454336 0.7166222  0.25455746 0.40454026 0.41668343 0.33847497\n",
      "  0.77598578 0.43627659 0.16319311 0.34285726 0.21027893 0.5060023\n",
      "  0.88104121 0.2839657  0.8541642  0.80421111 1.00370745 0.81673252\n",
      "  0.28456307 0.5371553  0.6281922  0.07926078 0.76199883 0.61441959\n",
      "  0.24603231 0.04851977 0.30760843 0.80714377 0.57691894 0.70297725\n",
      "  1.01154343 0.45078553 0.56462415 0.31099734 0.3985388  0.67815825\n",
      "  0.79782041 0.87436856 0.49094001 0.10069464 0.61930646 0.4282618\n",
      "  0.85647937 0.38544784 0.1141457  0.28691449 0.89505347 0.85745985\n",
      "  0.53646007 0.49560265 0.60523259 0.55637609 0.55821564 0.80817617\n",
      "  0.82160587 0.         0.85002556 0.86040367 0.80981811 0.89827823\n",
      "  0.66457366 0.1862659  0.83602891 0.83896348 0.48993421 0.75655082\n",
      "  1.03577652 0.54627819 0.52555436 0.43208559]\n",
      " [0.97114719 1.15290853 0.06898015 0.28444537 0.3571456  0.70647579\n",
      "  0.92271552 1.05897611 0.76009779 0.70267976 0.63666791 0.53886805\n",
      "  0.64636887 0.28308242 0.6492909  0.54357157 0.64381192 0.71948693\n",
      "  0.55795685 0.50592037 1.11171911 0.70195369 0.814195   0.5403599\n",
      "  0.6784771  0.37423969 0.67088391 0.79985906 0.74554517 0.50244023\n",
      "  0.73410245 0.30661683 0.60084122 0.44588961 0.4366658  0.51327699\n",
      "  0.79580861 0.89242132 0.94039773 0.6153625  0.71615558 0.35975718\n",
      "  0.12774875 0.80697925 0.35112009 0.14750301 0.70683371 0.42059891\n",
      "  0.69879152 0.37626615 0.32736865 0.8666031  0.26176061 0.59331715\n",
      "  0.87603337 0.88369529 0.80700829 0.05107046 1.16151699 0.14768225\n",
      "  0.72071819 0.97378424 0.41488635 0.54827759 0.82183449 0.47914792\n",
      "  0.08815412 0.50587031 0.44979118 0.76077347 0.41369519 0.89821934\n",
      "  0.12037884 0.83945455 0.84580528 0.58907638 0.35528139 0.65229998\n",
      "  0.3661323  0.49179398 1.07300692 0.30141228 0.70787328 0.04309713\n",
      "  0.77036465 0.85002556 0.         0.11187517 0.8556266  0.31878396\n",
      "  0.88886157 0.79187692 0.04098695 0.3860303  0.41736037 0.86212845\n",
      "  0.70949086 0.92610917 1.12824327 0.44577241]\n",
      " [0.91262907 1.10174688 0.11763993 0.27860372 0.25106343 0.74073372\n",
      "  0.84643644 1.0180246  0.81416519 0.73918064 0.54346004 0.47173089\n",
      "  0.69581402 0.34576487 0.67508281 0.512519   0.5887385  0.66045923\n",
      "  0.46778048 0.57424044 1.06281903 0.61858903 0.8232312  0.45010628\n",
      "  0.64964596 0.43057454 0.56586285 0.73611449 0.78389102 0.47295064\n",
      "  0.62438715 0.22765109 0.60616834 0.46584043 0.46290885 0.5226797\n",
      "  0.70763119 0.84698017 0.96667672 0.58982714 0.75021416 0.40274154\n",
      "  0.0235288  0.77982787 0.24329441 0.25498924 0.59779432 0.31826885\n",
      "  0.74377464 0.43919661 0.40855942 0.86680222 0.17380651 0.52071938\n",
      "  0.85448134 0.89824101 0.8565394  0.14640897 1.11571638 0.19496814\n",
      "  0.6116645  0.93021856 0.49021737 0.55043422 0.77942025 0.39811093\n",
      "  0.07245106 0.39950783 0.51217607 0.76557763 0.34901753 0.85398761\n",
      "  0.00995002 0.79902916 0.87089403 0.6206706  0.24432962 0.5514479\n",
      "  0.33966673 0.44810343 1.01695697 0.30480647 0.64312454 0.11129372\n",
      "  0.67678797 0.86040367 0.11187517 0.         0.76653373 0.20721242\n",
      "  0.8162197  0.77869758 0.07579411 0.28047806 0.47374335 0.77856174\n",
      "  0.59920161 0.86865265 1.08618617 0.43516512]\n",
      " [0.34756108 0.52825436 0.80590411 0.66645546 0.53238776 0.88966463\n",
      "  0.16214245 0.54484718 1.0452383  0.90138478 0.22555973 0.35371622\n",
      "  0.94896765 0.85449142 0.8130329  0.49957165 0.34545457 0.29738112\n",
      "  0.29879745 0.9778262  0.51624737 0.16202472 0.7825953  0.31648031\n",
      "  0.49789686 0.86086085 0.28476588 0.25103033 0.93598625 0.51782775\n",
      "  0.35759013 0.54937201 0.68369173 0.72854989 0.75347055 0.68985419\n",
      "  0.06033004 0.42175434 0.97298329 0.51712672 0.89341826 0.80487903\n",
      "  0.76753201 0.53200199 0.5464448  0.9456547  0.34413998 0.46009523\n",
      "  0.95106797 0.88896351 0.94376399 0.74846418 0.59535204 0.2924031\n",
      "  0.5981105  0.85682177 1.04566888 0.85593717 0.57690615 0.79585633\n",
      "  0.34126272 0.47400818 0.96357524 0.65897195 0.42373314 0.37894883\n",
      "  0.76791431 0.41113871 0.91882476 0.73079974 0.46257394 0.43372516\n",
      "  0.75666094 0.44361123 0.9067316  0.8214987  0.57050462 0.25215225\n",
      "  0.58230549 0.46623844 0.43140494 0.6825588  0.26183045 0.82474879\n",
      "  0.10244048 0.80981811 0.8556266  0.76653373 0.         0.60705312\n",
      "  0.18265134 0.6240628  0.81558591 0.50465408 0.87708731 0.06400607\n",
      "  0.38000794 0.33486847 0.58248966 0.60659853]\n",
      " [0.81564001 1.01450416 0.30670113 0.35657967 0.0803673  0.82472082\n",
      "  0.7135363  0.95341381 0.92729091 0.8269047  0.38235387 0.38497808\n",
      "  0.80615374 0.498579   0.74864271 0.49912144 0.51693142 0.57435491\n",
      "  0.32065149 0.71818588 0.98108214 0.47856467 0.8603574  0.3045238\n",
      "  0.62709051 0.56746227 0.37232721 0.63519984 0.87267815 0.46793868\n",
      "  0.41948074 0.18174285 0.65008359 0.54747947 0.55446591 0.58117583\n",
      "  0.5520775  0.77948799 1.02854714 0.57883571 0.83343195 0.52488093\n",
      "  0.1954391  0.75208703 0.06366717 0.45695459 0.39432973 0.149255\n",
      "  0.84498245 0.5838936  0.57765122 0.8861583  0.14369556 0.41478021\n",
      "  0.83385166 0.94196774 0.96098931 0.34723564 1.03885038 0.35828157\n",
      "  0.40810585 0.8632558  0.64771101 0.59388062 0.72130787 0.28643103\n",
      "  0.25389163 0.20674175 0.65117545 0.79804839 0.29189187 0.78865583\n",
      "  0.19842648 0.74395042 0.93398722 0.70702708 0.03979173 0.36930441\n",
      "  0.36623995 0.4181183  0.92194827 0.38917415 0.54544898 0.31021363\n",
      "  0.50924389 0.89827823 0.31878396 0.20721242 0.60705312 0.\n",
      "  0.69231629 0.77767585 0.28046725 0.10397587 0.60718865 0.63143005\n",
      "  0.39333063 0.77543487 1.01748239 0.47084756]\n",
      " [0.16594466 0.35636147 0.83012022 0.65448139 0.61243862 0.77616521\n",
      "  0.04957394 0.3622536  0.93484492 0.78944568 0.32801288 0.35045703\n",
      "  0.85146797 0.82774067 0.70624377 0.43123564 0.27442538 0.19965119\n",
      "  0.37261556 0.91075289 0.33881016 0.21714327 0.64184012 0.38809295\n",
      "  0.38250679 0.81452722 0.4355684  0.11729594 0.81863104 0.46141502\n",
      "  0.52677254 0.58874889 0.58417557 0.66616399 0.69267931 0.61191793\n",
      "  0.18965369 0.24793355 0.82584494 0.42074012 0.77833825 0.76114993\n",
      "  0.82235187 0.380682   0.62871991 0.95391989 0.50827089 0.54395714\n",
      "  0.84365811 0.84318585 0.91149283 0.59634827 0.64294645 0.29608933\n",
      "  0.43565243 0.70935253 0.92692516 0.87862312 0.40025889 0.80129106\n",
      "  0.50795238 0.29253977 0.91425532 0.57305055 0.26644266 0.41959632\n",
      "  0.80131424 0.52243429 0.85908632 0.5972104  0.47538673 0.25940697\n",
      "  0.80686824 0.28209803 0.7693123  0.72768379 0.66090652 0.38774596\n",
      "  0.56223344 0.42918522 0.25785253 0.66230615 0.18986241 0.85237157\n",
      "  0.25685101 0.66457366 0.88886157 0.8162197  0.18265134 0.69231629\n",
      "  0.         0.47926575 0.85153883 0.58884622 0.82206456 0.11865525\n",
      "  0.54532592 0.1528318  0.40190103 0.55398972]\n",
      " [0.40084981 0.4784253  0.72294537 0.50829424 0.71042625 0.32702146\n",
      "  0.52741303 0.34317398 0.48149423 0.34218126 0.60370349 0.43113092\n",
      "  0.42786759 0.58669356 0.28026546 0.27868879 0.32220627 0.33351308\n",
      "  0.57414581 0.55008101 0.43126901 0.52400598 0.16273636 0.57575577\n",
      "  0.15924973 0.52447378 0.74700758 0.37562737 0.35989219 0.31258054\n",
      "  0.86351914 0.60053276 0.21505162 0.37533671 0.39691827 0.29762399\n",
      "  0.59172221 0.2611879  0.34914278 0.19884947 0.32606357 0.49165712\n",
      "  0.79665325 0.10054949 0.72638375 0.77859793 0.83373737 0.6763353\n",
      "  0.40073266 0.54832147 0.63848868 0.12815864 0.65252821 0.44630663\n",
      "  0.10160427 0.232787   0.46199765 0.75618801 0.45503911 0.65227226\n",
      "  0.84061066 0.29480196 0.59712007 0.25336482 0.21456033 0.52831023\n",
      "  0.72535724 0.72244137 0.52488076 0.12648731 0.48714296 0.25512399\n",
      "  0.7729947  0.20412509 0.29061951 0.330714   0.76789329 0.68654554\n",
      "  0.43938303 0.35998047 0.4488565  0.49072752 0.37609135 0.748788\n",
      "  0.6396524  0.1862659  0.79187692 0.77869758 0.6240628  0.77767585\n",
      "  0.47926575 0.         0.76991952 0.70480322 0.50733149 0.57033265\n",
      "  0.86726727 0.3684827  0.40710232 0.3466389 ]\n",
      " [0.93694015 1.12064078 0.05601634 0.26169183 0.31654741 0.70102796\n",
      "  0.88472681 1.02929649 0.7629289  0.69810829 0.59608955 0.50213497\n",
      "  0.64696042 0.28764639 0.64041291 0.51555393 0.60993945 0.68485052\n",
      "  0.51762662 0.51457237 1.07999412 0.6626167  0.79965558 0.50000734\n",
      "  0.65154195 0.37664032 0.63002593 0.76428865 0.74181309 0.47467212\n",
      "  0.69413725 0.26708576 0.58440558 0.43386992 0.42695692 0.49785858\n",
      "  0.75585894 0.86135977 0.93234686 0.58918698 0.71065423 0.35617757\n",
      "  0.09508066 0.78082366 0.31084339 0.17919514 0.66664247 0.37964871\n",
      "  0.69764917 0.38174236 0.34180837 0.8491418  0.22113021 0.55565493\n",
      "  0.85166185 0.87123981 0.80799106 0.07116024 1.13063553 0.14164442\n",
      "  0.68052731 0.94331473 0.426657   0.53053792 0.79146225 0.43987352\n",
      "  0.05057903 0.46520328 0.45541752 0.74464873 0.37702228 0.86748119\n",
      "  0.08316159 0.80964045 0.83714561 0.58221884 0.31625342 0.61131529\n",
      "  0.33826703 0.46019414 1.03947279 0.2819935  0.67196103 0.03903908\n",
      "  0.72980211 0.83602891 0.04098695 0.07579411 0.81558591 0.28046725\n",
      "  0.85153883 0.76991952 0.         0.34533492 0.42006484 0.82286679\n",
      "  0.6697911  0.89210748 1.09832958 0.42328288]\n",
      " [0.71503992 0.91480641 0.35743704 0.34293621 0.02955583 0.78820375\n",
      "  0.60960553 0.85865959 0.90411605 0.7922232  0.27936891 0.29304686\n",
      "  0.78386225 0.51225299 0.70882279 0.42970144 0.42547815 0.47789138\n",
      "  0.21676723 0.71778143 0.88250735 0.37462883 0.80137008 0.20081074\n",
      "  0.5494807  0.56811996 0.2854408  0.53494258 0.83758747 0.40378333\n",
      "  0.35249565 0.14711139 0.59931237 0.51930602 0.53098003 0.53994973\n",
      "  0.44896036 0.68530216 0.97793306 0.50712028 0.79634058 0.51931968\n",
      "  0.27521471 0.67006197 0.04179596 0.51076919 0.32342843 0.04528559\n",
      "  0.81690577 0.58849817 0.59839004 0.8193827  0.14476195 0.31630598\n",
      "  0.75302664 0.88448611 0.93251188 0.40404201 0.94100363 0.38868302\n",
      "  0.33726425 0.76852254 0.65812604 0.54502581 0.63026072 0.19108283\n",
      "  0.30754788 0.11988009 0.64977803 0.73827235 0.21999043 0.69493392\n",
      "  0.27067659 0.65348297 0.88531614 0.67476656 0.07314033 0.27332363\n",
      "  0.32569691 0.34635803 0.82126711 0.37470589 0.44670024 0.36757991\n",
      "  0.40822675 0.83896348 0.3860303  0.28047806 0.50465408 0.10397587\n",
      "  0.58884622 0.70480322 0.34533492 0.         0.60412268 0.52770268\n",
      "  0.33065134 0.67567662 0.92144989 0.42503233]\n",
      " [0.83092494 0.96516151 0.36438332 0.26178135 0.58766793 0.30501271\n",
      "  0.86875876 0.84012766 0.34303017 0.29783159 0.71841463 0.52816006\n",
      "  0.22970286 0.13450586 0.27000703 0.39086089 0.54949266 0.62242299\n",
      "  0.64294771 0.11393623 0.91843578 0.71881645 0.46045734 0.63067397\n",
      "  0.47212921 0.04343026 0.82269711 0.70693864 0.33678686 0.3633208\n",
      "  0.92494237 0.45756361 0.29335798 0.15665051 0.12992634 0.22364573\n",
      "  0.82090416 0.70923979 0.54347712 0.4148056  0.31456571 0.08499415\n",
      "  0.49726086 0.56829429 0.5945693  0.32964863 0.89221257 0.60927026\n",
      "  0.28427607 0.04810308 0.13826507 0.53209677 0.46903058 0.58736448\n",
      "  0.60806722 0.51156164 0.38979576 0.36712054 0.95242263 0.27996777\n",
      "  0.90463105 0.77326815 0.09436599 0.2699567  0.63758138 0.54841412\n",
      "  0.40133251 0.69838931 0.04609013 0.42443341 0.45112855 0.70954394\n",
      "  0.47449364 0.64470506 0.45405783 0.20321257 0.62506728 0.77682377\n",
      "  0.3110525  0.41086503 0.91180322 0.23116307 0.63780418 0.3831978\n",
      "  0.82988804 0.48993421 0.41736037 0.47374335 0.87708731 0.60718865\n",
      "  0.82206456 0.50733149 0.42006484 0.60412268 0.         0.85291468\n",
      "  0.91128519 0.78698817 0.90770541 0.27156405]\n",
      " [0.28385628 0.46738212 0.80888994 0.65562111 0.55410307 0.8464514\n",
      "  0.10209491 0.48088486 1.00344817 0.85870444 0.25052534 0.34073292\n",
      "  0.91107569 0.8398144  0.77166502 0.46788944 0.30955034 0.25192614\n",
      "  0.31387126 0.95003877 0.45380374 0.1602922  0.73060949 0.3311742\n",
      "  0.4517789  0.83953658 0.33347146 0.19484717 0.89168894 0.49026845\n",
      "  0.41521807 0.55580646 0.64395132 0.70108546 0.72669729 0.65703521\n",
      "  0.08523423 0.35960537 0.91945496 0.47690766 0.84971624 0.78413452\n",
      "  0.78146    0.47600996 0.56916033 0.94363716 0.39941093 0.48249316\n",
      "  0.90998725 0.86796358 0.92761214 0.69300458 0.60533057 0.27956659\n",
      "  0.53932724 0.80298657 1.00119827 0.85864129 0.51475019 0.79208052\n",
      "  0.39769148 0.41021075 0.94169752 0.62336228 0.36552827 0.38300457\n",
      "  0.77399541 0.44405825 0.89325757 0.68080549 0.45799236 0.37149231\n",
      "  0.76882329 0.38448585 0.85607666 0.78430891 0.59659478 0.29328468\n",
      "  0.56781551 0.44427278 0.36985312 0.66898736 0.22186979 0.8290654\n",
      "  0.14896273 0.75655082 0.86212845 0.77856174 0.06400607 0.63143005\n",
      "  0.11865525 0.57033265 0.82286679 0.52770268 0.85291468 0.\n",
      "  0.43596207 0.27092937 0.51917652 0.58135656]\n",
      " [0.70854559 0.90127737 0.68694875 0.65189918 0.35700501 1.04137872\n",
      "  0.5380397  0.89571348 1.17714197 1.04873551 0.26454693 0.449787\n",
      "  1.06176449 0.83427294 0.95922061 0.63606303 0.5451929  0.55173744\n",
      "  0.30111654 1.02482006 0.88369888 0.36318846 1.00123415 0.30527598\n",
      "  0.71097073 0.87964803 0.12145234 0.55992754 1.09157292 0.62842931\n",
      "  0.03117783 0.46274268 0.83363069 0.80022285 0.81770511 0.79823798\n",
      "  0.35588325 0.74337002 1.19201761 0.69497611 1.04805971 0.82678735\n",
      "  0.58866857 0.79889855 0.36000717 0.84027426 0.03719531 0.30952388\n",
      "  1.08435484 0.90279022 0.92291901 0.99443568 0.4743046  0.42184956\n",
      "  0.87939249 1.08415825 1.1957101  0.73226928 0.94527751 0.71845661\n",
      "  0.03900198 0.81360395 0.97553923 0.7879541  0.71632505 0.37876942\n",
      "  0.63595645 0.21675839 0.95736416 0.93985001 0.46867235 0.7552658\n",
      "  0.58999189 0.74018514 1.10797281 0.94077477 0.35503823 0.18167886\n",
      "  0.60654418 0.56171974 0.80294274 0.68084646 0.50775706 0.69538288\n",
      "  0.28875409 1.03577652 0.70949086 0.59920161 0.38000794 0.39333063\n",
      "  0.54532592 0.86726727 0.6697911  0.33065134 0.91128519 0.43596207\n",
      "  0.         0.68436342 0.94347588 0.6855382 ]\n",
      " [0.04571915 0.2391428  0.86209346 0.66489136 0.6952961  0.68732767\n",
      "  0.18786207 0.21246445 0.8451847  0.70176342 0.44468694 0.39922178\n",
      "  0.77601129 0.81742587 0.62643085 0.41050307 0.28229725 0.20819362\n",
      "  0.46917008 0.86192938 0.20861215 0.33121676 0.5289743  0.48165092\n",
      "  0.31721824 0.78752151 0.56896636 0.14097977 0.724855   0.4484746\n",
      "  0.66841567 0.64388136 0.51771956 0.63125854 0.65786099 0.56536748\n",
      "  0.33414417 0.11039449 0.70256932 0.37218968 0.6878744  0.73861322\n",
      "  0.87851958 0.26832127 0.71235567 0.96905225 0.64717602 0.63295742\n",
      "  0.7589151  0.81563756 0.89357643 0.47235814 0.70105746 0.36079191\n",
      "  0.30455335 0.58771413 0.82948813 0.90774776 0.26913021 0.81911479\n",
      "  0.64835868 0.13979645 0.88128037 0.52115726 0.16007132 0.48993899\n",
      "  0.84160767 0.62995827 0.81847854 0.49371259 0.51964543 0.11960155\n",
      "  0.86001827 0.16497012 0.65671155 0.65985985 0.74880704 0.51561894\n",
      "  0.57208219 0.43795056 0.1484576  0.66524533 0.23038532 0.88630571\n",
      "  0.40006779 0.54627819 0.92610917 0.86865265 0.33486847 0.77543487\n",
      "  0.1528318  0.3684827  0.89210748 0.67567662 0.78698817 0.27092937\n",
      "  0.68436342 0.         0.26005433 0.53564647]\n",
      " [0.23605944 0.10202036 1.06083571 0.84997697 0.9385008  0.72179339\n",
      "  0.4224859  0.0697348  0.86511621 0.73728618 0.70386522 0.63313979\n",
      "  0.82980861 0.9702524  0.68560754 0.58598353 0.5032894  0.44358073\n",
      "  0.72296132 0.95695694 0.0761127  0.59082367 0.52631476 0.73411193\n",
      "  0.45668274 0.9197485  0.82888288 0.39581354 0.74508449 0.62721175\n",
      "  0.92664663 0.86997483 0.61495385 0.76379261 0.78823466 0.68780958\n",
      "  0.59025595 0.24001726 0.6478903  0.52128646 0.71881257 0.87995378\n",
      "  1.09900897 0.34064799 0.95571859 1.1465498  0.90628165 0.88058334\n",
      "  0.79557607 0.9454835  1.03280244 0.44729345 0.92756037 0.60550163\n",
      "  0.30618626 0.55096331 0.83315123 1.10223766 0.0515412  1.00475591\n",
      "  0.90702087 0.15613086 0.99978802 0.64104575 0.3070698  0.73141785\n",
      "  1.04896596 0.8855272  0.9289898  0.52100306 0.74313517 0.23235724\n",
      "  1.07836809 0.28878992 0.63768149 0.73781604 0.99406055 0.77565775\n",
      "  0.76256947 0.63901194 0.16218507 0.84226318 0.4763836  1.0862674\n",
      "  0.65707793 0.52555436 1.12824327 1.08618617 0.58248966 1.01748239\n",
      "  0.40190103 0.40710232 1.09832958 0.92144989 0.90770541 0.51917652\n",
      "  0.94347588 0.26005433 0.         0.69859808]\n",
      " [0.58101268 0.738404   0.37679275 0.16168023 0.42000573 0.36438526\n",
      "  0.59965513 0.62888151 0.49188185 0.36944799 0.4631134  0.26357357\n",
      "  0.37643261 0.2817987  0.28407057 0.12575891 0.27981991 0.35516555\n",
      "  0.3947826  0.37170232 0.6937701  0.4502601  0.394247   0.38571493\n",
      "  0.24191575 0.26066291 0.58293802 0.4410364  0.41424875 0.09264443\n",
      "  0.69381485 0.28982232 0.17969773 0.12348214 0.14727506 0.11571369\n",
      "  0.55135954 0.47465363 0.55771047 0.17731448 0.37221684 0.20727538\n",
      "  0.45435142 0.36539886 0.43289703 0.44797553 0.66082172 0.41263718\n",
      "  0.4000284  0.28932019 0.35983667 0.43213541 0.33120707 0.31997161\n",
      "  0.43084802 0.47371429 0.51352991 0.4120668  0.7370678  0.30996821\n",
      "  0.67190634 0.54970017 0.3614494  0.12314704 0.40126025 0.30721069\n",
      "  0.37911765 0.48830346 0.31234057 0.33391153 0.21931574 0.47783285\n",
      "  0.43016844 0.41435703 0.46335165 0.25610947 0.47229085 0.53068398\n",
      "  0.10502817 0.14186842 0.67176505 0.14632798 0.36733945 0.40267956\n",
      "  0.56485135 0.43208559 0.44577241 0.43516512 0.60659853 0.47084756\n",
      "  0.55398972 0.3466389  0.42328288 0.42503233 0.27156405 0.58135656\n",
      "  0.6855382  0.53564647 0.69859808 0.        ]]\n"
     ]
    }
   ],
   "source": [
    "arr=np.random.random((100,2))\n",
    "x=arr[:,0].reshape(1,100)\n",
    "y=arr[:,1].reshape(1,100)\n",
    "arr2=np.sqrt((x-x.T)**2+(y-y.T)**2)\n",
    "print(arr2)"
   ]
  },
  {
   "cell_type": "code",
   "execution_count": 57,
   "id": "875babdc-f337-423c-a61a-a7a942a95ca1",
   "metadata": {},
   "outputs": [
    {
     "name": "stdout",
     "output_type": "stream",
     "text": [
      "Z = np.random.random((10,2))\n",
      "X,Y = np.atleast_2d(Z[:,0], Z[:,1])\n",
      "D = np.sqrt( (X-X.T)**2 + (Y-Y.T)**2)\n",
      "print(D)\n",
      "\n",
      "# Much faster with scipy\n",
      "import scipy\n",
      "# Thanks Gavin Heverly-Coulson (#issue 1)\n",
      "import scipy.spatial\n",
      "\n",
      "Z = np.random.random((10,2))\n",
      "D = scipy.spatial.distance.cdist(Z,Z)\n",
      "print(D)\n"
     ]
    }
   ],
   "source": [
    "answer(52)"
   ]
  },
  {
   "cell_type": "markdown",
   "id": "343c5a85",
   "metadata": {},
   "source": [
    "#### 53. How to convert a float (32 bits) array into an integer (32 bits) in place?"
   ]
  },
  {
   "cell_type": "code",
   "execution_count": 65,
   "id": "fc1b687b",
   "metadata": {},
   "outputs": [
    {
     "name": "stdout",
     "output_type": "stream",
     "text": [
      "[[0.1950612  0.15539007 0.94674546 0.43643558 0.03664499 0.72296923\n",
      "  0.9753473  0.19688678 0.7157898  0.00118589]\n",
      " [0.22596937 0.63832164 0.03283332 0.57811767 0.01521389 0.80709004\n",
      "  0.766971   0.6530469  0.53654486 0.07301008]\n",
      " [0.9801039  0.19451064 0.7993302  0.4690622  0.97076434 0.63870084\n",
      "  0.6930002  0.03430749 0.7306453  0.72873676]\n",
      " [0.05587023 0.5080846  0.55845445 0.82253516 0.7870052  0.79990834\n",
      "  0.34820038 0.95021266 0.06971969 0.84671694]\n",
      " [0.43380415 0.45401353 0.24723779 0.04689299 0.00516266 0.47154927\n",
      "  0.81270033 0.38234165 0.22907759 0.6616743 ]\n",
      " [0.8818105  0.67584336 0.17991969 0.36709037 0.99506354 0.7026363\n",
      "  0.07403968 0.45047092 0.06196657 0.5034707 ]\n",
      " [0.6652324  0.16494933 0.06856582 0.46186805 0.44380167 0.18331113\n",
      "  0.2175193  0.47463498 0.46008265 0.90078366]\n",
      " [0.76078933 0.8962618  0.47590324 0.60162336 0.51770616 0.9157164\n",
      "  0.17192957 0.35306498 0.30810028 0.15062341]\n",
      " [0.0591062  0.7852363  0.6427345  0.8081179  0.28453156 0.4435344\n",
      "  0.9800133  0.8135272  0.10157998 0.06559177]\n",
      " [0.83136624 0.37475997 0.54121155 0.5096339  0.5745982  0.42424965\n",
      "  0.64587545 0.5131329  0.197599   0.4605176 ]]\n",
      "[[0 0 0 0 0 0 0 0 0 0]\n",
      " [0 0 0 0 0 0 0 0 0 0]\n",
      " [0 0 0 0 0 0 0 0 0 0]\n",
      " [0 0 0 0 0 0 0 0 0 0]\n",
      " [0 0 0 0 0 0 0 0 0 0]\n",
      " [0 0 0 0 0 0 0 0 0 0]\n",
      " [0 0 0 0 0 0 0 0 0 0]\n",
      " [0 0 0 0 0 0 0 0 0 0]\n",
      " [0 0 0 0 0 0 0 0 0 0]\n",
      " [0 0 0 0 0 0 0 0 0 0]]\n"
     ]
    }
   ],
   "source": [
    "arr=np.random.random((10,10)).astype(np.float32)\n",
    "print(arr)\n",
    "print(arr.astype(np.int32))"
   ]
  },
  {
   "cell_type": "code",
   "execution_count": 64,
   "id": "b45d38d3-2092-4e1d-b1d3-c5a93a69bb06",
   "metadata": {},
   "outputs": [
    {
     "name": "stdout",
     "output_type": "stream",
     "text": [
      "# Thanks Vikas (https://stackoverflow.com/a/10622758/5989906)\n",
      "# & unutbu (https://stackoverflow.com/a/4396247/5989906)\n",
      "Z = (np.random.rand(10)*100).astype(np.float32)\n",
      "Y = Z.view(np.int32)\n",
      "Y[:] = Z\n",
      "print(Y)\n"
     ]
    }
   ],
   "source": [
    "answer(53)"
   ]
  },
  {
   "cell_type": "markdown",
   "id": "a69e1ace",
   "metadata": {},
   "source": [
    "#### 54. How to read the following file? (★★☆)\n",
    "```\n",
    "1, 2, 3, 4, 5\n",
    "6,  ,  , 7, 8\n",
    " ,  , 9,10,11\n",
    "```"
   ]
  },
  {
   "cell_type": "code",
   "execution_count": 66,
   "id": "1c7957d4",
   "metadata": {},
   "outputs": [
    {
     "name": "stdout",
     "output_type": "stream",
     "text": [
      "from io import StringIO\n",
      "\n",
      "# Fake file\n",
      "s = StringIO('''1, 2, 3, 4, 5\n",
      "\n",
      "                6,  ,  , 7, 8\n",
      "\n",
      "                 ,  , 9,10,11\n",
      "''')\n",
      "Z = np.genfromtxt(s, delimiter=\",\", dtype=np.int)\n",
      "print(Z)\n"
     ]
    }
   ],
   "source": [
    "answer(54)"
   ]
  },
  {
   "cell_type": "code",
   "execution_count": 69,
   "id": "7edbe84f-6545-4065-b881-8b58cecf252b",
   "metadata": {},
   "outputs": [
    {
     "name": "stdout",
     "output_type": "stream",
     "text": [
      "[ 1  2  3  4  5  6 -1 -1  7  8 -1  9 10 11]\n"
     ]
    }
   ],
   "source": [
    "from io import StringIO\n",
    "s=StringIO('''1,2,3,4,5,6, , ,7,8, ,9,10,11''')\n",
    "arr=np.genfromtxt(s, delimiter=\",\", dtype=np.int32)\n",
    "print(arr)"
   ]
  },
  {
   "cell_type": "markdown",
   "id": "c23bd80d",
   "metadata": {},
   "source": [
    "#### 55. What is the equivalent of enumerate for numpy arrays? (★★☆)"
   ]
  },
  {
   "cell_type": "code",
   "execution_count": 71,
   "id": "d95d9578",
   "metadata": {},
   "outputs": [
    {
     "name": "stdout",
     "output_type": "stream",
     "text": [
      "Z = np.arange(9).reshape(3,3)\n",
      "for index, value in np.ndenumerate(Z):\n",
      "    print(index, value)\n",
      "for index in np.ndindex(Z.shape):\n",
      "    print(index, Z[index])\n"
     ]
    }
   ],
   "source": [
    "answer(55)"
   ]
  },
  {
   "cell_type": "markdown",
   "id": "2153a5ec",
   "metadata": {},
   "source": [
    "#### 56. Generate a generic 2D Gaussian-like array (★★☆)"
   ]
  },
  {
   "cell_type": "code",
   "execution_count": 72,
   "id": "61122d1e",
   "metadata": {},
   "outputs": [
    {
     "name": "stdout",
     "output_type": "stream",
     "text": [
      "X, Y = np.meshgrid(np.linspace(-1,1,10), np.linspace(-1,1,10))\n",
      "D = np.sqrt(X*X+Y*Y)\n",
      "sigma, mu = 1.0, 0.0\n",
      "G = np.exp(-( (D-mu)**2 / ( 2.0 * sigma**2 ) ) )\n",
      "print(G)\n"
     ]
    }
   ],
   "source": [
    "answer(56)"
   ]
  },
  {
   "cell_type": "markdown",
   "id": "2e76d589",
   "metadata": {},
   "source": [
    "#### 57. How to randomly place p elements in a 2D array? (★★☆)"
   ]
  },
  {
   "cell_type": "code",
   "execution_count": 73,
   "id": "0c2e4fcc",
   "metadata": {},
   "outputs": [
    {
     "name": "stdout",
     "output_type": "stream",
     "text": [
      "# Author: Divakar\n",
      "\n",
      "n = 10\n",
      "p = 3\n",
      "Z = np.zeros((n,n))\n",
      "np.put(Z, np.random.choice(range(n*n), p, replace=False),1)\n",
      "print(Z)\n"
     ]
    }
   ],
   "source": [
    "answer(57)"
   ]
  },
  {
   "cell_type": "markdown",
   "id": "8b3933eb",
   "metadata": {},
   "source": [
    "#### 58. Subtract the mean of each row of a matrix (★★☆)"
   ]
  },
  {
   "cell_type": "code",
   "execution_count": 75,
   "id": "a306c9ef",
   "metadata": {},
   "outputs": [
    {
     "name": "stdout",
     "output_type": "stream",
     "text": [
      "# Author: Warren Weckesser\n",
      "\n",
      "X = np.random.rand(5, 10)\n",
      "\n",
      "# Recent versions of numpy\n",
      "Y = X - X.mean(axis=1, keepdims=True)\n",
      "\n",
      "# Older versions of numpy\n",
      "Y = X - X.mean(axis=1).reshape(-1, 1)\n",
      "\n",
      "print(Y)\n"
     ]
    }
   ],
   "source": [
    "answer(58)"
   ]
  },
  {
   "cell_type": "markdown",
   "id": "ea8807c0",
   "metadata": {},
   "source": [
    "#### 59. How to sort an array by the nth column? (★★☆)"
   ]
  },
  {
   "cell_type": "code",
   "execution_count": 76,
   "id": "cc89a699",
   "metadata": {},
   "outputs": [
    {
     "name": "stdout",
     "output_type": "stream",
     "text": [
      "# Author: Steve Tjoa\n",
      "\n",
      "Z = np.random.randint(0,10,(3,3))\n",
      "print(Z)\n",
      "print(Z[Z[:,1].argsort()])\n"
     ]
    }
   ],
   "source": [
    "answer(59)"
   ]
  },
  {
   "cell_type": "markdown",
   "id": "00fa00a1",
   "metadata": {},
   "source": [
    "#### 60. How to tell if a given 2D array has null columns? (★★☆)"
   ]
  },
  {
   "cell_type": "code",
   "execution_count": 77,
   "id": "3436e165",
   "metadata": {},
   "outputs": [
    {
     "name": "stdout",
     "output_type": "stream",
     "text": [
      "# Author: Warren Weckesser\n",
      "\n",
      "# null : 0 \n",
      "Z = np.random.randint(0,3,(3,10))\n",
      "print((~Z.any(axis=0)).any())\n",
      "\n",
      "# null : np.nan\n",
      "Z=np.array([\n",
      "    [0,1,np.nan],\n",
      "    [1,2,np.nan],\n",
      "    [4,5,np.nan]\n",
      "])\n",
      "print(np.isnan(Z).all(axis=0))\n"
     ]
    }
   ],
   "source": [
    "answer(60)"
   ]
  },
  {
   "cell_type": "markdown",
   "id": "5a65c7a2",
   "metadata": {},
   "source": [
    "#### 61. Find the nearest value from a given value in an array (★★☆)"
   ]
  },
  {
   "cell_type": "code",
   "execution_count": 78,
   "id": "73f149d6",
   "metadata": {},
   "outputs": [
    {
     "name": "stdout",
     "output_type": "stream",
     "text": [
      "Z = np.random.uniform(0,1,10)\n",
      "z = 0.5\n",
      "m = Z.flat[np.abs(Z - z).argmin()]\n",
      "print(m)\n"
     ]
    }
   ],
   "source": [
    "answer(61)"
   ]
  },
  {
   "cell_type": "markdown",
   "id": "dd83e8af",
   "metadata": {},
   "source": [
    "#### 62. Considering two arrays with shape (1,3) and (3,1), how to compute their sum using an iterator? (★★☆)"
   ]
  },
  {
   "cell_type": "code",
   "execution_count": 79,
   "id": "29a709a1",
   "metadata": {},
   "outputs": [
    {
     "name": "stdout",
     "output_type": "stream",
     "text": [
      "A = np.arange(3).reshape(3,1)\n",
      "B = np.arange(3).reshape(1,3)\n",
      "it = np.nditer([A,B,None])\n",
      "for x,y,z in it: z[...] = x + y\n",
      "print(it.operands[2])\n"
     ]
    }
   ],
   "source": [
    "answer(62)"
   ]
  },
  {
   "cell_type": "markdown",
   "id": "6c042efa",
   "metadata": {},
   "source": [
    "#### 63. Create an array class that has a name attribute (★★☆)"
   ]
  },
  {
   "cell_type": "code",
   "execution_count": 80,
   "id": "45b3d2e0",
   "metadata": {},
   "outputs": [
    {
     "name": "stdout",
     "output_type": "stream",
     "text": [
      "class NamedArray(np.ndarray):\n",
      "    def __new__(cls, array, name=\"no name\"):\n",
      "        obj = np.asarray(array).view(cls)\n",
      "        obj.name = name\n",
      "        return obj\n",
      "    def __array_finalize__(self, obj):\n",
      "        if obj is None: return\n",
      "        self.name = getattr(obj, 'name', \"no name\")\n",
      "\n",
      "Z = NamedArray(np.arange(10), \"range_10\")\n",
      "print (Z.name)\n"
     ]
    }
   ],
   "source": [
    "answer(63)"
   ]
  },
  {
   "cell_type": "markdown",
   "id": "0a075c3d",
   "metadata": {},
   "source": [
    "#### 64. Consider a given vector, how to add 1 to each element indexed by a second vector (be careful with repeated indices)? (★★★)"
   ]
  },
  {
   "cell_type": "code",
   "execution_count": 81,
   "id": "36c50470",
   "metadata": {},
   "outputs": [
    {
     "name": "stdout",
     "output_type": "stream",
     "text": [
      "# Author: Brett Olsen\n",
      "\n",
      "Z = np.ones(10)\n",
      "I = np.random.randint(0,len(Z),20)\n",
      "Z += np.bincount(I, minlength=len(Z))\n",
      "print(Z)\n",
      "\n",
      "# Another solution\n",
      "# Author: Bartosz Telenczuk\n",
      "np.add.at(Z, I, 1)\n",
      "print(Z)\n"
     ]
    }
   ],
   "source": [
    "answer(64)"
   ]
  },
  {
   "cell_type": "markdown",
   "id": "0fb2f0c5",
   "metadata": {},
   "source": [
    "#### 65. How to accumulate elements of a vector (X) to an array (F) based on an index list (I)? (★★★)"
   ]
  },
  {
   "cell_type": "code",
   "execution_count": 82,
   "id": "58aa5f82",
   "metadata": {},
   "outputs": [
    {
     "name": "stdout",
     "output_type": "stream",
     "text": [
      "# Author: Alan G Isaac\n",
      "\n",
      "X = [1,2,3,4,5,6]\n",
      "I = [1,3,9,3,4,1]\n",
      "F = np.bincount(I,X)\n",
      "print(F)\n"
     ]
    }
   ],
   "source": [
    "answer(65)"
   ]
  },
  {
   "cell_type": "markdown",
   "id": "d89dc506",
   "metadata": {},
   "source": [
    "#### 66. Considering a (w,h,3) image of (dtype=ubyte), compute the number of unique colors (★★☆)"
   ]
  },
  {
   "cell_type": "code",
   "execution_count": 83,
   "id": "8fb43a49",
   "metadata": {},
   "outputs": [
    {
     "name": "stdout",
     "output_type": "stream",
     "text": [
      "# Author: Fisher Wang\n",
      "\n",
      "w, h = 256, 256\n",
      "I = np.random.randint(0, 4, (h, w, 3)).astype(np.ubyte)\n",
      "colors = np.unique(I.reshape(-1, 3), axis=0)\n",
      "n = len(colors)\n",
      "print(n)\n",
      "\n",
      "# Faster version\n",
      "# Author: Mark Setchell\n",
      "# https://stackoverflow.com/a/59671950/2836621\n",
      "\n",
      "w, h = 256, 256\n",
      "I = np.random.randint(0,4,(h,w,3), dtype=np.uint8)\n",
      "\n",
      "# View each pixel as a single 24-bit integer, rather than three 8-bit bytes\n",
      "I24 = np.dot(I.astype(np.uint32),[1,256,65536])\n",
      "\n",
      "# Count unique colours\n",
      "n = len(np.unique(I24))\n",
      "print(n)\n"
     ]
    }
   ],
   "source": [
    "answer(66)"
   ]
  },
  {
   "cell_type": "markdown",
   "id": "535a5d81",
   "metadata": {},
   "source": [
    "#### 67. Considering a four dimensions array, how to get sum over the last two axis at once? (★★★)"
   ]
  },
  {
   "cell_type": "code",
   "execution_count": 84,
   "id": "f954ab9d",
   "metadata": {},
   "outputs": [
    {
     "name": "stdout",
     "output_type": "stream",
     "text": [
      "A = np.random.randint(0,10,(3,4,3,4))\n",
      "# solution by passing a tuple of axes (introduced in numpy 1.7.0)\n",
      "sum = A.sum(axis=(-2,-1))\n",
      "print(sum)\n",
      "# solution by flattening the last two dimensions into one\n",
      "# (useful for functions that don't accept tuples for axis argument)\n",
      "sum = A.reshape(A.shape[:-2] + (-1,)).sum(axis=-1)\n",
      "print(sum)\n"
     ]
    }
   ],
   "source": [
    "answer(67)"
   ]
  },
  {
   "cell_type": "markdown",
   "id": "eee66d3c",
   "metadata": {},
   "source": [
    "#### 68. Considering a one-dimensional vector D, how to compute means of subsets of D using a vector S of same size describing subset  indices? (★★★)"
   ]
  },
  {
   "cell_type": "code",
   "execution_count": 85,
   "id": "8929773a",
   "metadata": {},
   "outputs": [
    {
     "name": "stdout",
     "output_type": "stream",
     "text": [
      "# Author: Jaime Fernández del Río\n",
      "\n",
      "D = np.random.uniform(0,1,100)\n",
      "S = np.random.randint(0,10,100)\n",
      "D_sums = np.bincount(S, weights=D)\n",
      "D_counts = np.bincount(S)\n",
      "D_means = D_sums / D_counts\n",
      "print(D_means)\n",
      "\n",
      "# Pandas solution as a reference due to more intuitive code\n",
      "import pandas as pd\n",
      "print(pd.Series(D).groupby(S).mean())\n"
     ]
    }
   ],
   "source": [
    "answer(68)"
   ]
  },
  {
   "cell_type": "markdown",
   "id": "f90d4c40",
   "metadata": {},
   "source": [
    "#### 69. How to get the diagonal of a dot product? (★★★)"
   ]
  },
  {
   "cell_type": "code",
   "execution_count": 86,
   "id": "b47d392d",
   "metadata": {},
   "outputs": [
    {
     "name": "stdout",
     "output_type": "stream",
     "text": [
      "# Author: Mathieu Blondel\n",
      "\n",
      "A = np.random.uniform(0,1,(5,5))\n",
      "B = np.random.uniform(0,1,(5,5))\n",
      "\n",
      "# Slow version\n",
      "np.diag(np.dot(A, B))\n",
      "\n",
      "# Fast version\n",
      "np.sum(A * B.T, axis=1)\n",
      "\n",
      "# Faster version\n",
      "np.einsum(\"ij,ji->i\", A, B)\n"
     ]
    }
   ],
   "source": [
    "answer(69)"
   ]
  },
  {
   "cell_type": "markdown",
   "id": "a8a97e7d",
   "metadata": {},
   "source": [
    "#### 70. Consider the vector [1, 2, 3, 4, 5], how to build a new vector with 3 consecutive zeros interleaved between each value? (★★★)"
   ]
  },
  {
   "cell_type": "code",
   "execution_count": 87,
   "id": "ee6c6c37",
   "metadata": {},
   "outputs": [
    {
     "name": "stdout",
     "output_type": "stream",
     "text": [
      "# Author: Warren Weckesser\n",
      "\n",
      "Z = np.array([1,2,3,4,5])\n",
      "nz = 3\n",
      "Z0 = np.zeros(len(Z) + (len(Z)-1)*(nz))\n",
      "Z0[::nz+1] = Z\n",
      "print(Z0)\n"
     ]
    }
   ],
   "source": [
    "answer(70)"
   ]
  },
  {
   "cell_type": "markdown",
   "id": "d6a30d60",
   "metadata": {},
   "source": [
    "#### 71. Consider an array of dimension (5,5,3), how to mulitply it by an array with dimensions (5,5)? (★★★)"
   ]
  },
  {
   "cell_type": "code",
   "execution_count": 88,
   "id": "e9703f2e",
   "metadata": {},
   "outputs": [
    {
     "name": "stdout",
     "output_type": "stream",
     "text": [
      "A = np.ones((5,5,3))\n",
      "B = 2*np.ones((5,5))\n",
      "print(A * B[:,:,None])\n"
     ]
    }
   ],
   "source": [
    "answer(71)"
   ]
  },
  {
   "cell_type": "markdown",
   "id": "bac359a9",
   "metadata": {},
   "source": [
    "#### 72. How to swap two rows of an array? (★★★)"
   ]
  },
  {
   "cell_type": "code",
   "execution_count": 89,
   "id": "f1b432b1",
   "metadata": {},
   "outputs": [
    {
     "name": "stdout",
     "output_type": "stream",
     "text": [
      "# Author: Eelco Hoogendoorn\n",
      "\n",
      "A = np.arange(25).reshape(5,5)\n",
      "A[[0,1]] = A[[1,0]]\n",
      "print(A)\n"
     ]
    }
   ],
   "source": [
    "answer(72)"
   ]
  },
  {
   "cell_type": "markdown",
   "id": "620c9f83",
   "metadata": {},
   "source": [
    "#### 73. Consider a set of 10 triplets describing 10 triangles (with shared vertices), find the set of unique line segments composing all the  triangles (★★★)"
   ]
  },
  {
   "cell_type": "code",
   "execution_count": 90,
   "id": "4e595ffc",
   "metadata": {},
   "outputs": [
    {
     "name": "stdout",
     "output_type": "stream",
     "text": [
      "# Author: Nicolas P. Rougier\n",
      "\n",
      "faces = np.random.randint(0,100,(10,3))\n",
      "F = np.roll(faces.repeat(2,axis=1),-1,axis=1)\n",
      "F = F.reshape(len(F)*3,2)\n",
      "F = np.sort(F,axis=1)\n",
      "G = F.view( dtype=[('p0',F.dtype),('p1',F.dtype)] )\n",
      "G = np.unique(G)\n",
      "print(G)\n"
     ]
    }
   ],
   "source": [
    "answer(73)"
   ]
  },
  {
   "cell_type": "markdown",
   "id": "a76c55a2",
   "metadata": {},
   "source": [
    "#### 74. Given a sorted array C that corresponds to a bincount, how to produce an array A such that np.bincount(A) == C? (★★★)"
   ]
  },
  {
   "cell_type": "code",
   "execution_count": 91,
   "id": "2d2ae65a",
   "metadata": {},
   "outputs": [
    {
     "name": "stdout",
     "output_type": "stream",
     "text": [
      "# Author: Jaime Fernández del Río\n",
      "\n",
      "C = np.bincount([1,1,2,3,4,4,6])\n",
      "A = np.repeat(np.arange(len(C)), C)\n",
      "print(A)\n"
     ]
    }
   ],
   "source": [
    "answer(74)"
   ]
  },
  {
   "cell_type": "markdown",
   "id": "d550c8e2",
   "metadata": {},
   "source": [
    "#### 75. How to compute averages using a sliding window over an array? (★★★)"
   ]
  },
  {
   "cell_type": "code",
   "execution_count": 92,
   "id": "841c457c",
   "metadata": {},
   "outputs": [
    {
     "name": "stdout",
     "output_type": "stream",
     "text": [
      "# Author: Jaime Fernández del Río\n",
      "\n",
      "def moving_average(a, n=3) :\n",
      "    ret = np.cumsum(a, dtype=float)\n",
      "    ret[n:] = ret[n:] - ret[:-n]\n",
      "    return ret[n - 1:] / n\n",
      "Z = np.arange(20)\n",
      "print(moving_average(Z, n=3))\n",
      "\n",
      "# Author: Jeff Luo (@Jeff1999)\n",
      "# make sure your NumPy >= 1.20.0\n",
      "\n",
      "from numpy.lib.stride_tricks import sliding_window_view\n",
      "\n",
      "Z = np.arange(20)\n",
      "print(sliding_window_view(Z, window_shape=3).mean(axis=-1))\n"
     ]
    }
   ],
   "source": [
    "answer(75)"
   ]
  },
  {
   "cell_type": "markdown",
   "id": "6b170b00",
   "metadata": {},
   "source": [
    "#### 76. Consider a one-dimensional array Z, build a two-dimensional array whose first row is (Z[0],Z[1],Z[2]) and each subsequent row is  shifted by 1 (last row should be (Z[-3],Z[-2],Z[-1]) (★★★)"
   ]
  },
  {
   "cell_type": "code",
   "execution_count": 93,
   "id": "d9a0cf4e",
   "metadata": {},
   "outputs": [
    {
     "name": "stdout",
     "output_type": "stream",
     "text": [
      "# Author: Joe Kington / Erik Rigtorp\n",
      "from numpy.lib import stride_tricks\n",
      "\n",
      "def rolling(a, window):\n",
      "    shape = (a.size - window + 1, window)\n",
      "    strides = (a.strides[0], a.strides[0])\n",
      "    return stride_tricks.as_strided(a, shape=shape, strides=strides)\n",
      "Z = rolling(np.arange(10), 3)\n",
      "print(Z)\n",
      "\n",
      "# Author: Jeff Luo (@Jeff1999)\n",
      "\n",
      "Z = np.arange(10)\n",
      "print(sliding_window_view(Z, window_shape=3))\n"
     ]
    }
   ],
   "source": [
    "answer(76)"
   ]
  },
  {
   "cell_type": "markdown",
   "id": "e94a5c1d",
   "metadata": {},
   "source": [
    "#### 77. How to negate a boolean, or to change the sign of a float inplace? (★★★)"
   ]
  },
  {
   "cell_type": "code",
   "execution_count": 94,
   "id": "c0f9504f",
   "metadata": {},
   "outputs": [
    {
     "name": "stdout",
     "output_type": "stream",
     "text": [
      "# Author: Nathaniel J. Smith\n",
      "\n",
      "Z = np.random.randint(0,2,100)\n",
      "np.logical_not(Z, out=Z)\n",
      "\n",
      "Z = np.random.uniform(-1.0,1.0,100)\n",
      "np.negative(Z, out=Z)\n"
     ]
    }
   ],
   "source": [
    "answer(77)"
   ]
  },
  {
   "cell_type": "markdown",
   "id": "4eb8b5c1",
   "metadata": {},
   "source": [
    "#### 78. Consider 2 sets of points P0,P1 describing lines (2d) and a point p, how to compute distance from p to each line i (P0[i],P1[i])? (★★★)"
   ]
  },
  {
   "cell_type": "code",
   "execution_count": 95,
   "id": "487f47ec",
   "metadata": {},
   "outputs": [
    {
     "name": "stdout",
     "output_type": "stream",
     "text": [
      "def distance(P0, P1, p):\n",
      "    T = P1 - P0\n",
      "    L = (T**2).sum(axis=1)\n",
      "    U = -((P0[:,0]-p[...,0])*T[:,0] + (P0[:,1]-p[...,1])*T[:,1]) / L\n",
      "    U = U.reshape(len(U),1)\n",
      "    D = P0 + U*T - p\n",
      "    return np.sqrt((D**2).sum(axis=1))\n",
      "\n",
      "P0 = np.random.uniform(-10,10,(10,2))\n",
      "P1 = np.random.uniform(-10,10,(10,2))\n",
      "p  = np.random.uniform(-10,10,( 1,2))\n",
      "print(distance(P0, P1, p))\n"
     ]
    }
   ],
   "source": [
    "answer(78)"
   ]
  },
  {
   "cell_type": "markdown",
   "id": "3df99948",
   "metadata": {},
   "source": [
    "#### 79. Consider 2 sets of points P0,P1 describing lines (2d) and a set of points P, how to compute distance from each point j (P[j]) to each line i (P0[i],P1[i])? (★★★)"
   ]
  },
  {
   "cell_type": "code",
   "execution_count": 96,
   "id": "dc2df37b",
   "metadata": {},
   "outputs": [
    {
     "name": "stdout",
     "output_type": "stream",
     "text": [
      "# Author: Italmassov Kuanysh\n",
      "\n",
      "# based on distance function from previous question\n",
      "P0 = np.random.uniform(-10, 10, (10,2))\n",
      "P1 = np.random.uniform(-10,10,(10,2))\n",
      "p = np.random.uniform(-10, 10, (10,2))\n",
      "print(np.array([distance(P0,P1,p_i) for p_i in p]))\n"
     ]
    }
   ],
   "source": [
    "answer(79)"
   ]
  },
  {
   "cell_type": "markdown",
   "id": "11e972c2",
   "metadata": {},
   "source": [
    "#### 80. Consider an arbitrary array, write a function that extract a subpart with a fixed shape and centered on a given element (pad with a `fill` value when necessary) (★★★)"
   ]
  },
  {
   "cell_type": "code",
   "execution_count": 97,
   "id": "0291247f",
   "metadata": {},
   "outputs": [
    {
     "name": "stdout",
     "output_type": "stream",
     "text": [
      "# Author: Nicolas Rougier\n",
      "\n",
      "Z = np.random.randint(0,10,(10,10))\n",
      "shape = (5,5)\n",
      "fill  = 0\n",
      "position = (1,1)\n",
      "\n",
      "R = np.ones(shape, dtype=Z.dtype)*fill\n",
      "P  = np.array(list(position)).astype(int)\n",
      "Rs = np.array(list(R.shape)).astype(int)\n",
      "Zs = np.array(list(Z.shape)).astype(int)\n",
      "\n",
      "R_start = np.zeros((len(shape),)).astype(int)\n",
      "R_stop  = np.array(list(shape)).astype(int)\n",
      "Z_start = (P-Rs//2)\n",
      "Z_stop  = (P+Rs//2)+Rs%2\n",
      "\n",
      "R_start = (R_start - np.minimum(Z_start,0)).tolist()\n",
      "Z_start = (np.maximum(Z_start,0)).tolist()\n",
      "R_stop = np.maximum(R_start, (R_stop - np.maximum(Z_stop-Zs,0))).tolist()\n",
      "Z_stop = (np.minimum(Z_stop,Zs)).tolist()\n",
      "\n",
      "r = [slice(start,stop) for start,stop in zip(R_start,R_stop)]\n",
      "z = [slice(start,stop) for start,stop in zip(Z_start,Z_stop)]\n",
      "R[r] = Z[z]\n",
      "print(Z)\n",
      "print(R)\n"
     ]
    }
   ],
   "source": [
    "answer(80)"
   ]
  },
  {
   "cell_type": "markdown",
   "id": "93cfeab3",
   "metadata": {},
   "source": [
    "#### 81. Consider an array Z = [1,2,3,4,5,6,7,8,9,10,11,12,13,14], how to generate an array R = [[1,2,3,4], [2,3,4,5], [3,4,5,6], ..., [11,12,13,14]]? (★★★)"
   ]
  },
  {
   "cell_type": "code",
   "execution_count": 98,
   "id": "360de791",
   "metadata": {},
   "outputs": [
    {
     "name": "stdout",
     "output_type": "stream",
     "text": [
      "# Author: Stefan van der Walt\n",
      "\n",
      "Z = np.arange(1,15,dtype=np.uint32)\n",
      "R = stride_tricks.as_strided(Z,(11,4),(4,4))\n",
      "print(R)\n",
      "\n",
      "# Author: Jeff Luo (@Jeff1999)\n",
      "\n",
      "Z = np.arange(1, 15, dtype=np.uint32)\n",
      "print(sliding_window_view(Z, window_shape=4))\n"
     ]
    }
   ],
   "source": [
    "answer(81)"
   ]
  },
  {
   "cell_type": "markdown",
   "id": "4c15ceff",
   "metadata": {},
   "source": [
    "#### 82. Compute a matrix rank (★★★)"
   ]
  },
  {
   "cell_type": "code",
   "execution_count": 99,
   "id": "9a4272d2",
   "metadata": {},
   "outputs": [
    {
     "name": "stdout",
     "output_type": "stream",
     "text": [
      "# Author: Stefan van der Walt\n",
      "\n",
      "Z = np.random.uniform(0,1,(10,10))\n",
      "U, S, V = np.linalg.svd(Z) # Singular Value Decomposition\n",
      "rank = np.sum(S > 1e-10)\n",
      "print(rank)\n",
      "\n",
      "# alternative solution:\n",
      "# Author: Jeff Luo (@Jeff1999)\n",
      "\n",
      "rank = np.linalg.matrix_rank(Z)\n",
      "print(rank)\n"
     ]
    }
   ],
   "source": [
    "answer(82)"
   ]
  },
  {
   "cell_type": "markdown",
   "id": "1171cb84",
   "metadata": {},
   "source": [
    "#### 83. How to find the most frequent value in an array?"
   ]
  },
  {
   "cell_type": "code",
   "execution_count": 100,
   "id": "33e951c8",
   "metadata": {},
   "outputs": [
    {
     "name": "stdout",
     "output_type": "stream",
     "text": [
      "Z = np.random.randint(0,10,50)\n",
      "print(np.bincount(Z).argmax())\n"
     ]
    }
   ],
   "source": [
    "answer(83)"
   ]
  },
  {
   "cell_type": "markdown",
   "id": "04f472aa",
   "metadata": {},
   "source": [
    "#### 84. Extract all the contiguous 3x3 blocks from a random 10x10 matrix (★★★)"
   ]
  },
  {
   "cell_type": "code",
   "execution_count": 101,
   "id": "7aade14a",
   "metadata": {},
   "outputs": [
    {
     "name": "stdout",
     "output_type": "stream",
     "text": [
      "# Author: Chris Barker\n",
      "\n",
      "Z = np.random.randint(0,5,(10,10))\n",
      "n = 3\n",
      "i = 1 + (Z.shape[0]-3)\n",
      "j = 1 + (Z.shape[1]-3)\n",
      "C = stride_tricks.as_strided(Z, shape=(i, j, n, n), strides=Z.strides + Z.strides)\n",
      "print(C)\n",
      "\n",
      "# Author: Jeff Luo (@Jeff1999)\n",
      "\n",
      "Z = np.random.randint(0,5,(10,10))\n",
      "print(sliding_window_view(Z, window_shape=(3, 3)))\n"
     ]
    }
   ],
   "source": [
    "answer(84)"
   ]
  },
  {
   "cell_type": "markdown",
   "id": "52836346",
   "metadata": {},
   "source": [
    "#### 85. Create a 2D array subclass such that Z[i,j] == Z[j,i] (★★★)"
   ]
  },
  {
   "cell_type": "code",
   "execution_count": 102,
   "id": "4df70318",
   "metadata": {},
   "outputs": [
    {
     "name": "stdout",
     "output_type": "stream",
     "text": [
      "# Author: Eric O. Lebigot\n",
      "# Note: only works for 2d array and value setting using indices\n",
      "\n",
      "class Symetric(np.ndarray):\n",
      "    def __setitem__(self, index, value):\n",
      "        i,j = index\n",
      "        super(Symetric, self).__setitem__((i,j), value)\n",
      "        super(Symetric, self).__setitem__((j,i), value)\n",
      "\n",
      "def symetric(Z):\n",
      "    return np.asarray(Z + Z.T - np.diag(Z.diagonal())).view(Symetric)\n",
      "\n",
      "S = symetric(np.random.randint(0,10,(5,5)))\n",
      "S[2,3] = 42\n",
      "print(S)\n"
     ]
    }
   ],
   "source": [
    "answer(85)"
   ]
  },
  {
   "cell_type": "markdown",
   "id": "78c43ee5",
   "metadata": {},
   "source": [
    "#### 86. Consider a set of p matrices with shape (n,n) and a set of p vectors with shape (n,1). How to compute the sum of of the p matrix products at once? (result has shape (n,1)) (★★★)"
   ]
  },
  {
   "cell_type": "code",
   "execution_count": 103,
   "id": "32fd2c3b",
   "metadata": {},
   "outputs": [
    {
     "name": "stdout",
     "output_type": "stream",
     "text": [
      "# Author: Stefan van der Walt\n",
      "\n",
      "p, n = 10, 20\n",
      "M = np.ones((p,n,n))\n",
      "V = np.ones((p,n,1))\n",
      "S = np.tensordot(M, V, axes=[[0, 2], [0, 1]])\n",
      "print(S)\n",
      "\n",
      "# It works, because:\n",
      "# M is (p,n,n)\n",
      "# V is (p,n,1)\n",
      "# Thus, summing over the paired axes 0 and 0 (of M and V independently),\n",
      "# and 2 and 1, to remain with a (n,1) vector.\n"
     ]
    }
   ],
   "source": [
    "answer(86)"
   ]
  },
  {
   "cell_type": "markdown",
   "id": "158f9945",
   "metadata": {},
   "source": [
    "#### 87. Consider a 16x16 array, how to get the block-sum (block size is 4x4)? (★★★)"
   ]
  },
  {
   "cell_type": "code",
   "execution_count": 104,
   "id": "5a9b808f",
   "metadata": {},
   "outputs": [
    {
     "name": "stdout",
     "output_type": "stream",
     "text": [
      "# Author: Robert Kern\n",
      "\n",
      "Z = np.ones((16,16))\n",
      "k = 4\n",
      "S = np.add.reduceat(np.add.reduceat(Z, np.arange(0, Z.shape[0], k), axis=0),\n",
      "                                       np.arange(0, Z.shape[1], k), axis=1)\n",
      "print(S)\n",
      "\n",
      "# alternative solution:\n",
      "# Author: Sebastian Wallkötter (@FirefoxMetzger)\n",
      "\n",
      "Z = np.ones((16,16))\n",
      "k = 4\n",
      "\n",
      "windows = np.lib.stride_tricks.sliding_window_view(Z, (k, k))\n",
      "S = windows[::k, ::k, ...].sum(axis=(-2, -1))\n",
      "\n",
      "# Author: Jeff Luo (@Jeff1999)\n",
      "\n",
      "Z = np.ones((16, 16))\n",
      "k = 4\n",
      "print(sliding_window_view(Z, window_shape=(k, k))[::k, ::k].sum(axis=(-2, -1)))\n"
     ]
    }
   ],
   "source": [
    "answer(87)"
   ]
  },
  {
   "cell_type": "markdown",
   "id": "2e0ad860",
   "metadata": {},
   "source": [
    "#### 88. How to implement the Game of Life using numpy arrays? (★★★)"
   ]
  },
  {
   "cell_type": "code",
   "execution_count": 105,
   "id": "574acff5",
   "metadata": {},
   "outputs": [
    {
     "name": "stdout",
     "output_type": "stream",
     "text": [
      "# Author: Nicolas Rougier\n",
      "\n",
      "def iterate(Z):\n",
      "    # Count neighbours\n",
      "    N = (Z[0:-2,0:-2] + Z[0:-2,1:-1] + Z[0:-2,2:] +\n",
      "         Z[1:-1,0:-2]                + Z[1:-1,2:] +\n",
      "         Z[2:  ,0:-2] + Z[2:  ,1:-1] + Z[2:  ,2:])\n",
      "\n",
      "    # Apply rules\n",
      "    birth = (N==3) & (Z[1:-1,1:-1]==0)\n",
      "    survive = ((N==2) | (N==3)) & (Z[1:-1,1:-1]==1)\n",
      "    Z[...] = 0\n",
      "    Z[1:-1,1:-1][birth | survive] = 1\n",
      "    return Z\n",
      "\n",
      "Z = np.random.randint(0,2,(50,50))\n",
      "for i in range(100): Z = iterate(Z)\n",
      "print(Z)\n"
     ]
    }
   ],
   "source": [
    "answer(88)"
   ]
  },
  {
   "cell_type": "markdown",
   "id": "69a892fa",
   "metadata": {},
   "source": [
    "#### 89. How to get the n largest values of an array (★★★)"
   ]
  },
  {
   "cell_type": "code",
   "execution_count": 106,
   "id": "21b2bd48",
   "metadata": {},
   "outputs": [
    {
     "name": "stdout",
     "output_type": "stream",
     "text": [
      "Z = np.arange(10000)\n",
      "np.random.shuffle(Z)\n",
      "n = 5\n",
      "\n",
      "# Slow\n",
      "print (Z[np.argsort(Z)[-n:]])\n",
      "\n",
      "# Fast\n",
      "print (Z[np.argpartition(-Z,n)[:n]])\n"
     ]
    }
   ],
   "source": [
    "answer(89)"
   ]
  },
  {
   "cell_type": "markdown",
   "id": "b55ccacc",
   "metadata": {},
   "source": [
    "#### 90. Given an arbitrary number of vectors, build the cartesian product (every combinations of every item) (★★★)"
   ]
  },
  {
   "cell_type": "code",
   "execution_count": 107,
   "id": "4b645da4",
   "metadata": {},
   "outputs": [
    {
     "name": "stdout",
     "output_type": "stream",
     "text": [
      "# Author: Stefan Van der Walt\n",
      "\n",
      "def cartesian(arrays):\n",
      "    arrays = [np.asarray(a) for a in arrays]\n",
      "    shape = (len(x) for x in arrays)\n",
      "\n",
      "    ix = np.indices(shape, dtype=int)\n",
      "    ix = ix.reshape(len(arrays), -1).T\n",
      "\n",
      "    for n, arr in enumerate(arrays):\n",
      "        ix[:, n] = arrays[n][ix[:, n]]\n",
      "\n",
      "    return ix\n",
      "\n",
      "print (cartesian(([1, 2, 3], [4, 5], [6, 7])))\n"
     ]
    }
   ],
   "source": [
    "answer(90)"
   ]
  },
  {
   "cell_type": "markdown",
   "id": "89187a23",
   "metadata": {},
   "source": [
    "#### 91. How to create a record array from a regular array? (★★★)"
   ]
  },
  {
   "cell_type": "code",
   "execution_count": 108,
   "id": "da94c71a",
   "metadata": {},
   "outputs": [
    {
     "name": "stdout",
     "output_type": "stream",
     "text": [
      "Z = np.array([(\"Hello\", 2.5, 3),\n",
      "              (\"World\", 3.6, 2)])\n",
      "R = np.core.records.fromarrays(Z.T,\n",
      "                               names='col1, col2, col3',\n",
      "                               formats = 'S8, f8, i8')\n",
      "print(R)\n"
     ]
    }
   ],
   "source": [
    "answer(91)"
   ]
  },
  {
   "cell_type": "markdown",
   "id": "aa70d4ca",
   "metadata": {},
   "source": [
    "#### 92. Consider a large vector Z, compute Z to the power of 3 using 3 different methods (★★★)"
   ]
  },
  {
   "cell_type": "code",
   "execution_count": 109,
   "id": "7cff1bf5",
   "metadata": {},
   "outputs": [
    {
     "name": "stdout",
     "output_type": "stream",
     "text": [
      "# Author: Ryan G.\n",
      "\n",
      "x = np.random.rand(int(5e7))\n",
      "\n",
      "%timeit np.power(x,3)\n",
      "%timeit x*x*x\n",
      "%timeit np.einsum('i,i,i->i',x,x,x)\n"
     ]
    }
   ],
   "source": [
    "answer(92)"
   ]
  },
  {
   "cell_type": "markdown",
   "id": "5f79dd00",
   "metadata": {},
   "source": [
    "#### 93. Consider two arrays A and B of shape (8,3) and (2,2). How to find rows of A that contain elements of each row of B regardless of the order of the elements in B? (★★★)"
   ]
  },
  {
   "cell_type": "code",
   "execution_count": 110,
   "id": "20c105b2",
   "metadata": {},
   "outputs": [
    {
     "name": "stdout",
     "output_type": "stream",
     "text": [
      "# Author: Gabe Schwartz\n",
      "\n",
      "A = np.random.randint(0,5,(8,3))\n",
      "B = np.random.randint(0,5,(2,2))\n",
      "\n",
      "C = (A[..., np.newaxis, np.newaxis] == B)\n",
      "rows = np.where(C.any((3,1)).all(1))[0]\n",
      "print(rows)\n"
     ]
    }
   ],
   "source": [
    "answer(93)"
   ]
  },
  {
   "cell_type": "markdown",
   "id": "a80570cd",
   "metadata": {},
   "source": [
    "#### 94. Considering a 10x3 matrix, extract rows with unequal values (e.g. [2,2,3]) (★★★)"
   ]
  },
  {
   "cell_type": "code",
   "execution_count": 111,
   "id": "84db8de1",
   "metadata": {},
   "outputs": [
    {
     "name": "stdout",
     "output_type": "stream",
     "text": [
      "# Author: Robert Kern\n",
      "\n",
      "Z = np.random.randint(0,5,(10,3))\n",
      "print(Z)\n",
      "# solution for arrays of all dtypes (including string arrays and record arrays)\n",
      "E = np.all(Z[:,1:] == Z[:,:-1], axis=1)\n",
      "U = Z[~E]\n",
      "print(U)\n",
      "# soluiton for numerical arrays only, will work for any number of columns in Z\n",
      "U = Z[Z.max(axis=1) != Z.min(axis=1),:]\n",
      "print(U)\n"
     ]
    }
   ],
   "source": [
    "answer(94)"
   ]
  },
  {
   "cell_type": "markdown",
   "id": "ba154f43",
   "metadata": {},
   "source": [
    "#### 95. Convert a vector of ints into a matrix binary representation (★★★)"
   ]
  },
  {
   "cell_type": "code",
   "execution_count": 112,
   "id": "cfa96e1b",
   "metadata": {},
   "outputs": [
    {
     "name": "stdout",
     "output_type": "stream",
     "text": [
      "# Author: Warren Weckesser\n",
      "\n",
      "I = np.array([0, 1, 2, 3, 15, 16, 32, 64, 128])\n",
      "B = ((I.reshape(-1,1) & (2**np.arange(8))) != 0).astype(int)\n",
      "print(B[:,::-1])\n",
      "\n",
      "# Author: Daniel T. McDonald\n",
      "\n",
      "I = np.array([0, 1, 2, 3, 15, 16, 32, 64, 128], dtype=np.uint8)\n",
      "print(np.unpackbits(I[:, np.newaxis], axis=1))\n"
     ]
    }
   ],
   "source": [
    "answer(95)"
   ]
  },
  {
   "cell_type": "markdown",
   "id": "420e2343",
   "metadata": {},
   "source": [
    "#### 96. Given a two dimensional array, how to extract unique rows? (★★★)"
   ]
  },
  {
   "cell_type": "code",
   "execution_count": 113,
   "id": "4680dfd0",
   "metadata": {},
   "outputs": [
    {
     "name": "stdout",
     "output_type": "stream",
     "text": [
      "# Author: Jaime Fernández del Río\n",
      "\n",
      "Z = np.random.randint(0,2,(6,3))\n",
      "T = np.ascontiguousarray(Z).view(np.dtype((np.void, Z.dtype.itemsize * Z.shape[1])))\n",
      "_, idx = np.unique(T, return_index=True)\n",
      "uZ = Z[idx]\n",
      "print(uZ)\n",
      "\n",
      "# Author: Andreas Kouzelis\n",
      "# NumPy >= 1.13\n",
      "uZ = np.unique(Z, axis=0)\n",
      "print(uZ)\n"
     ]
    }
   ],
   "source": [
    "answer(96)"
   ]
  },
  {
   "cell_type": "markdown",
   "id": "89fef2f3",
   "metadata": {},
   "source": [
    "#### 97. Considering 2 vectors A & B, write the einsum equivalent of inner, outer, sum, and mul function (★★★)"
   ]
  },
  {
   "cell_type": "code",
   "execution_count": 114,
   "id": "bb9c14b2",
   "metadata": {},
   "outputs": [
    {
     "name": "stdout",
     "output_type": "stream",
     "text": [
      "# Author: Alex Riley\n",
      "# Make sure to read: http://ajcr.net/Basic-guide-to-einsum/\n",
      "\n",
      "A = np.random.uniform(0,1,10)\n",
      "B = np.random.uniform(0,1,10)\n",
      "\n",
      "np.einsum('i->', A)       # np.sum(A)\n",
      "np.einsum('i,i->i', A, B) # A * B\n",
      "np.einsum('i,i', A, B)    # np.inner(A, B)\n",
      "np.einsum('i,j->ij', A, B)    # np.outer(A, B)\n"
     ]
    }
   ],
   "source": [
    "answer(97)"
   ]
  },
  {
   "cell_type": "markdown",
   "id": "7ad5cc5f",
   "metadata": {},
   "source": [
    "#### 98. Considering a path described by two vectors (X,Y), how to sample it using equidistant samples (★★★)?"
   ]
  },
  {
   "cell_type": "code",
   "execution_count": 115,
   "id": "0899d1d5",
   "metadata": {},
   "outputs": [
    {
     "name": "stdout",
     "output_type": "stream",
     "text": [
      "# Author: Bas Swinckels\n",
      "\n",
      "phi = np.arange(0, 10*np.pi, 0.1)\n",
      "a = 1\n",
      "x = a*phi*np.cos(phi)\n",
      "y = a*phi*np.sin(phi)\n",
      "\n",
      "dr = (np.diff(x)**2 + np.diff(y)**2)**.5 # segment lengths\n",
      "r = np.zeros_like(x)\n",
      "r[1:] = np.cumsum(dr)                # integrate path\n",
      "r_int = np.linspace(0, r.max(), 200) # regular spaced path\n",
      "x_int = np.interp(r_int, r, x)       # integrate path\n",
      "y_int = np.interp(r_int, r, y)\n"
     ]
    }
   ],
   "source": [
    "answer(98)"
   ]
  },
  {
   "cell_type": "markdown",
   "id": "2b69272e",
   "metadata": {},
   "source": [
    "#### 99. Given an integer n and a 2D array X, select from X the rows which can be interpreted as draws from a multinomial distribution with n degrees, i.e., the rows which only contain integers and which sum to n. (★★★)"
   ]
  },
  {
   "cell_type": "code",
   "execution_count": 116,
   "id": "55c8b034",
   "metadata": {},
   "outputs": [
    {
     "name": "stdout",
     "output_type": "stream",
     "text": [
      "# Author: Evgeni Burovski\n",
      "\n",
      "X = np.asarray([[1.0, 0.0, 3.0, 8.0],\n",
      "                [2.0, 0.0, 1.0, 1.0],\n",
      "                [1.5, 2.5, 1.0, 0.0]])\n",
      "n = 4\n",
      "M = np.logical_and.reduce(np.mod(X, 1) == 0, axis=-1)\n",
      "M &= (X.sum(axis=-1) == n)\n",
      "print(X[M])\n"
     ]
    }
   ],
   "source": [
    "answer(99)"
   ]
  },
  {
   "cell_type": "markdown",
   "id": "59ab5516",
   "metadata": {},
   "source": [
    "#### 100. Compute bootstrapped 95% confidence intervals for the mean of a 1D array X (i.e., resample the elements of an array with replacement N times, compute the mean of each sample, and then compute percentiles over the means). (★★★)"
   ]
  },
  {
   "cell_type": "code",
   "execution_count": 117,
   "id": "450877d8",
   "metadata": {},
   "outputs": [
    {
     "name": "stdout",
     "output_type": "stream",
     "text": [
      "# Author: Jessica B. Hamrick\n",
      "\n",
      "X = np.random.randn(100) # random 1D array\n",
      "N = 1000 # number of bootstrap samples\n",
      "idx = np.random.randint(0, X.size, (N, X.size))\n",
      "means = X[idx].mean(axis=1)\n",
      "confint = np.percentile(means, [2.5, 97.5])\n",
      "print(confint)\n"
     ]
    }
   ],
   "source": [
    "answer(100)"
   ]
  },
  {
   "cell_type": "code",
   "execution_count": null,
   "id": "25292992-d933-40aa-99c7-692e0ee7c38a",
   "metadata": {},
   "outputs": [],
   "source": []
  }
 ],
 "metadata": {
  "kernelspec": {
   "display_name": "Python 3 (ipykernel)",
   "language": "python",
   "name": "python3"
  },
  "language_info": {
   "codemirror_mode": {
    "name": "ipython",
    "version": 3
   },
   "file_extension": ".py",
   "mimetype": "text/x-python",
   "name": "python",
   "nbconvert_exporter": "python",
   "pygments_lexer": "ipython3",
   "version": "3.12.7"
  }
 },
 "nbformat": 4,
 "nbformat_minor": 5
}
